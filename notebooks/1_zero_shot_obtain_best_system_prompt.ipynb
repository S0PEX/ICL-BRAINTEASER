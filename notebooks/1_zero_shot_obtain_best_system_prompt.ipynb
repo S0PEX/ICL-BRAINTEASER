{
 "cells": [
  {
   "cell_type": "code",
   "execution_count": 1,
   "metadata": {},
   "outputs": [],
   "source": [
    "from scripts import setup_environment\n",
    "\n",
    "setup_environment()"
   ]
  },
  {
   "cell_type": "code",
   "execution_count": 2,
   "metadata": {},
   "outputs": [],
   "source": [
    "from scripts.dataset import BrainteaserDataset\n",
    "\n",
    "dataset = BrainteaserDataset(\"data\")"
   ]
  },
  {
   "cell_type": "code",
   "execution_count": 3,
   "metadata": {},
   "outputs": [],
   "source": [
    "import string\n",
    "\n",
    "from scripts.dataset import RiddleQuestion\n",
    "from scripts.prompt_helpers import create_prompt_template\n",
    "\n",
    "\n",
    "def args_generator(riddle_question: RiddleQuestion):\n",
    "    template_args = {\n",
    "        \"question\": riddle_question.question,\n",
    "        \"choices\": \"\\n\".join(\n",
    "            [\n",
    "                f\"({string.ascii_uppercase[j]}) {choice}\"\n",
    "                for j, choice in enumerate(riddle_question.choice_list)\n",
    "            ]\n",
    "        ),\n",
    "    }\n",
    "\n",
    "    return template_args\n",
    "\n",
    "\n",
    "chat_prompt_template = create_prompt_template(\"default\")"
   ]
  },
  {
   "cell_type": "code",
   "execution_count": 4,
   "metadata": {},
   "outputs": [
    {
     "name": "stderr",
     "output_type": "stream",
     "text": [
      "2025-03-15 14:43:37,122 - INFO - Initialized executor with 15 models.\n"
     ]
    }
   ],
   "source": [
    "from scripts.lmm import OllamaModelBuilder\n",
    "from scripts.executor import Executor\n",
    "\n",
    "base_url = \"http://50.173.30.254:40106\"\n",
    "model_builder = OllamaModelBuilder(base_url, temperature=0)\n",
    "\n",
    "executor = Executor(\n",
    "    models=[\n",
    "        # Llama3.1\n",
    "        model_builder.build_model(\"llama3.1:8b\"),\n",
    "        # Llama3.2\n",
    "        model_builder.build_model(\"llama3.2:1b\"),\n",
    "        model_builder.build_model(\"llama3.2:3b\"),\n",
    "        # Phi3.5\n",
    "        model_builder.build_model(\"phi3.5:3.8b\"),\n",
    "        # Phi4\n",
    "        model_builder.build_model(\"phi4:14b\"),\n",
    "        # Qwen2.5\n",
    "        model_builder.build_model(\"qwen2.5:0.5b\"),\n",
    "        model_builder.build_model(\"qwen2.5:1.5b\"),\n",
    "        model_builder.build_model(\"qwen2.5:3b\"),\n",
    "        model_builder.build_model(\"qwen2.5:7b\"),\n",
    "        model_builder.build_model(\"qwen2.5:14b\"),\n",
    "        model_builder.build_model(\"qwen2.5:32b\"),\n",
    "        # Gemma2\n",
    "        model_builder.build_model(\"gemma2:2b\"),\n",
    "        model_builder.build_model(\"gemma2:9b\"),\n",
    "        model_builder.build_model(\"gemma2:27b\"),\n",
    "        # Mistral Nemo\n",
    "        model_builder.build_model(\"mistral-nemo:12b\"),\n",
    "    ]\n",
    ")"
   ]
  },
  {
   "cell_type": "code",
   "execution_count": 5,
   "metadata": {},
   "outputs": [],
   "source": [
    "import numpy as np\n",
    "\n",
    "from scripts.executor import Dataset\n",
    "\n",
    "# Set fixed seed for reproducibility\n",
    "np.random.seed(42)\n",
    "\n",
    "\n",
    "def create_test_dataset(data: list[RiddleQuestion], name: str, percentage: float = 0.1):\n",
    "    \"\"\"Create a test dataset by randomly sampling a percentage of the original data.\"\"\"\n",
    "    indices = np.random.choice(\n",
    "        len(data), size=int(len(data) * percentage), replace=False\n",
    "    )\n",
    "    return Dataset(name=name, riddles=[data[i] for i in indices])\n",
    "\n",
    "\n",
    "# Create test datasets\n",
    "sp_data = create_test_dataset(dataset.sp, \"sp\")\n",
    "wp_data = create_test_dataset(dataset.wp, \"wp\")\n",
    "\n",
    "# Prepare executor data\n",
    "executor_data = [sp_data, wp_data]"
   ]
  },
  {
   "cell_type": "code",
   "execution_count": 6,
   "metadata": {},
   "outputs": [
    {
     "name": "stderr",
     "output_type": "stream",
     "text": [
      "2025-03-15 14:43:37,143 - INFO - Starting execution 'zero-shot-obtain-best-system-prompt with suffix 'default'': 2 dataset(s) x 15 model(s) = 1665 riddle evaluations\n"
     ]
    },
    {
     "data": {
      "application/vnd.jupyter.widget-view+json": {
       "model_id": "c9e9093e917a4f0da030b94fea93bfde",
       "version_major": 2,
       "version_minor": 0
      },
      "text/plain": [
       "zero-shot-obtain-best-system-prompt(default):   0%|          | 0/1665 [00:00<?, ?it/s]"
      ]
     },
     "metadata": {},
     "output_type": "display_data"
    },
    {
     "name": "stderr",
     "output_type": "stream",
     "text": [
      "2025-03-15 14:43:37,268 - INFO - Starting execution 'zero-shot-obtain-best-system-prompt with suffix 'default-improved'': 2 dataset(s) x 15 model(s) = 1665 riddle evaluations\n"
     ]
    },
    {
     "data": {
      "application/vnd.jupyter.widget-view+json": {
       "model_id": "dcd8d4fb163a42398cb4e7c5956a418e",
       "version_major": 2,
       "version_minor": 0
      },
      "text/plain": [
       "zero-shot-obtain-best-system-prompt(default-improved):   0%|          | 0/1665 [00:00<?, ?it/s]"
      ]
     },
     "metadata": {},
     "output_type": "display_data"
    },
    {
     "name": "stderr",
     "output_type": "stream",
     "text": [
      "2025-03-15 14:43:37,422 - INFO - Starting execution 'zero-shot-obtain-best-system-prompt with suffix 'step-by-step'': 2 dataset(s) x 15 model(s) = 1665 riddle evaluations\n"
     ]
    },
    {
     "data": {
      "application/vnd.jupyter.widget-view+json": {
       "model_id": "9fa92254a92442088649a095864773d6",
       "version_major": 2,
       "version_minor": 0
      },
      "text/plain": [
       "zero-shot-obtain-best-system-prompt(step-by-step):   0%|          | 0/1665 [00:00<?, ?it/s]"
      ]
     },
     "metadata": {},
     "output_type": "display_data"
    },
    {
     "name": "stderr",
     "output_type": "stream",
     "text": [
      "2025-03-15 14:43:37,462 - INFO - Starting execution 'zero-shot-obtain-best-system-prompt with suffix 'creative'': 2 dataset(s) x 15 model(s) = 1665 riddle evaluations\n"
     ]
    },
    {
     "data": {
      "application/vnd.jupyter.widget-view+json": {
       "model_id": "c15d3cf396114b7a851fa3f685325361",
       "version_major": 2,
       "version_minor": 0
      },
      "text/plain": [
       "zero-shot-obtain-best-system-prompt(creative):   0%|          | 0/1665 [00:00<?, ?it/s]"
      ]
     },
     "metadata": {},
     "output_type": "display_data"
    },
    {
     "name": "stderr",
     "output_type": "stream",
     "text": [
      "2025-03-15 14:43:37,616 - INFO - Starting execution 'zero-shot-obtain-best-system-prompt with suffix 'elimination'': 2 dataset(s) x 15 model(s) = 1665 riddle evaluations\n"
     ]
    },
    {
     "data": {
      "application/vnd.jupyter.widget-view+json": {
       "model_id": "0be7f0d66369421cbe3408d33bd189ea",
       "version_major": 2,
       "version_minor": 0
      },
      "text/plain": [
       "zero-shot-obtain-best-system-prompt(elimination):   0%|          | 0/1665 [00:00<?, ?it/s]"
      ]
     },
     "metadata": {},
     "output_type": "display_data"
    },
    {
     "name": "stderr",
     "output_type": "stream",
     "text": [
      "2025-03-15 14:43:37,761 - INFO - Starting execution 'zero-shot-obtain-best-system-prompt with suffix 'metaphor'': 2 dataset(s) x 15 model(s) = 1665 riddle evaluations\n"
     ]
    },
    {
     "data": {
      "application/vnd.jupyter.widget-view+json": {
       "model_id": "5b1daa07877b4171a0390115944b9da2",
       "version_major": 2,
       "version_minor": 0
      },
      "text/plain": [
       "zero-shot-obtain-best-system-prompt(metaphor):   0%|          | 0/1665 [00:00<?, ?it/s]"
      ]
     },
     "metadata": {},
     "output_type": "display_data"
    },
    {
     "name": "stderr",
     "output_type": "stream",
     "text": [
      "2025-03-15 14:43:37,920 - INFO - Starting execution 'zero-shot-obtain-best-system-prompt with suffix 'confidence'': 2 dataset(s) x 15 model(s) = 1665 riddle evaluations\n"
     ]
    },
    {
     "data": {
      "application/vnd.jupyter.widget-view+json": {
       "model_id": "66f50fe0276c4664a24fd3b66f68c0a4",
       "version_major": 2,
       "version_minor": 0
      },
      "text/plain": [
       "zero-shot-obtain-best-system-prompt(confidence):   0%|          | 0/1665 [00:00<?, ?it/s]"
      ]
     },
     "metadata": {},
     "output_type": "display_data"
    },
    {
     "name": "stderr",
     "output_type": "stream",
     "text": [
      "2025-03-15 14:43:37,959 - INFO - Starting execution 'zero-shot-obtain-best-system-prompt with suffix 'perspective-shift'': 2 dataset(s) x 15 model(s) = 1665 riddle evaluations\n"
     ]
    },
    {
     "data": {
      "application/vnd.jupyter.widget-view+json": {
       "model_id": "e88c2c77da2a4d78aa83865d703ec3df",
       "version_major": 2,
       "version_minor": 0
      },
      "text/plain": [
       "zero-shot-obtain-best-system-prompt(perspective-shift):   0%|          | 0/1665 [00:00<?, ?it/s]"
      ]
     },
     "metadata": {},
     "output_type": "display_data"
    },
    {
     "name": "stderr",
     "output_type": "stream",
     "text": [
      "2025-03-15 14:43:38,109 - INFO - Starting execution 'zero-shot-obtain-best-system-prompt with suffix 'common-sense'': 2 dataset(s) x 15 model(s) = 1665 riddle evaluations\n"
     ]
    },
    {
     "data": {
      "application/vnd.jupyter.widget-view+json": {
       "model_id": "212b7eb1105349a69de702264337c054",
       "version_major": 2,
       "version_minor": 0
      },
      "text/plain": [
       "zero-shot-obtain-best-system-prompt(common-sense):   0%|          | 0/1665 [00:00<?, ?it/s]"
      ]
     },
     "metadata": {},
     "output_type": "display_data"
    },
    {
     "name": "stderr",
     "output_type": "stream",
     "text": [
      "2025-03-15 14:43:38,261 - INFO - Starting execution 'zero-shot-obtain-best-system-prompt with suffix 'assumption-challenge'': 2 dataset(s) x 15 model(s) = 1665 riddle evaluations\n"
     ]
    },
    {
     "data": {
      "application/vnd.jupyter.widget-view+json": {
       "model_id": "b0f2f6f089dc4898ba84346063844e2f",
       "version_major": 2,
       "version_minor": 0
      },
      "text/plain": [
       "zero-shot-obtain-best-system-prompt(assumption-challenge):   0%|          | 0/1665 [00:00<?, ?it/s]"
      ]
     },
     "metadata": {},
     "output_type": "display_data"
    },
    {
     "name": "stderr",
     "output_type": "stream",
     "text": [
      "2025-03-15 14:43:38,300 - INFO - Starting execution 'zero-shot-obtain-best-system-prompt with suffix 'pattern-matching'': 2 dataset(s) x 15 model(s) = 1665 riddle evaluations\n"
     ]
    },
    {
     "data": {
      "application/vnd.jupyter.widget-view+json": {
       "model_id": "8cf7d6a9705d48c98b160fede7b54bcf",
       "version_major": 2,
       "version_minor": 0
      },
      "text/plain": [
       "zero-shot-obtain-best-system-prompt(pattern-matching):   0%|          | 0/1665 [00:00<?, ?it/s]"
      ]
     },
     "metadata": {},
     "output_type": "display_data"
    },
    {
     "name": "stderr",
     "output_type": "stream",
     "text": [
      "2025-03-15 14:43:38,444 - INFO - Starting execution 'zero-shot-obtain-best-system-prompt with suffix 'intuitive'': 2 dataset(s) x 15 model(s) = 1665 riddle evaluations\n"
     ]
    },
    {
     "data": {
      "application/vnd.jupyter.widget-view+json": {
       "model_id": "41d0c5b534ab4d659b812b4697968d3e",
       "version_major": 2,
       "version_minor": 0
      },
      "text/plain": [
       "zero-shot-obtain-best-system-prompt(intuitive):   0%|          | 0/1665 [00:00<?, ?it/s]"
      ]
     },
     "metadata": {},
     "output_type": "display_data"
    }
   ],
   "source": [
    "from scripts.prompt_helpers import system_templates\n",
    "\n",
    "total_results = {}\n",
    "\n",
    "for technique in system_templates:\n",
    "    chat_prompt_template = create_prompt_template(technique)\n",
    "    results = await executor.aexecute(\n",
    "        executor_data,\n",
    "        chat_prompt_template,\n",
    "        args_generator,\n",
    "        dump_to_pickle=True,\n",
    "        create_checkpoints=True,\n",
    "        resume_from_checkpoint=True,\n",
    "        run_name=\"zero-shot-obtain-best-system-prompt\",\n",
    "        file_name_suffix=technique,\n",
    "    )"
   ]
  },
  {
   "cell_type": "markdown",
   "metadata": {},
   "source": [
    "## Eval results\n"
   ]
  },
  {
   "cell_type": "code",
   "execution_count": 7,
   "metadata": {},
   "outputs": [
    {
     "name": "stdout",
     "output_type": "stream",
     "text": [
      "Loaded 12 result sets from disk.\n"
     ]
    }
   ],
   "source": [
    "import os\n",
    "import glob\n",
    "import pickle\n",
    "from pathlib import Path\n",
    "\n",
    "# Define the results directory path\n",
    "results_dir = Path(\"results/zero-shot-obtain-best-system-prompt\")\n",
    "\n",
    "# Get all result files\n",
    "result_files = glob.glob(\n",
    "    str(results_dir / \"zero-shot-obtain-best-system-prompt_*_results.pkl\")\n",
    ")\n",
    "\n",
    "# Load all results into a dictionary\n",
    "# The first key is the suffix (technique name)\n",
    "total_results = {}\n",
    "\n",
    "for file_path in result_files:\n",
    "    # Extract the suffix from the filename\n",
    "    suffix = os.path.basename(file_path).split(\"_\")[1]\n",
    "\n",
    "    # Load the results from the pickle file\n",
    "    with open(file_path, \"rb\") as f:\n",
    "        wrapped_results = pickle.load(f)\n",
    "        total_results[suffix] = wrapped_results.results\n",
    "\n",
    "print(f\"Loaded {len(total_results)} result sets from disk.\")"
   ]
  },
  {
   "cell_type": "code",
   "execution_count": 8,
   "metadata": {},
   "outputs": [],
   "source": [
    "import numpy as np\n",
    "import pandas as pd\n",
    "from IPython.display import display\n",
    "\n",
    "from scripts.evaluation import calculate_model_accuracy\n",
    "from scripts.prompt_helpers import system_templates\n",
    "\n",
    "\n",
    "def get_best_n_prompts_for_each_model(input_data, n=5, score_threshold_pct=6):\n",
    "    best_prompts = {}\n",
    "\n",
    "    # Iterate through each model\n",
    "    for prompt_type, datasets in input_data.items():\n",
    "        if prompt_type == \"default\":\n",
    "            continue\n",
    "        for dataset_type, models in datasets.items():\n",
    "            for model, result in models.items():\n",
    "                # Initialize the best prompt data structure for this model if not yet created\n",
    "                if model not in best_prompts:\n",
    "                    best_prompts[model] = {}\n",
    "\n",
    "                # Calculate the score for the model with the current prompt type and dataset\n",
    "                _, _, score, _ = calculate_model_accuracy(result)\n",
    "\n",
    "                # Get the prompt string length\n",
    "                prompt_length = len(system_templates[prompt_type])\n",
    "\n",
    "                # Initialize the list of prompts for this model and dataset type if not created\n",
    "                if dataset_type not in best_prompts[model]:\n",
    "                    best_prompts[model][dataset_type] = []\n",
    "\n",
    "                # Append the prompt type, score, and length to the list\n",
    "                best_prompts[model][dataset_type].append(\n",
    "                    {\n",
    "                        \"prompt_type\": prompt_type,\n",
    "                        \"prompt_length\": prompt_length,\n",
    "                        \"score\": score,\n",
    "                    }\n",
    "                )\n",
    "\n",
    "    # Now sort the list of prompts for each model and dataset type and keep the top n\n",
    "    top_n_prompts = {}\n",
    "    for model, dataset_dict in best_prompts.items():\n",
    "        top_n_prompts_for_model = {}\n",
    "        for dataset_type, prompts in dataset_dict.items():\n",
    "            # Sort prompts by score (highest first)\n",
    "            sorted_prompts = sorted(prompts, key=lambda x: x[\"score\"], reverse=True)\n",
    "\n",
    "            # Get the best score\n",
    "            best_score = sorted_prompts[0][\"score\"] if sorted_prompts else 0\n",
    "\n",
    "            # Filter prompts that are within score_threshold_pct% of the best score\n",
    "            threshold = best_score * (1 - score_threshold_pct / 100)\n",
    "            close_to_best = [p for p in sorted_prompts if p[\"score\"] >= threshold]\n",
    "\n",
    "            # For prompts with very close scores, favor shorter ones\n",
    "            # Sort by score first, then by prompt length (ascending)\n",
    "            close_to_best.sort(key=lambda x: (-x[\"score\"], x[\"prompt_length\"]))\n",
    "\n",
    "            # Take the top n from the sorted list\n",
    "            top_n_prompts_for_model[dataset_type] = close_to_best[:n]\n",
    "\n",
    "        top_n_prompts[model] = top_n_prompts_for_model\n",
    "\n",
    "    return top_n_prompts\n",
    "\n",
    "\n",
    "def get_best_prompt_for_each_model(input_data):\n",
    "    # Use get_best_n_prompts_for_each_model with n=1 to get the best prompt for each model\n",
    "    best_n_prompts = get_best_n_prompts_for_each_model(input_data, n=1)\n",
    "\n",
    "    # Convert the format to match the expected output\n",
    "    best_prompts = {}\n",
    "    for model, dataset_dict in best_n_prompts.items():\n",
    "        best_prompts[model] = {}\n",
    "        for dataset_type, prompts in dataset_dict.items():\n",
    "            # Since we requested n=1, there's only one prompt in the list\n",
    "            best_prompt = prompts[0]\n",
    "            best_prompts[model][dataset_type] = {\n",
    "                \"prompt_type\": best_prompt[\"prompt_type\"],\n",
    "                \"score\": best_prompt[\"score\"],\n",
    "            }\n",
    "\n",
    "    return best_prompts"
   ]
  },
  {
   "cell_type": "code",
   "execution_count": 9,
   "metadata": {},
   "outputs": [
    {
     "name": "stdout",
     "output_type": "stream",
     "text": [
      "\n",
      "--------------------------------------------------------------------------------\n",
      "Model: llama3.1:8b\n",
      "\n",
      "Dataset: sp\n"
     ]
    },
    {
     "data": {
      "text/html": [
       "<div>\n",
       "<style scoped>\n",
       "    .dataframe tbody tr th:only-of-type {\n",
       "        vertical-align: middle;\n",
       "    }\n",
       "\n",
       "    .dataframe tbody tr th {\n",
       "        vertical-align: top;\n",
       "    }\n",
       "\n",
       "    .dataframe thead th {\n",
       "        text-align: right;\n",
       "    }\n",
       "</style>\n",
       "<table border=\"1\" class=\"dataframe\">\n",
       "  <thead>\n",
       "    <tr style=\"text-align: right;\">\n",
       "      <th></th>\n",
       "      <th>Prompt Type</th>\n",
       "      <th>Prompt Length</th>\n",
       "      <th>Score</th>\n",
       "    </tr>\n",
       "  </thead>\n",
       "  <tbody>\n",
       "    <tr>\n",
       "      <th>0</th>\n",
       "      <td>confidence</td>\n",
       "      <td>178</td>\n",
       "      <td>59.6774</td>\n",
       "    </tr>\n",
       "    <tr>\n",
       "      <th>1</th>\n",
       "      <td>pattern-matching</td>\n",
       "      <td>176</td>\n",
       "      <td>56.4516</td>\n",
       "    </tr>\n",
       "    <tr>\n",
       "      <th>2</th>\n",
       "      <td>metaphor</td>\n",
       "      <td>187</td>\n",
       "      <td>56.4516</td>\n",
       "    </tr>\n",
       "  </tbody>\n",
       "</table>\n",
       "</div>"
      ],
      "text/plain": [
       "        Prompt Type  Prompt Length    Score\n",
       "0        confidence            178  59.6774\n",
       "1  pattern-matching            176  56.4516\n",
       "2          metaphor            187  56.4516"
      ]
     },
     "metadata": {},
     "output_type": "display_data"
    },
    {
     "name": "stdout",
     "output_type": "stream",
     "text": [
      "\n",
      "Dataset: wp\n"
     ]
    },
    {
     "data": {
      "text/html": [
       "<div>\n",
       "<style scoped>\n",
       "    .dataframe tbody tr th:only-of-type {\n",
       "        vertical-align: middle;\n",
       "    }\n",
       "\n",
       "    .dataframe tbody tr th {\n",
       "        vertical-align: top;\n",
       "    }\n",
       "\n",
       "    .dataframe thead th {\n",
       "        text-align: right;\n",
       "    }\n",
       "</style>\n",
       "<table border=\"1\" class=\"dataframe\">\n",
       "  <thead>\n",
       "    <tr style=\"text-align: right;\">\n",
       "      <th></th>\n",
       "      <th>Prompt Type</th>\n",
       "      <th>Prompt Length</th>\n",
       "      <th>Score</th>\n",
       "    </tr>\n",
       "  </thead>\n",
       "  <tbody>\n",
       "    <tr>\n",
       "      <th>0</th>\n",
       "      <td>default-improved</td>\n",
       "      <td>160</td>\n",
       "      <td>57.1429</td>\n",
       "    </tr>\n",
       "    <tr>\n",
       "      <th>1</th>\n",
       "      <td>creative</td>\n",
       "      <td>193</td>\n",
       "      <td>55.1020</td>\n",
       "    </tr>\n",
       "  </tbody>\n",
       "</table>\n",
       "</div>"
      ],
      "text/plain": [
       "        Prompt Type  Prompt Length    Score\n",
       "0  default-improved            160  57.1429\n",
       "1          creative            193  55.1020"
      ]
     },
     "metadata": {},
     "output_type": "display_data"
    },
    {
     "name": "stdout",
     "output_type": "stream",
     "text": [
      "\n",
      "--------------------------------------------------------------------------------\n",
      "Model: llama3.2:1b\n",
      "\n",
      "Dataset: sp\n"
     ]
    },
    {
     "data": {
      "text/html": [
       "<div>\n",
       "<style scoped>\n",
       "    .dataframe tbody tr th:only-of-type {\n",
       "        vertical-align: middle;\n",
       "    }\n",
       "\n",
       "    .dataframe tbody tr th {\n",
       "        vertical-align: top;\n",
       "    }\n",
       "\n",
       "    .dataframe thead th {\n",
       "        text-align: right;\n",
       "    }\n",
       "</style>\n",
       "<table border=\"1\" class=\"dataframe\">\n",
       "  <thead>\n",
       "    <tr style=\"text-align: right;\">\n",
       "      <th></th>\n",
       "      <th>Prompt Type</th>\n",
       "      <th>Prompt Length</th>\n",
       "      <th>Score</th>\n",
       "    </tr>\n",
       "  </thead>\n",
       "  <tbody>\n",
       "    <tr>\n",
       "      <th>0</th>\n",
       "      <td>step-by-step</td>\n",
       "      <td>251</td>\n",
       "      <td>19.3548</td>\n",
       "    </tr>\n",
       "  </tbody>\n",
       "</table>\n",
       "</div>"
      ],
      "text/plain": [
       "    Prompt Type  Prompt Length    Score\n",
       "0  step-by-step            251  19.3548"
      ]
     },
     "metadata": {},
     "output_type": "display_data"
    },
    {
     "name": "stdout",
     "output_type": "stream",
     "text": [
      "\n",
      "Dataset: wp\n"
     ]
    },
    {
     "data": {
      "text/html": [
       "<div>\n",
       "<style scoped>\n",
       "    .dataframe tbody tr th:only-of-type {\n",
       "        vertical-align: middle;\n",
       "    }\n",
       "\n",
       "    .dataframe tbody tr th {\n",
       "        vertical-align: top;\n",
       "    }\n",
       "\n",
       "    .dataframe thead th {\n",
       "        text-align: right;\n",
       "    }\n",
       "</style>\n",
       "<table border=\"1\" class=\"dataframe\">\n",
       "  <thead>\n",
       "    <tr style=\"text-align: right;\">\n",
       "      <th></th>\n",
       "      <th>Prompt Type</th>\n",
       "      <th>Prompt Length</th>\n",
       "      <th>Score</th>\n",
       "    </tr>\n",
       "  </thead>\n",
       "  <tbody>\n",
       "    <tr>\n",
       "      <th>0</th>\n",
       "      <td>step-by-step</td>\n",
       "      <td>251</td>\n",
       "      <td>8.1633</td>\n",
       "    </tr>\n",
       "  </tbody>\n",
       "</table>\n",
       "</div>"
      ],
      "text/plain": [
       "    Prompt Type  Prompt Length   Score\n",
       "0  step-by-step            251  8.1633"
      ]
     },
     "metadata": {},
     "output_type": "display_data"
    },
    {
     "name": "stdout",
     "output_type": "stream",
     "text": [
      "\n",
      "--------------------------------------------------------------------------------\n",
      "Model: llama3.2:3b\n",
      "\n",
      "Dataset: sp\n"
     ]
    },
    {
     "data": {
      "text/html": [
       "<div>\n",
       "<style scoped>\n",
       "    .dataframe tbody tr th:only-of-type {\n",
       "        vertical-align: middle;\n",
       "    }\n",
       "\n",
       "    .dataframe tbody tr th {\n",
       "        vertical-align: top;\n",
       "    }\n",
       "\n",
       "    .dataframe thead th {\n",
       "        text-align: right;\n",
       "    }\n",
       "</style>\n",
       "<table border=\"1\" class=\"dataframe\">\n",
       "  <thead>\n",
       "    <tr style=\"text-align: right;\">\n",
       "      <th></th>\n",
       "      <th>Prompt Type</th>\n",
       "      <th>Prompt Length</th>\n",
       "      <th>Score</th>\n",
       "    </tr>\n",
       "  </thead>\n",
       "  <tbody>\n",
       "    <tr>\n",
       "      <th>0</th>\n",
       "      <td>default-improved</td>\n",
       "      <td>160</td>\n",
       "      <td>41.9355</td>\n",
       "    </tr>\n",
       "    <tr>\n",
       "      <th>1</th>\n",
       "      <td>assumption-challenge</td>\n",
       "      <td>173</td>\n",
       "      <td>40.3226</td>\n",
       "    </tr>\n",
       "    <tr>\n",
       "      <th>2</th>\n",
       "      <td>elimination</td>\n",
       "      <td>182</td>\n",
       "      <td>40.3226</td>\n",
       "    </tr>\n",
       "  </tbody>\n",
       "</table>\n",
       "</div>"
      ],
      "text/plain": [
       "            Prompt Type  Prompt Length    Score\n",
       "0      default-improved            160  41.9355\n",
       "1  assumption-challenge            173  40.3226\n",
       "2           elimination            182  40.3226"
      ]
     },
     "metadata": {},
     "output_type": "display_data"
    },
    {
     "name": "stdout",
     "output_type": "stream",
     "text": [
      "\n",
      "Dataset: wp\n"
     ]
    },
    {
     "data": {
      "text/html": [
       "<div>\n",
       "<style scoped>\n",
       "    .dataframe tbody tr th:only-of-type {\n",
       "        vertical-align: middle;\n",
       "    }\n",
       "\n",
       "    .dataframe tbody tr th {\n",
       "        vertical-align: top;\n",
       "    }\n",
       "\n",
       "    .dataframe thead th {\n",
       "        text-align: right;\n",
       "    }\n",
       "</style>\n",
       "<table border=\"1\" class=\"dataframe\">\n",
       "  <thead>\n",
       "    <tr style=\"text-align: right;\">\n",
       "      <th></th>\n",
       "      <th>Prompt Type</th>\n",
       "      <th>Prompt Length</th>\n",
       "      <th>Score</th>\n",
       "    </tr>\n",
       "  </thead>\n",
       "  <tbody>\n",
       "    <tr>\n",
       "      <th>0</th>\n",
       "      <td>perspective-shift</td>\n",
       "      <td>179</td>\n",
       "      <td>36.7347</td>\n",
       "    </tr>\n",
       "  </tbody>\n",
       "</table>\n",
       "</div>"
      ],
      "text/plain": [
       "         Prompt Type  Prompt Length    Score\n",
       "0  perspective-shift            179  36.7347"
      ]
     },
     "metadata": {},
     "output_type": "display_data"
    },
    {
     "name": "stdout",
     "output_type": "stream",
     "text": [
      "\n",
      "--------------------------------------------------------------------------------\n",
      "Model: phi3.5:3.8b\n",
      "\n",
      "Dataset: sp\n"
     ]
    },
    {
     "data": {
      "text/html": [
       "<div>\n",
       "<style scoped>\n",
       "    .dataframe tbody tr th:only-of-type {\n",
       "        vertical-align: middle;\n",
       "    }\n",
       "\n",
       "    .dataframe tbody tr th {\n",
       "        vertical-align: top;\n",
       "    }\n",
       "\n",
       "    .dataframe thead th {\n",
       "        text-align: right;\n",
       "    }\n",
       "</style>\n",
       "<table border=\"1\" class=\"dataframe\">\n",
       "  <thead>\n",
       "    <tr style=\"text-align: right;\">\n",
       "      <th></th>\n",
       "      <th>Prompt Type</th>\n",
       "      <th>Prompt Length</th>\n",
       "      <th>Score</th>\n",
       "    </tr>\n",
       "  </thead>\n",
       "  <tbody>\n",
       "    <tr>\n",
       "      <th>0</th>\n",
       "      <td>elimination</td>\n",
       "      <td>182</td>\n",
       "      <td>25.8065</td>\n",
       "    </tr>\n",
       "  </tbody>\n",
       "</table>\n",
       "</div>"
      ],
      "text/plain": [
       "   Prompt Type  Prompt Length    Score\n",
       "0  elimination            182  25.8065"
      ]
     },
     "metadata": {},
     "output_type": "display_data"
    },
    {
     "name": "stdout",
     "output_type": "stream",
     "text": [
      "\n",
      "Dataset: wp\n"
     ]
    },
    {
     "data": {
      "text/html": [
       "<div>\n",
       "<style scoped>\n",
       "    .dataframe tbody tr th:only-of-type {\n",
       "        vertical-align: middle;\n",
       "    }\n",
       "\n",
       "    .dataframe tbody tr th {\n",
       "        vertical-align: top;\n",
       "    }\n",
       "\n",
       "    .dataframe thead th {\n",
       "        text-align: right;\n",
       "    }\n",
       "</style>\n",
       "<table border=\"1\" class=\"dataframe\">\n",
       "  <thead>\n",
       "    <tr style=\"text-align: right;\">\n",
       "      <th></th>\n",
       "      <th>Prompt Type</th>\n",
       "      <th>Prompt Length</th>\n",
       "      <th>Score</th>\n",
       "    </tr>\n",
       "  </thead>\n",
       "  <tbody>\n",
       "    <tr>\n",
       "      <th>0</th>\n",
       "      <td>creative</td>\n",
       "      <td>193</td>\n",
       "      <td>46.9388</td>\n",
       "    </tr>\n",
       "  </tbody>\n",
       "</table>\n",
       "</div>"
      ],
      "text/plain": [
       "  Prompt Type  Prompt Length    Score\n",
       "0    creative            193  46.9388"
      ]
     },
     "metadata": {},
     "output_type": "display_data"
    },
    {
     "name": "stdout",
     "output_type": "stream",
     "text": [
      "\n",
      "--------------------------------------------------------------------------------\n",
      "Model: phi4:14b\n",
      "\n",
      "Dataset: sp\n"
     ]
    },
    {
     "data": {
      "text/html": [
       "<div>\n",
       "<style scoped>\n",
       "    .dataframe tbody tr th:only-of-type {\n",
       "        vertical-align: middle;\n",
       "    }\n",
       "\n",
       "    .dataframe tbody tr th {\n",
       "        vertical-align: top;\n",
       "    }\n",
       "\n",
       "    .dataframe thead th {\n",
       "        text-align: right;\n",
       "    }\n",
       "</style>\n",
       "<table border=\"1\" class=\"dataframe\">\n",
       "  <thead>\n",
       "    <tr style=\"text-align: right;\">\n",
       "      <th></th>\n",
       "      <th>Prompt Type</th>\n",
       "      <th>Prompt Length</th>\n",
       "      <th>Score</th>\n",
       "    </tr>\n",
       "  </thead>\n",
       "  <tbody>\n",
       "    <tr>\n",
       "      <th>0</th>\n",
       "      <td>default-improved</td>\n",
       "      <td>160</td>\n",
       "      <td>77.4194</td>\n",
       "    </tr>\n",
       "  </tbody>\n",
       "</table>\n",
       "</div>"
      ],
      "text/plain": [
       "        Prompt Type  Prompt Length    Score\n",
       "0  default-improved            160  77.4194"
      ]
     },
     "metadata": {},
     "output_type": "display_data"
    },
    {
     "name": "stdout",
     "output_type": "stream",
     "text": [
      "\n",
      "Dataset: wp\n"
     ]
    },
    {
     "data": {
      "text/html": [
       "<div>\n",
       "<style scoped>\n",
       "    .dataframe tbody tr th:only-of-type {\n",
       "        vertical-align: middle;\n",
       "    }\n",
       "\n",
       "    .dataframe tbody tr th {\n",
       "        vertical-align: top;\n",
       "    }\n",
       "\n",
       "    .dataframe thead th {\n",
       "        text-align: right;\n",
       "    }\n",
       "</style>\n",
       "<table border=\"1\" class=\"dataframe\">\n",
       "  <thead>\n",
       "    <tr style=\"text-align: right;\">\n",
       "      <th></th>\n",
       "      <th>Prompt Type</th>\n",
       "      <th>Prompt Length</th>\n",
       "      <th>Score</th>\n",
       "    </tr>\n",
       "  </thead>\n",
       "  <tbody>\n",
       "    <tr>\n",
       "      <th>0</th>\n",
       "      <td>default-improved</td>\n",
       "      <td>160</td>\n",
       "      <td>67.3469</td>\n",
       "    </tr>\n",
       "  </tbody>\n",
       "</table>\n",
       "</div>"
      ],
      "text/plain": [
       "        Prompt Type  Prompt Length    Score\n",
       "0  default-improved            160  67.3469"
      ]
     },
     "metadata": {},
     "output_type": "display_data"
    },
    {
     "name": "stdout",
     "output_type": "stream",
     "text": [
      "\n",
      "--------------------------------------------------------------------------------\n",
      "Model: qwen2.5:0.5b\n",
      "\n",
      "Dataset: sp\n"
     ]
    },
    {
     "data": {
      "text/html": [
       "<div>\n",
       "<style scoped>\n",
       "    .dataframe tbody tr th:only-of-type {\n",
       "        vertical-align: middle;\n",
       "    }\n",
       "\n",
       "    .dataframe tbody tr th {\n",
       "        vertical-align: top;\n",
       "    }\n",
       "\n",
       "    .dataframe thead th {\n",
       "        text-align: right;\n",
       "    }\n",
       "</style>\n",
       "<table border=\"1\" class=\"dataframe\">\n",
       "  <thead>\n",
       "    <tr style=\"text-align: right;\">\n",
       "      <th></th>\n",
       "      <th>Prompt Type</th>\n",
       "      <th>Prompt Length</th>\n",
       "      <th>Score</th>\n",
       "    </tr>\n",
       "  </thead>\n",
       "  <tbody>\n",
       "    <tr>\n",
       "      <th>0</th>\n",
       "      <td>elimination</td>\n",
       "      <td>182</td>\n",
       "      <td>29.0323</td>\n",
       "    </tr>\n",
       "  </tbody>\n",
       "</table>\n",
       "</div>"
      ],
      "text/plain": [
       "   Prompt Type  Prompt Length    Score\n",
       "0  elimination            182  29.0323"
      ]
     },
     "metadata": {},
     "output_type": "display_data"
    },
    {
     "name": "stdout",
     "output_type": "stream",
     "text": [
      "\n",
      "Dataset: wp\n"
     ]
    },
    {
     "data": {
      "text/html": [
       "<div>\n",
       "<style scoped>\n",
       "    .dataframe tbody tr th:only-of-type {\n",
       "        vertical-align: middle;\n",
       "    }\n",
       "\n",
       "    .dataframe tbody tr th {\n",
       "        vertical-align: top;\n",
       "    }\n",
       "\n",
       "    .dataframe thead th {\n",
       "        text-align: right;\n",
       "    }\n",
       "</style>\n",
       "<table border=\"1\" class=\"dataframe\">\n",
       "  <thead>\n",
       "    <tr style=\"text-align: right;\">\n",
       "      <th></th>\n",
       "      <th>Prompt Type</th>\n",
       "      <th>Prompt Length</th>\n",
       "      <th>Score</th>\n",
       "    </tr>\n",
       "  </thead>\n",
       "  <tbody>\n",
       "    <tr>\n",
       "      <th>0</th>\n",
       "      <td>assumption-challenge</td>\n",
       "      <td>173</td>\n",
       "      <td>34.6939</td>\n",
       "    </tr>\n",
       "    <tr>\n",
       "      <th>1</th>\n",
       "      <td>common-sense</td>\n",
       "      <td>180</td>\n",
       "      <td>34.6939</td>\n",
       "    </tr>\n",
       "    <tr>\n",
       "      <th>2</th>\n",
       "      <td>step-by-step</td>\n",
       "      <td>251</td>\n",
       "      <td>34.6939</td>\n",
       "    </tr>\n",
       "  </tbody>\n",
       "</table>\n",
       "</div>"
      ],
      "text/plain": [
       "            Prompt Type  Prompt Length    Score\n",
       "0  assumption-challenge            173  34.6939\n",
       "1          common-sense            180  34.6939\n",
       "2          step-by-step            251  34.6939"
      ]
     },
     "metadata": {},
     "output_type": "display_data"
    },
    {
     "name": "stdout",
     "output_type": "stream",
     "text": [
      "\n",
      "--------------------------------------------------------------------------------\n",
      "Model: qwen2.5:1.5b\n",
      "\n",
      "Dataset: sp\n"
     ]
    },
    {
     "data": {
      "text/html": [
       "<div>\n",
       "<style scoped>\n",
       "    .dataframe tbody tr th:only-of-type {\n",
       "        vertical-align: middle;\n",
       "    }\n",
       "\n",
       "    .dataframe tbody tr th {\n",
       "        vertical-align: top;\n",
       "    }\n",
       "\n",
       "    .dataframe thead th {\n",
       "        text-align: right;\n",
       "    }\n",
       "</style>\n",
       "<table border=\"1\" class=\"dataframe\">\n",
       "  <thead>\n",
       "    <tr style=\"text-align: right;\">\n",
       "      <th></th>\n",
       "      <th>Prompt Type</th>\n",
       "      <th>Prompt Length</th>\n",
       "      <th>Score</th>\n",
       "    </tr>\n",
       "  </thead>\n",
       "  <tbody>\n",
       "    <tr>\n",
       "      <th>0</th>\n",
       "      <td>assumption-challenge</td>\n",
       "      <td>173</td>\n",
       "      <td>29.0323</td>\n",
       "    </tr>\n",
       "    <tr>\n",
       "      <th>1</th>\n",
       "      <td>metaphor</td>\n",
       "      <td>187</td>\n",
       "      <td>29.0323</td>\n",
       "    </tr>\n",
       "    <tr>\n",
       "      <th>2</th>\n",
       "      <td>common-sense</td>\n",
       "      <td>180</td>\n",
       "      <td>27.4194</td>\n",
       "    </tr>\n",
       "  </tbody>\n",
       "</table>\n",
       "</div>"
      ],
      "text/plain": [
       "            Prompt Type  Prompt Length    Score\n",
       "0  assumption-challenge            173  29.0323\n",
       "1              metaphor            187  29.0323\n",
       "2          common-sense            180  27.4194"
      ]
     },
     "metadata": {},
     "output_type": "display_data"
    },
    {
     "name": "stdout",
     "output_type": "stream",
     "text": [
      "\n",
      "Dataset: wp\n"
     ]
    },
    {
     "data": {
      "text/html": [
       "<div>\n",
       "<style scoped>\n",
       "    .dataframe tbody tr th:only-of-type {\n",
       "        vertical-align: middle;\n",
       "    }\n",
       "\n",
       "    .dataframe tbody tr th {\n",
       "        vertical-align: top;\n",
       "    }\n",
       "\n",
       "    .dataframe thead th {\n",
       "        text-align: right;\n",
       "    }\n",
       "</style>\n",
       "<table border=\"1\" class=\"dataframe\">\n",
       "  <thead>\n",
       "    <tr style=\"text-align: right;\">\n",
       "      <th></th>\n",
       "      <th>Prompt Type</th>\n",
       "      <th>Prompt Length</th>\n",
       "      <th>Score</th>\n",
       "    </tr>\n",
       "  </thead>\n",
       "  <tbody>\n",
       "    <tr>\n",
       "      <th>0</th>\n",
       "      <td>common-sense</td>\n",
       "      <td>180</td>\n",
       "      <td>10.2041</td>\n",
       "    </tr>\n",
       "    <tr>\n",
       "      <th>1</th>\n",
       "      <td>creative</td>\n",
       "      <td>193</td>\n",
       "      <td>10.2041</td>\n",
       "    </tr>\n",
       "    <tr>\n",
       "      <th>2</th>\n",
       "      <td>step-by-step</td>\n",
       "      <td>251</td>\n",
       "      <td>10.2041</td>\n",
       "    </tr>\n",
       "  </tbody>\n",
       "</table>\n",
       "</div>"
      ],
      "text/plain": [
       "    Prompt Type  Prompt Length    Score\n",
       "0  common-sense            180  10.2041\n",
       "1      creative            193  10.2041\n",
       "2  step-by-step            251  10.2041"
      ]
     },
     "metadata": {},
     "output_type": "display_data"
    },
    {
     "name": "stdout",
     "output_type": "stream",
     "text": [
      "\n",
      "--------------------------------------------------------------------------------\n",
      "Model: qwen2.5:3b\n",
      "\n",
      "Dataset: sp\n"
     ]
    },
    {
     "data": {
      "text/html": [
       "<div>\n",
       "<style scoped>\n",
       "    .dataframe tbody tr th:only-of-type {\n",
       "        vertical-align: middle;\n",
       "    }\n",
       "\n",
       "    .dataframe tbody tr th {\n",
       "        vertical-align: top;\n",
       "    }\n",
       "\n",
       "    .dataframe thead th {\n",
       "        text-align: right;\n",
       "    }\n",
       "</style>\n",
       "<table border=\"1\" class=\"dataframe\">\n",
       "  <thead>\n",
       "    <tr style=\"text-align: right;\">\n",
       "      <th></th>\n",
       "      <th>Prompt Type</th>\n",
       "      <th>Prompt Length</th>\n",
       "      <th>Score</th>\n",
       "    </tr>\n",
       "  </thead>\n",
       "  <tbody>\n",
       "    <tr>\n",
       "      <th>0</th>\n",
       "      <td>step-by-step</td>\n",
       "      <td>251</td>\n",
       "      <td>27.4194</td>\n",
       "    </tr>\n",
       "  </tbody>\n",
       "</table>\n",
       "</div>"
      ],
      "text/plain": [
       "    Prompt Type  Prompt Length    Score\n",
       "0  step-by-step            251  27.4194"
      ]
     },
     "metadata": {},
     "output_type": "display_data"
    },
    {
     "name": "stdout",
     "output_type": "stream",
     "text": [
      "\n",
      "Dataset: wp\n"
     ]
    },
    {
     "data": {
      "text/html": [
       "<div>\n",
       "<style scoped>\n",
       "    .dataframe tbody tr th:only-of-type {\n",
       "        vertical-align: middle;\n",
       "    }\n",
       "\n",
       "    .dataframe tbody tr th {\n",
       "        vertical-align: top;\n",
       "    }\n",
       "\n",
       "    .dataframe thead th {\n",
       "        text-align: right;\n",
       "    }\n",
       "</style>\n",
       "<table border=\"1\" class=\"dataframe\">\n",
       "  <thead>\n",
       "    <tr style=\"text-align: right;\">\n",
       "      <th></th>\n",
       "      <th>Prompt Type</th>\n",
       "      <th>Prompt Length</th>\n",
       "      <th>Score</th>\n",
       "    </tr>\n",
       "  </thead>\n",
       "  <tbody>\n",
       "    <tr>\n",
       "      <th>0</th>\n",
       "      <td>step-by-step</td>\n",
       "      <td>251</td>\n",
       "      <td>26.5306</td>\n",
       "    </tr>\n",
       "  </tbody>\n",
       "</table>\n",
       "</div>"
      ],
      "text/plain": [
       "    Prompt Type  Prompt Length    Score\n",
       "0  step-by-step            251  26.5306"
      ]
     },
     "metadata": {},
     "output_type": "display_data"
    },
    {
     "name": "stdout",
     "output_type": "stream",
     "text": [
      "\n",
      "--------------------------------------------------------------------------------\n",
      "Model: qwen2.5:7b\n",
      "\n",
      "Dataset: sp\n"
     ]
    },
    {
     "data": {
      "text/html": [
       "<div>\n",
       "<style scoped>\n",
       "    .dataframe tbody tr th:only-of-type {\n",
       "        vertical-align: middle;\n",
       "    }\n",
       "\n",
       "    .dataframe tbody tr th {\n",
       "        vertical-align: top;\n",
       "    }\n",
       "\n",
       "    .dataframe thead th {\n",
       "        text-align: right;\n",
       "    }\n",
       "</style>\n",
       "<table border=\"1\" class=\"dataframe\">\n",
       "  <thead>\n",
       "    <tr style=\"text-align: right;\">\n",
       "      <th></th>\n",
       "      <th>Prompt Type</th>\n",
       "      <th>Prompt Length</th>\n",
       "      <th>Score</th>\n",
       "    </tr>\n",
       "  </thead>\n",
       "  <tbody>\n",
       "    <tr>\n",
       "      <th>0</th>\n",
       "      <td>default-improved</td>\n",
       "      <td>160</td>\n",
       "      <td>70.9677</td>\n",
       "    </tr>\n",
       "    <tr>\n",
       "      <th>1</th>\n",
       "      <td>confidence</td>\n",
       "      <td>178</td>\n",
       "      <td>69.3548</td>\n",
       "    </tr>\n",
       "    <tr>\n",
       "      <th>2</th>\n",
       "      <td>elimination</td>\n",
       "      <td>182</td>\n",
       "      <td>69.3548</td>\n",
       "    </tr>\n",
       "  </tbody>\n",
       "</table>\n",
       "</div>"
      ],
      "text/plain": [
       "        Prompt Type  Prompt Length    Score\n",
       "0  default-improved            160  70.9677\n",
       "1        confidence            178  69.3548\n",
       "2       elimination            182  69.3548"
      ]
     },
     "metadata": {},
     "output_type": "display_data"
    },
    {
     "name": "stdout",
     "output_type": "stream",
     "text": [
      "\n",
      "Dataset: wp\n"
     ]
    },
    {
     "data": {
      "text/html": [
       "<div>\n",
       "<style scoped>\n",
       "    .dataframe tbody tr th:only-of-type {\n",
       "        vertical-align: middle;\n",
       "    }\n",
       "\n",
       "    .dataframe tbody tr th {\n",
       "        vertical-align: top;\n",
       "    }\n",
       "\n",
       "    .dataframe thead th {\n",
       "        text-align: right;\n",
       "    }\n",
       "</style>\n",
       "<table border=\"1\" class=\"dataframe\">\n",
       "  <thead>\n",
       "    <tr style=\"text-align: right;\">\n",
       "      <th></th>\n",
       "      <th>Prompt Type</th>\n",
       "      <th>Prompt Length</th>\n",
       "      <th>Score</th>\n",
       "    </tr>\n",
       "  </thead>\n",
       "  <tbody>\n",
       "    <tr>\n",
       "      <th>0</th>\n",
       "      <td>elimination</td>\n",
       "      <td>182</td>\n",
       "      <td>14.2857</td>\n",
       "    </tr>\n",
       "  </tbody>\n",
       "</table>\n",
       "</div>"
      ],
      "text/plain": [
       "   Prompt Type  Prompt Length    Score\n",
       "0  elimination            182  14.2857"
      ]
     },
     "metadata": {},
     "output_type": "display_data"
    },
    {
     "name": "stdout",
     "output_type": "stream",
     "text": [
      "\n",
      "--------------------------------------------------------------------------------\n",
      "Model: qwen2.5:14b\n",
      "\n",
      "Dataset: sp\n"
     ]
    },
    {
     "data": {
      "text/html": [
       "<div>\n",
       "<style scoped>\n",
       "    .dataframe tbody tr th:only-of-type {\n",
       "        vertical-align: middle;\n",
       "    }\n",
       "\n",
       "    .dataframe tbody tr th {\n",
       "        vertical-align: top;\n",
       "    }\n",
       "\n",
       "    .dataframe thead th {\n",
       "        text-align: right;\n",
       "    }\n",
       "</style>\n",
       "<table border=\"1\" class=\"dataframe\">\n",
       "  <thead>\n",
       "    <tr style=\"text-align: right;\">\n",
       "      <th></th>\n",
       "      <th>Prompt Type</th>\n",
       "      <th>Prompt Length</th>\n",
       "      <th>Score</th>\n",
       "    </tr>\n",
       "  </thead>\n",
       "  <tbody>\n",
       "    <tr>\n",
       "      <th>0</th>\n",
       "      <td>confidence</td>\n",
       "      <td>178</td>\n",
       "      <td>77.4194</td>\n",
       "    </tr>\n",
       "  </tbody>\n",
       "</table>\n",
       "</div>"
      ],
      "text/plain": [
       "  Prompt Type  Prompt Length    Score\n",
       "0  confidence            178  77.4194"
      ]
     },
     "metadata": {},
     "output_type": "display_data"
    },
    {
     "name": "stdout",
     "output_type": "stream",
     "text": [
      "\n",
      "Dataset: wp\n"
     ]
    },
    {
     "data": {
      "text/html": [
       "<div>\n",
       "<style scoped>\n",
       "    .dataframe tbody tr th:only-of-type {\n",
       "        vertical-align: middle;\n",
       "    }\n",
       "\n",
       "    .dataframe tbody tr th {\n",
       "        vertical-align: top;\n",
       "    }\n",
       "\n",
       "    .dataframe thead th {\n",
       "        text-align: right;\n",
       "    }\n",
       "</style>\n",
       "<table border=\"1\" class=\"dataframe\">\n",
       "  <thead>\n",
       "    <tr style=\"text-align: right;\">\n",
       "      <th></th>\n",
       "      <th>Prompt Type</th>\n",
       "      <th>Prompt Length</th>\n",
       "      <th>Score</th>\n",
       "    </tr>\n",
       "  </thead>\n",
       "  <tbody>\n",
       "    <tr>\n",
       "      <th>0</th>\n",
       "      <td>creative</td>\n",
       "      <td>193</td>\n",
       "      <td>59.1837</td>\n",
       "    </tr>\n",
       "  </tbody>\n",
       "</table>\n",
       "</div>"
      ],
      "text/plain": [
       "  Prompt Type  Prompt Length    Score\n",
       "0    creative            193  59.1837"
      ]
     },
     "metadata": {},
     "output_type": "display_data"
    },
    {
     "name": "stdout",
     "output_type": "stream",
     "text": [
      "\n",
      "--------------------------------------------------------------------------------\n",
      "Model: qwen2.5:32b\n",
      "\n",
      "Dataset: sp\n"
     ]
    },
    {
     "data": {
      "text/html": [
       "<div>\n",
       "<style scoped>\n",
       "    .dataframe tbody tr th:only-of-type {\n",
       "        vertical-align: middle;\n",
       "    }\n",
       "\n",
       "    .dataframe tbody tr th {\n",
       "        vertical-align: top;\n",
       "    }\n",
       "\n",
       "    .dataframe thead th {\n",
       "        text-align: right;\n",
       "    }\n",
       "</style>\n",
       "<table border=\"1\" class=\"dataframe\">\n",
       "  <thead>\n",
       "    <tr style=\"text-align: right;\">\n",
       "      <th></th>\n",
       "      <th>Prompt Type</th>\n",
       "      <th>Prompt Length</th>\n",
       "      <th>Score</th>\n",
       "    </tr>\n",
       "  </thead>\n",
       "  <tbody>\n",
       "    <tr>\n",
       "      <th>0</th>\n",
       "      <td>metaphor</td>\n",
       "      <td>187</td>\n",
       "      <td>74.1935</td>\n",
       "    </tr>\n",
       "    <tr>\n",
       "      <th>1</th>\n",
       "      <td>confidence</td>\n",
       "      <td>178</td>\n",
       "      <td>72.5806</td>\n",
       "    </tr>\n",
       "  </tbody>\n",
       "</table>\n",
       "</div>"
      ],
      "text/plain": [
       "  Prompt Type  Prompt Length    Score\n",
       "0    metaphor            187  74.1935\n",
       "1  confidence            178  72.5806"
      ]
     },
     "metadata": {},
     "output_type": "display_data"
    },
    {
     "name": "stdout",
     "output_type": "stream",
     "text": [
      "\n",
      "Dataset: wp\n"
     ]
    },
    {
     "data": {
      "text/html": [
       "<div>\n",
       "<style scoped>\n",
       "    .dataframe tbody tr th:only-of-type {\n",
       "        vertical-align: middle;\n",
       "    }\n",
       "\n",
       "    .dataframe tbody tr th {\n",
       "        vertical-align: top;\n",
       "    }\n",
       "\n",
       "    .dataframe thead th {\n",
       "        text-align: right;\n",
       "    }\n",
       "</style>\n",
       "<table border=\"1\" class=\"dataframe\">\n",
       "  <thead>\n",
       "    <tr style=\"text-align: right;\">\n",
       "      <th></th>\n",
       "      <th>Prompt Type</th>\n",
       "      <th>Prompt Length</th>\n",
       "      <th>Score</th>\n",
       "    </tr>\n",
       "  </thead>\n",
       "  <tbody>\n",
       "    <tr>\n",
       "      <th>0</th>\n",
       "      <td>default-improved</td>\n",
       "      <td>160</td>\n",
       "      <td>61.2245</td>\n",
       "    </tr>\n",
       "    <tr>\n",
       "      <th>1</th>\n",
       "      <td>metaphor</td>\n",
       "      <td>187</td>\n",
       "      <td>61.2245</td>\n",
       "    </tr>\n",
       "  </tbody>\n",
       "</table>\n",
       "</div>"
      ],
      "text/plain": [
       "        Prompt Type  Prompt Length    Score\n",
       "0  default-improved            160  61.2245\n",
       "1          metaphor            187  61.2245"
      ]
     },
     "metadata": {},
     "output_type": "display_data"
    },
    {
     "name": "stdout",
     "output_type": "stream",
     "text": [
      "\n",
      "--------------------------------------------------------------------------------\n",
      "Model: gemma2:2b\n",
      "\n",
      "Dataset: sp\n"
     ]
    },
    {
     "data": {
      "text/html": [
       "<div>\n",
       "<style scoped>\n",
       "    .dataframe tbody tr th:only-of-type {\n",
       "        vertical-align: middle;\n",
       "    }\n",
       "\n",
       "    .dataframe tbody tr th {\n",
       "        vertical-align: top;\n",
       "    }\n",
       "\n",
       "    .dataframe thead th {\n",
       "        text-align: right;\n",
       "    }\n",
       "</style>\n",
       "<table border=\"1\" class=\"dataframe\">\n",
       "  <thead>\n",
       "    <tr style=\"text-align: right;\">\n",
       "      <th></th>\n",
       "      <th>Prompt Type</th>\n",
       "      <th>Prompt Length</th>\n",
       "      <th>Score</th>\n",
       "    </tr>\n",
       "  </thead>\n",
       "  <tbody>\n",
       "    <tr>\n",
       "      <th>0</th>\n",
       "      <td>elimination</td>\n",
       "      <td>182</td>\n",
       "      <td>51.6129</td>\n",
       "    </tr>\n",
       "  </tbody>\n",
       "</table>\n",
       "</div>"
      ],
      "text/plain": [
       "   Prompt Type  Prompt Length    Score\n",
       "0  elimination            182  51.6129"
      ]
     },
     "metadata": {},
     "output_type": "display_data"
    },
    {
     "name": "stdout",
     "output_type": "stream",
     "text": [
      "\n",
      "Dataset: wp\n"
     ]
    },
    {
     "data": {
      "text/html": [
       "<div>\n",
       "<style scoped>\n",
       "    .dataframe tbody tr th:only-of-type {\n",
       "        vertical-align: middle;\n",
       "    }\n",
       "\n",
       "    .dataframe tbody tr th {\n",
       "        vertical-align: top;\n",
       "    }\n",
       "\n",
       "    .dataframe thead th {\n",
       "        text-align: right;\n",
       "    }\n",
       "</style>\n",
       "<table border=\"1\" class=\"dataframe\">\n",
       "  <thead>\n",
       "    <tr style=\"text-align: right;\">\n",
       "      <th></th>\n",
       "      <th>Prompt Type</th>\n",
       "      <th>Prompt Length</th>\n",
       "      <th>Score</th>\n",
       "    </tr>\n",
       "  </thead>\n",
       "  <tbody>\n",
       "    <tr>\n",
       "      <th>0</th>\n",
       "      <td>creative</td>\n",
       "      <td>193</td>\n",
       "      <td>30.6122</td>\n",
       "    </tr>\n",
       "  </tbody>\n",
       "</table>\n",
       "</div>"
      ],
      "text/plain": [
       "  Prompt Type  Prompt Length    Score\n",
       "0    creative            193  30.6122"
      ]
     },
     "metadata": {},
     "output_type": "display_data"
    },
    {
     "name": "stdout",
     "output_type": "stream",
     "text": [
      "\n",
      "--------------------------------------------------------------------------------\n",
      "Model: gemma2:9b\n",
      "\n",
      "Dataset: sp\n"
     ]
    },
    {
     "data": {
      "text/html": [
       "<div>\n",
       "<style scoped>\n",
       "    .dataframe tbody tr th:only-of-type {\n",
       "        vertical-align: middle;\n",
       "    }\n",
       "\n",
       "    .dataframe tbody tr th {\n",
       "        vertical-align: top;\n",
       "    }\n",
       "\n",
       "    .dataframe thead th {\n",
       "        text-align: right;\n",
       "    }\n",
       "</style>\n",
       "<table border=\"1\" class=\"dataframe\">\n",
       "  <thead>\n",
       "    <tr style=\"text-align: right;\">\n",
       "      <th></th>\n",
       "      <th>Prompt Type</th>\n",
       "      <th>Prompt Length</th>\n",
       "      <th>Score</th>\n",
       "    </tr>\n",
       "  </thead>\n",
       "  <tbody>\n",
       "    <tr>\n",
       "      <th>0</th>\n",
       "      <td>default-improved</td>\n",
       "      <td>160</td>\n",
       "      <td>83.8710</td>\n",
       "    </tr>\n",
       "    <tr>\n",
       "      <th>1</th>\n",
       "      <td>metaphor</td>\n",
       "      <td>187</td>\n",
       "      <td>83.8710</td>\n",
       "    </tr>\n",
       "    <tr>\n",
       "      <th>2</th>\n",
       "      <td>creative</td>\n",
       "      <td>193</td>\n",
       "      <td>83.8710</td>\n",
       "    </tr>\n",
       "  </tbody>\n",
       "</table>\n",
       "</div>"
      ],
      "text/plain": [
       "        Prompt Type  Prompt Length    Score\n",
       "0  default-improved            160  83.8710\n",
       "1          metaphor            187  83.8710\n",
       "2          creative            193  83.8710"
      ]
     },
     "metadata": {},
     "output_type": "display_data"
    },
    {
     "name": "stdout",
     "output_type": "stream",
     "text": [
      "\n",
      "Dataset: wp\n"
     ]
    },
    {
     "data": {
      "text/html": [
       "<div>\n",
       "<style scoped>\n",
       "    .dataframe tbody tr th:only-of-type {\n",
       "        vertical-align: middle;\n",
       "    }\n",
       "\n",
       "    .dataframe tbody tr th {\n",
       "        vertical-align: top;\n",
       "    }\n",
       "\n",
       "    .dataframe thead th {\n",
       "        text-align: right;\n",
       "    }\n",
       "</style>\n",
       "<table border=\"1\" class=\"dataframe\">\n",
       "  <thead>\n",
       "    <tr style=\"text-align: right;\">\n",
       "      <th></th>\n",
       "      <th>Prompt Type</th>\n",
       "      <th>Prompt Length</th>\n",
       "      <th>Score</th>\n",
       "    </tr>\n",
       "  </thead>\n",
       "  <tbody>\n",
       "    <tr>\n",
       "      <th>0</th>\n",
       "      <td>creative</td>\n",
       "      <td>193</td>\n",
       "      <td>73.4694</td>\n",
       "    </tr>\n",
       "    <tr>\n",
       "      <th>1</th>\n",
       "      <td>pattern-matching</td>\n",
       "      <td>176</td>\n",
       "      <td>71.4286</td>\n",
       "    </tr>\n",
       "    <tr>\n",
       "      <th>2</th>\n",
       "      <td>default-improved</td>\n",
       "      <td>160</td>\n",
       "      <td>69.3878</td>\n",
       "    </tr>\n",
       "  </tbody>\n",
       "</table>\n",
       "</div>"
      ],
      "text/plain": [
       "        Prompt Type  Prompt Length    Score\n",
       "0          creative            193  73.4694\n",
       "1  pattern-matching            176  71.4286\n",
       "2  default-improved            160  69.3878"
      ]
     },
     "metadata": {},
     "output_type": "display_data"
    },
    {
     "name": "stdout",
     "output_type": "stream",
     "text": [
      "\n",
      "--------------------------------------------------------------------------------\n",
      "Model: gemma2:27b\n",
      "\n",
      "Dataset: sp\n"
     ]
    },
    {
     "data": {
      "text/html": [
       "<div>\n",
       "<style scoped>\n",
       "    .dataframe tbody tr th:only-of-type {\n",
       "        vertical-align: middle;\n",
       "    }\n",
       "\n",
       "    .dataframe tbody tr th {\n",
       "        vertical-align: top;\n",
       "    }\n",
       "\n",
       "    .dataframe thead th {\n",
       "        text-align: right;\n",
       "    }\n",
       "</style>\n",
       "<table border=\"1\" class=\"dataframe\">\n",
       "  <thead>\n",
       "    <tr style=\"text-align: right;\">\n",
       "      <th></th>\n",
       "      <th>Prompt Type</th>\n",
       "      <th>Prompt Length</th>\n",
       "      <th>Score</th>\n",
       "    </tr>\n",
       "  </thead>\n",
       "  <tbody>\n",
       "    <tr>\n",
       "      <th>0</th>\n",
       "      <td>default-improved</td>\n",
       "      <td>160</td>\n",
       "      <td>90.3226</td>\n",
       "    </tr>\n",
       "    <tr>\n",
       "      <th>1</th>\n",
       "      <td>assumption-challenge</td>\n",
       "      <td>173</td>\n",
       "      <td>90.3226</td>\n",
       "    </tr>\n",
       "    <tr>\n",
       "      <th>2</th>\n",
       "      <td>perspective-shift</td>\n",
       "      <td>179</td>\n",
       "      <td>90.3226</td>\n",
       "    </tr>\n",
       "  </tbody>\n",
       "</table>\n",
       "</div>"
      ],
      "text/plain": [
       "            Prompt Type  Prompt Length    Score\n",
       "0      default-improved            160  90.3226\n",
       "1  assumption-challenge            173  90.3226\n",
       "2     perspective-shift            179  90.3226"
      ]
     },
     "metadata": {},
     "output_type": "display_data"
    },
    {
     "name": "stdout",
     "output_type": "stream",
     "text": [
      "\n",
      "Dataset: wp\n"
     ]
    },
    {
     "data": {
      "text/html": [
       "<div>\n",
       "<style scoped>\n",
       "    .dataframe tbody tr th:only-of-type {\n",
       "        vertical-align: middle;\n",
       "    }\n",
       "\n",
       "    .dataframe tbody tr th {\n",
       "        vertical-align: top;\n",
       "    }\n",
       "\n",
       "    .dataframe thead th {\n",
       "        text-align: right;\n",
       "    }\n",
       "</style>\n",
       "<table border=\"1\" class=\"dataframe\">\n",
       "  <thead>\n",
       "    <tr style=\"text-align: right;\">\n",
       "      <th></th>\n",
       "      <th>Prompt Type</th>\n",
       "      <th>Prompt Length</th>\n",
       "      <th>Score</th>\n",
       "    </tr>\n",
       "  </thead>\n",
       "  <tbody>\n",
       "    <tr>\n",
       "      <th>0</th>\n",
       "      <td>confidence</td>\n",
       "      <td>178</td>\n",
       "      <td>79.5918</td>\n",
       "    </tr>\n",
       "    <tr>\n",
       "      <th>1</th>\n",
       "      <td>default-improved</td>\n",
       "      <td>160</td>\n",
       "      <td>77.5510</td>\n",
       "    </tr>\n",
       "    <tr>\n",
       "      <th>2</th>\n",
       "      <td>pattern-matching</td>\n",
       "      <td>176</td>\n",
       "      <td>77.5510</td>\n",
       "    </tr>\n",
       "  </tbody>\n",
       "</table>\n",
       "</div>"
      ],
      "text/plain": [
       "        Prompt Type  Prompt Length    Score\n",
       "0        confidence            178  79.5918\n",
       "1  default-improved            160  77.5510\n",
       "2  pattern-matching            176  77.5510"
      ]
     },
     "metadata": {},
     "output_type": "display_data"
    },
    {
     "name": "stdout",
     "output_type": "stream",
     "text": [
      "\n",
      "--------------------------------------------------------------------------------\n",
      "Model: mistral-nemo:12b\n",
      "\n",
      "Dataset: sp\n"
     ]
    },
    {
     "data": {
      "text/html": [
       "<div>\n",
       "<style scoped>\n",
       "    .dataframe tbody tr th:only-of-type {\n",
       "        vertical-align: middle;\n",
       "    }\n",
       "\n",
       "    .dataframe tbody tr th {\n",
       "        vertical-align: top;\n",
       "    }\n",
       "\n",
       "    .dataframe thead th {\n",
       "        text-align: right;\n",
       "    }\n",
       "</style>\n",
       "<table border=\"1\" class=\"dataframe\">\n",
       "  <thead>\n",
       "    <tr style=\"text-align: right;\">\n",
       "      <th></th>\n",
       "      <th>Prompt Type</th>\n",
       "      <th>Prompt Length</th>\n",
       "      <th>Score</th>\n",
       "    </tr>\n",
       "  </thead>\n",
       "  <tbody>\n",
       "    <tr>\n",
       "      <th>0</th>\n",
       "      <td>default-improved</td>\n",
       "      <td>160</td>\n",
       "      <td>61.2903</td>\n",
       "    </tr>\n",
       "    <tr>\n",
       "      <th>1</th>\n",
       "      <td>creative</td>\n",
       "      <td>193</td>\n",
       "      <td>59.6774</td>\n",
       "    </tr>\n",
       "    <tr>\n",
       "      <th>2</th>\n",
       "      <td>confidence</td>\n",
       "      <td>178</td>\n",
       "      <td>58.0645</td>\n",
       "    </tr>\n",
       "  </tbody>\n",
       "</table>\n",
       "</div>"
      ],
      "text/plain": [
       "        Prompt Type  Prompt Length    Score\n",
       "0  default-improved            160  61.2903\n",
       "1          creative            193  59.6774\n",
       "2        confidence            178  58.0645"
      ]
     },
     "metadata": {},
     "output_type": "display_data"
    },
    {
     "name": "stdout",
     "output_type": "stream",
     "text": [
      "\n",
      "Dataset: wp\n"
     ]
    },
    {
     "data": {
      "text/html": [
       "<div>\n",
       "<style scoped>\n",
       "    .dataframe tbody tr th:only-of-type {\n",
       "        vertical-align: middle;\n",
       "    }\n",
       "\n",
       "    .dataframe tbody tr th {\n",
       "        vertical-align: top;\n",
       "    }\n",
       "\n",
       "    .dataframe thead th {\n",
       "        text-align: right;\n",
       "    }\n",
       "</style>\n",
       "<table border=\"1\" class=\"dataframe\">\n",
       "  <thead>\n",
       "    <tr style=\"text-align: right;\">\n",
       "      <th></th>\n",
       "      <th>Prompt Type</th>\n",
       "      <th>Prompt Length</th>\n",
       "      <th>Score</th>\n",
       "    </tr>\n",
       "  </thead>\n",
       "  <tbody>\n",
       "    <tr>\n",
       "      <th>0</th>\n",
       "      <td>step-by-step</td>\n",
       "      <td>251</td>\n",
       "      <td>38.7755</td>\n",
       "    </tr>\n",
       "  </tbody>\n",
       "</table>\n",
       "</div>"
      ],
      "text/plain": [
       "    Prompt Type  Prompt Length    Score\n",
       "0  step-by-step            251  38.7755"
      ]
     },
     "metadata": {},
     "output_type": "display_data"
    }
   ],
   "source": [
    "# Get the best prompt type for each model\n",
    "best_n_prompt_types = get_best_n_prompts_for_each_model(total_results, n=3)\n",
    "\n",
    "# Print the results as a formatted table using pandas\n",
    "\n",
    "for model, dataset_dict in best_n_prompt_types.items():\n",
    "    print(f\"\\n{'-' * 80}\\nModel: {model}\")\n",
    "    for dataset_type, prompts in dataset_dict.items():\n",
    "        print(f\"\\nDataset: {dataset_type}\")\n",
    "\n",
    "        # Create a DataFrame from the prompts data\n",
    "        df = pd.DataFrame(prompts)\n",
    "\n",
    "        # Rename columns for better display\n",
    "        df = df.rename(\n",
    "            columns={\n",
    "                \"prompt_type\": \"Prompt Type\",\n",
    "                \"prompt_length\": \"Prompt Length\",\n",
    "                \"score\": \"Score\",\n",
    "            }\n",
    "        )\n",
    "\n",
    "        # Format the score column to 4 decimal places\n",
    "        df[\"Score\"] = df[\"Score\"].map(\"{:.4f}\".format)\n",
    "\n",
    "        # Display the DataFrame\n",
    "        display(df)\n",
    "\n",
    "# Save the best prompt types\n",
    "with open(\"results/best_system_prompts_by_model.pkl\", \"wb\") as f:\n",
    "    best_prompt_types = get_best_prompt_for_each_model(total_results)\n",
    "    pickle.dump(best_prompt_types, f)"
   ]
  },
  {
   "cell_type": "code",
   "execution_count": 10,
   "metadata": {},
   "outputs": [],
   "source": [
    "def display_best_model_prompt(results):\n",
    "    # Create a list to store the data for the DataFrame\n",
    "    data = []\n",
    "    for model, dataset_dict in results.items():\n",
    "        data.append(\n",
    "            {\n",
    "                \"Model\": model,\n",
    "                \"SP\": dataset_dict[\"sp\"][\"prompt_type\"],\n",
    "                \"WP\": dataset_dict[\"wp\"][\"prompt_type\"],\n",
    "            }\n",
    "        )\n",
    "\n",
    "    # Create a DataFrame and display it\n",
    "    df = pd.DataFrame(data)\n",
    "    display(df)"
   ]
  },
  {
   "cell_type": "code",
   "execution_count": 12,
   "metadata": {},
   "outputs": [
    {
     "data": {
      "text/html": [
       "<div>\n",
       "<style scoped>\n",
       "    .dataframe tbody tr th:only-of-type {\n",
       "        vertical-align: middle;\n",
       "    }\n",
       "\n",
       "    .dataframe tbody tr th {\n",
       "        vertical-align: top;\n",
       "    }\n",
       "\n",
       "    .dataframe thead th {\n",
       "        text-align: right;\n",
       "    }\n",
       "</style>\n",
       "<table border=\"1\" class=\"dataframe\">\n",
       "  <thead>\n",
       "    <tr style=\"text-align: right;\">\n",
       "      <th></th>\n",
       "      <th>Model</th>\n",
       "      <th>SP</th>\n",
       "      <th>WP</th>\n",
       "    </tr>\n",
       "  </thead>\n",
       "  <tbody>\n",
       "    <tr>\n",
       "      <th>0</th>\n",
       "      <td>llama3.1:8b</td>\n",
       "      <td>confidence</td>\n",
       "      <td>default-improved</td>\n",
       "    </tr>\n",
       "    <tr>\n",
       "      <th>1</th>\n",
       "      <td>llama3.2:1b</td>\n",
       "      <td>step-by-step</td>\n",
       "      <td>step-by-step</td>\n",
       "    </tr>\n",
       "    <tr>\n",
       "      <th>2</th>\n",
       "      <td>llama3.2:3b</td>\n",
       "      <td>default-improved</td>\n",
       "      <td>perspective-shift</td>\n",
       "    </tr>\n",
       "    <tr>\n",
       "      <th>3</th>\n",
       "      <td>phi3.5:3.8b</td>\n",
       "      <td>elimination</td>\n",
       "      <td>creative</td>\n",
       "    </tr>\n",
       "    <tr>\n",
       "      <th>4</th>\n",
       "      <td>phi4:14b</td>\n",
       "      <td>default-improved</td>\n",
       "      <td>default-improved</td>\n",
       "    </tr>\n",
       "    <tr>\n",
       "      <th>5</th>\n",
       "      <td>qwen2.5:0.5b</td>\n",
       "      <td>elimination</td>\n",
       "      <td>common-sense</td>\n",
       "    </tr>\n",
       "    <tr>\n",
       "      <th>6</th>\n",
       "      <td>qwen2.5:1.5b</td>\n",
       "      <td>metaphor</td>\n",
       "      <td>common-sense</td>\n",
       "    </tr>\n",
       "    <tr>\n",
       "      <th>7</th>\n",
       "      <td>qwen2.5:3b</td>\n",
       "      <td>step-by-step</td>\n",
       "      <td>step-by-step</td>\n",
       "    </tr>\n",
       "    <tr>\n",
       "      <th>8</th>\n",
       "      <td>qwen2.5:7b</td>\n",
       "      <td>default-improved</td>\n",
       "      <td>elimination</td>\n",
       "    </tr>\n",
       "    <tr>\n",
       "      <th>9</th>\n",
       "      <td>qwen2.5:14b</td>\n",
       "      <td>confidence</td>\n",
       "      <td>creative</td>\n",
       "    </tr>\n",
       "    <tr>\n",
       "      <th>10</th>\n",
       "      <td>qwen2.5:32b</td>\n",
       "      <td>metaphor</td>\n",
       "      <td>metaphor</td>\n",
       "    </tr>\n",
       "    <tr>\n",
       "      <th>11</th>\n",
       "      <td>gemma2:2b</td>\n",
       "      <td>elimination</td>\n",
       "      <td>creative</td>\n",
       "    </tr>\n",
       "    <tr>\n",
       "      <th>12</th>\n",
       "      <td>gemma2:9b</td>\n",
       "      <td>metaphor</td>\n",
       "      <td>creative</td>\n",
       "    </tr>\n",
       "    <tr>\n",
       "      <th>13</th>\n",
       "      <td>gemma2:27b</td>\n",
       "      <td>perspective-shift</td>\n",
       "      <td>confidence</td>\n",
       "    </tr>\n",
       "    <tr>\n",
       "      <th>14</th>\n",
       "      <td>mistral-nemo:12b</td>\n",
       "      <td>default-improved</td>\n",
       "      <td>step-by-step</td>\n",
       "    </tr>\n",
       "  </tbody>\n",
       "</table>\n",
       "</div>"
      ],
      "text/plain": [
       "               Model                 SP                 WP\n",
       "0        llama3.1:8b         confidence   default-improved\n",
       "1        llama3.2:1b       step-by-step       step-by-step\n",
       "2        llama3.2:3b   default-improved  perspective-shift\n",
       "3        phi3.5:3.8b        elimination           creative\n",
       "4           phi4:14b   default-improved   default-improved\n",
       "5       qwen2.5:0.5b        elimination       common-sense\n",
       "6       qwen2.5:1.5b           metaphor       common-sense\n",
       "7         qwen2.5:3b       step-by-step       step-by-step\n",
       "8         qwen2.5:7b   default-improved        elimination\n",
       "9        qwen2.5:14b         confidence           creative\n",
       "10       qwen2.5:32b           metaphor           metaphor\n",
       "11         gemma2:2b        elimination           creative\n",
       "12         gemma2:9b           metaphor           creative\n",
       "13        gemma2:27b  perspective-shift         confidence\n",
       "14  mistral-nemo:12b   default-improved       step-by-step"
      ]
     },
     "metadata": {},
     "output_type": "display_data"
    },
    {
     "data": {
      "text/html": [
       "<div>\n",
       "<style scoped>\n",
       "    .dataframe tbody tr th:only-of-type {\n",
       "        vertical-align: middle;\n",
       "    }\n",
       "\n",
       "    .dataframe tbody tr th {\n",
       "        vertical-align: top;\n",
       "    }\n",
       "\n",
       "    .dataframe thead th {\n",
       "        text-align: right;\n",
       "    }\n",
       "</style>\n",
       "<table border=\"1\" class=\"dataframe\">\n",
       "  <thead>\n",
       "    <tr style=\"text-align: right;\">\n",
       "      <th></th>\n",
       "      <th>Model</th>\n",
       "      <th>SP</th>\n",
       "      <th>WP</th>\n",
       "    </tr>\n",
       "  </thead>\n",
       "  <tbody>\n",
       "    <tr>\n",
       "      <th>0</th>\n",
       "      <td>llama3.1:8b</td>\n",
       "      <td>confidence</td>\n",
       "      <td>default-improved</td>\n",
       "    </tr>\n",
       "    <tr>\n",
       "      <th>1</th>\n",
       "      <td>llama3.2:1b</td>\n",
       "      <td>step-by-step</td>\n",
       "      <td>step-by-step</td>\n",
       "    </tr>\n",
       "    <tr>\n",
       "      <th>2</th>\n",
       "      <td>llama3.2:3b</td>\n",
       "      <td>default-improved</td>\n",
       "      <td>perspective-shift</td>\n",
       "    </tr>\n",
       "    <tr>\n",
       "      <th>3</th>\n",
       "      <td>phi3.5:3.8b</td>\n",
       "      <td>elimination</td>\n",
       "      <td>creative</td>\n",
       "    </tr>\n",
       "    <tr>\n",
       "      <th>4</th>\n",
       "      <td>phi4:14b</td>\n",
       "      <td>default-improved</td>\n",
       "      <td>default-improved</td>\n",
       "    </tr>\n",
       "    <tr>\n",
       "      <th>5</th>\n",
       "      <td>qwen2.5:0.5b</td>\n",
       "      <td>elimination</td>\n",
       "      <td>assumption-challenge</td>\n",
       "    </tr>\n",
       "    <tr>\n",
       "      <th>6</th>\n",
       "      <td>qwen2.5:1.5b</td>\n",
       "      <td>assumption-challenge</td>\n",
       "      <td>common-sense</td>\n",
       "    </tr>\n",
       "    <tr>\n",
       "      <th>7</th>\n",
       "      <td>qwen2.5:3b</td>\n",
       "      <td>step-by-step</td>\n",
       "      <td>step-by-step</td>\n",
       "    </tr>\n",
       "    <tr>\n",
       "      <th>8</th>\n",
       "      <td>qwen2.5:7b</td>\n",
       "      <td>default-improved</td>\n",
       "      <td>elimination</td>\n",
       "    </tr>\n",
       "    <tr>\n",
       "      <th>9</th>\n",
       "      <td>qwen2.5:14b</td>\n",
       "      <td>confidence</td>\n",
       "      <td>creative</td>\n",
       "    </tr>\n",
       "    <tr>\n",
       "      <th>10</th>\n",
       "      <td>qwen2.5:32b</td>\n",
       "      <td>metaphor</td>\n",
       "      <td>default-improved</td>\n",
       "    </tr>\n",
       "    <tr>\n",
       "      <th>11</th>\n",
       "      <td>gemma2:2b</td>\n",
       "      <td>elimination</td>\n",
       "      <td>creative</td>\n",
       "    </tr>\n",
       "    <tr>\n",
       "      <th>12</th>\n",
       "      <td>gemma2:9b</td>\n",
       "      <td>default-improved</td>\n",
       "      <td>creative</td>\n",
       "    </tr>\n",
       "    <tr>\n",
       "      <th>13</th>\n",
       "      <td>gemma2:27b</td>\n",
       "      <td>default-improved</td>\n",
       "      <td>confidence</td>\n",
       "    </tr>\n",
       "    <tr>\n",
       "      <th>14</th>\n",
       "      <td>mistral-nemo:12b</td>\n",
       "      <td>default-improved</td>\n",
       "      <td>step-by-step</td>\n",
       "    </tr>\n",
       "  </tbody>\n",
       "</table>\n",
       "</div>"
      ],
      "text/plain": [
       "               Model                    SP                    WP\n",
       "0        llama3.1:8b            confidence      default-improved\n",
       "1        llama3.2:1b          step-by-step          step-by-step\n",
       "2        llama3.2:3b      default-improved     perspective-shift\n",
       "3        phi3.5:3.8b           elimination              creative\n",
       "4           phi4:14b      default-improved      default-improved\n",
       "5       qwen2.5:0.5b           elimination  assumption-challenge\n",
       "6       qwen2.5:1.5b  assumption-challenge          common-sense\n",
       "7         qwen2.5:3b          step-by-step          step-by-step\n",
       "8         qwen2.5:7b      default-improved           elimination\n",
       "9        qwen2.5:14b            confidence              creative\n",
       "10       qwen2.5:32b              metaphor      default-improved\n",
       "11         gemma2:2b           elimination              creative\n",
       "12         gemma2:9b      default-improved              creative\n",
       "13        gemma2:27b      default-improved            confidence\n",
       "14  mistral-nemo:12b      default-improved          step-by-step"
      ]
     },
     "metadata": {},
     "output_type": "display_data"
    }
   ],
   "source": [
    "with open(\"results/best_system_prompts_by_model_naive.pkl\", \"rb\") as f:\n",
    "    best_system_prompts_by_model_naive = pickle.load(f)\n",
    "    display_best_model_prompt(best_system_prompts_by_model_naive)\n",
    "\n",
    "with open(\"results/best_system_prompts_by_model.pkl\", \"rb\") as f:\n",
    "    best_system_prompts_by_model = pickle.load(f)\n",
    "    display_best_model_prompt(best_system_prompts_by_model)"
   ]
  }
 ],
 "metadata": {
  "kernelspec": {
   "display_name": ".venv",
   "language": "python",
   "name": "python3"
  },
  "language_info": {
   "codemirror_mode": {
    "name": "ipython",
    "version": 3
   },
   "file_extension": ".py",
   "mimetype": "text/x-python",
   "name": "python",
   "nbconvert_exporter": "python",
   "pygments_lexer": "ipython3",
   "version": "3.11.4"
  }
 },
 "nbformat": 4,
 "nbformat_minor": 2
}
