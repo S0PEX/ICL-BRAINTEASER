{
 "cells": [
  {
   "cell_type": "code",
   "execution_count": 5,
   "metadata": {},
   "outputs": [
    {
     "name": "stdout",
     "output_type": "stream",
     "text": [
      "Simple Problems (SP) dataset size: 507\n",
      "Word Problems (WP) dataset size: 396\n",
      "\n",
      "Sample from SP dataset:\n",
      "Question: Mr. and Mrs. Mustard have six daughters and each daughter has one brother. But there are only 9 people in the family, how is that possible?\n",
      "Answer: Each daughter shares the same brother.\n",
      "Distractors: Some daughters get married and have their own family., Some brothers were not loved by family and moved away., None of above.\n",
      "\n",
      "Sample from WP dataset:\n",
      "Question: How do you spell COW in thirteen letters?\n",
      "Answer: SEE O DOUBLE YOU.\n",
      "Distractors: COWCOWCOWCOWW, SEE OH DEREFORD, None of above.\n"
     ]
    }
   ],
   "source": [
    "from scripts.dataset import BrainteaserDataset\n",
    "\n",
    "dataset = BrainteaserDataset(\"data\")\n",
    "\n",
    "# Display dataset sizes\n",
    "print(\"Simple Problems (SP) dataset size:\", len(dataset.sp_train))\n",
    "print(\"Word Problems (WP) dataset size:\", len(dataset.wp_train))\n",
    "\n",
    "# Display a sample from each dataset\n",
    "print(\"\\nSample from SP dataset:\")\n",
    "sp_sample = dataset.sp_train[0]\n",
    "print(f\"Question: {sp_sample.question}\")\n",
    "print(f\"Answer: {sp_sample.answer}\")\n",
    "print(\n",
    "    f\"Distractors: {sp_sample.distractor1}, {sp_sample.distractor2}, {sp_sample.distractor_unsure}\"\n",
    ")\n",
    "\n",
    "print(\"\\nSample from WP dataset:\")\n",
    "wp_sample = dataset.wp_train[0]\n",
    "print(f\"Question: {wp_sample.question}\")\n",
    "print(f\"Answer: {wp_sample.answer}\")\n",
    "print(\n",
    "    f\"Distractors: {wp_sample.distractor1}, {wp_sample.distractor2}, {wp_sample.distractor_unsure}\"\n",
    ")"
   ]
  }
 ],
 "metadata": {
  "kernelspec": {
   "display_name": ".venv",
   "language": "python",
   "name": "python3"
  },
  "language_info": {
   "codemirror_mode": {
    "name": "ipython",
    "version": 3
   },
   "file_extension": ".py",
   "mimetype": "text/x-python",
   "name": "python",
   "nbconvert_exporter": "python",
   "pygments_lexer": "ipython3",
   "version": "3.12.8"
  }
 },
 "nbformat": 4,
 "nbformat_minor": 2
}
