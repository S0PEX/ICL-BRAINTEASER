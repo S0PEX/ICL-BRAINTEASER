{
 "cells": [
  {
   "cell_type": "code",
   "execution_count": 1,
   "metadata": {},
   "outputs": [],
   "source": [
    "from scripts import setup_environment\n",
    "\n",
    "setup_environment()"
   ]
  },
  {
   "cell_type": "code",
   "execution_count": null,
   "metadata": {},
   "outputs": [],
   "source": [
    "import textwrap\n",
    "\n",
    "import dill as pickle\n",
    "from langchain.prompts.chat import (\n",
    "    ChatPromptTemplate,\n",
    "    HumanMessagePromptTemplate,\n",
    "    SystemMessagePromptTemplate,\n",
    ")\n",
    "\n",
    "# System message templates (priming)\n",
    "system_templates = {\n",
    "    \"default\": \"You are an AI assistant.\",\n",
    "    \"default_improved\": \"You are an AI assistant specialized in solving lateral thinking questions. You will receive a question with multiple choices and must determine the correct answer using logical reasoning and problem-solving techniques.\",\n",
    "    \"step_by_step\": \"You are a logical problem solver. Break down the question systematically, analyze each answer choice step by step, eliminate incorrect options, and select the best answer.\",\n",
    "    \"creative\": \"You are a lateral thinker. Approach each question with flexible reasoning, exploring unconventional yet valid interpretations before selecting the best answer.\",\n",
    "    \"elimination\": \"You are a strategic reasoner. First, identify and eliminate incorrect answer choices. Then, select the most logical remaining option.\",\n",
    "    \"metaphor\": \"You are skilled in abstract reasoning. Consider both literal and metaphorical meanings in the question and choices before selecting the most insightful answer.\",\n",
    "    \"confidence\": \"You are an analytical decision-maker. Assess the likelihood of correctness for each choice, score them internally, and select the answer with the highest confidence.\",\n",
    "    \"perspective_shift\": \"You are a multi-perspective analyst. Evaluate the question from different angles, considering alternative interpretations before determining the best answer.\",\n",
    "    \"common_sense\": \"You balance logic and practicality. Apply both structured reasoning and real-world common sense to determine the most reasonable answer.\",\n",
    "    \"assumption_challenge\": \"You are a critical thinker. Identify and question hidden assumptions in the question and choices before selecting the answer that best challenges or aligns with them.\",\n",
    "    \"pattern_matching\": \"You recognize patterns and relationships. Identify logical structures, recurring themes, or hidden connections in the question and choices before selecting the best answer.\",\n",
    "    \"intuitive\": \"You combine intuition with logic. Generate an initial answer instinctively, then critically evaluate it for logical soundness before finalizing your choice.\",\n",
    "}\n",
    "\n",
    "\n",
    "def get_system_prompt(template_name: str):\n",
    "    system_prompt = system_templates[template_name]\n",
    "    system_prompt = textwrap.dedent(system_prompt)\n",
    "\n",
    "    system_prompt_template = SystemMessagePromptTemplate.from_template(\n",
    "        system_prompt, id=template_name\n",
    "    )\n",
    "    return system_prompt_template\n",
    "\n",
    "\n",
    "def get_user_prompt():\n",
    "    prompt = \"\"\"\n",
    "    Please pick the best choice for the brain teaser. Each brain teaser has only one possible solution including the choice none of above, answer should only provide the choice:\n",
    "\n",
    "    Question: {question}\n",
    "    Choice:\n",
    "    {choices}\n",
    "    Answer:\n",
    "    \"\"\"\n",
    "\n",
    "    prompt = textwrap.dedent(prompt)\n",
    "\n",
    "    prompt_template = HumanMessagePromptTemplate.from_template(prompt)\n",
    "    return prompt_template\n",
    "\n",
    "\n",
    "best_prompt_types = None\n",
    "with open(\"results/dict_best_system_prompt_for_models.pkl\", \"rb\") as f:\n",
    "    best_prompt_types = pickle.load(f)\n",
    "\n",
    "\n",
    "def create_prompt_template_by_model(\n",
    "    model_name: str,\n",
    "    dataset_name: str,\n",
    "):\n",
    "    best_system_template_name = best_prompt_types[model_name][dataset_name][\n",
    "        \"prompt_type\"\n",
    "    ]\n",
    "    system_prompt_template = get_system_prompt(best_system_template_name)\n",
    "    user_prompt_template = get_user_prompt()\n",
    "    chat_prompt_template = ChatPromptTemplate.from_messages(\n",
    "        [system_prompt_template, user_prompt_template]\n",
    "    )\n",
    "\n",
    "    return chat_prompt_template"
   ]
  },
  {
   "cell_type": "code",
   "execution_count": 3,
   "metadata": {},
   "outputs": [],
   "source": [
    "from scripts.dataset import BrainteaserDataset\n",
    "\n",
    "dataset = BrainteaserDataset(\"data\")"
   ]
  },
  {
   "cell_type": "code",
   "execution_count": 4,
   "metadata": {},
   "outputs": [],
   "source": [
    "import string\n",
    "\n",
    "from scripts.dataset import RiddleQuestion\n",
    "\n",
    "\n",
    "def args_generator(riddle_question: RiddleQuestion):\n",
    "    template_args = {\n",
    "        \"question\": riddle_question.question,\n",
    "        \"choices\": \"\\n\".join(\n",
    "            [\n",
    "                f\"({string.ascii_uppercase[j]}) {choice}\"\n",
    "                for j, choice in enumerate(riddle_question.choice_list)\n",
    "            ]\n",
    "        ),\n",
    "    }\n",
    "\n",
    "    return template_args"
   ]
  },
  {
   "cell_type": "code",
   "execution_count": null,
   "metadata": {},
   "outputs": [
    {
     "name": "stderr",
     "output_type": "stream",
     "text": [
      "2025-02-18 14:07:16,499 - INFO - Initialized executor with 15 models.\n"
     ]
    }
   ],
   "source": [
    "from scripts.lmm import OllamaModelBuilder\n",
    "from scripts.executor import Executor\n",
    "\n",
    "base_url = \"http://108.179.129.43:31701\"\n",
    "model_builder = OllamaModelBuilder(base_url)\n",
    "\n",
    "executor = Executor(\n",
    "    models=[\n",
    "        # Llama3.1\n",
    "        model_builder.build_model(\"llama3.1:8b-instruct-q8_0\"),  # => 9 GB\n",
    "        # Llama3.2\n",
    "        model_builder.build_model(\"llama3.2:1b-instruct-fp16\"),  # => 2.5 GB\n",
    "        model_builder.build_model(\"llama3.2:3b-instruct-fp16\"),  # => 6.4 GB\n",
    "        # Phi3.5\n",
    "        model_builder.build_model(\"phi3.5:3.8b-mini-instruct-fp16\"),  # => 7.6 GB\n",
    "        # Phi4\n",
    "        model_builder.build_model(\"phi4:14b-q4_K_M\"),  # => 9.1 GB\n",
    "        # Qwen2.5\n",
    "        model_builder.build_model(\"qwen2.5:0.5b-instruct-fp16\"),  # => 1 GB\n",
    "        model_builder.build_model(\"qwen2.5:1.5b-instruct-fp16\"),  # => 3.1 GB\n",
    "        model_builder.build_model(\"qwen2.5:3b-instruct-fp16\"),  # => 6.2 GB\n",
    "        model_builder.build_model(\"qwen2.5:7b-instruct-q8_0\"),  # => 8.1 GB\n",
    "        model_builder.build_model(\"qwen2.5:14b-instruct-q4_K_M\"),  # => 9 GB\n",
    "        model_builder.build_model(\"qwen2.5:32b-instruct-q4_K_M\"),  # => 20 GB\n",
    "        # Gemma2\n",
    "        model_builder.build_model(\"gemma2:2b-instruct-fp16\"),  # => 5.2 GB\n",
    "        model_builder.build_model(\n",
    "            \"gemma2:9b-instruct-q8_0\",\n",
    "        ),  # => 9.8 GB\n",
    "        model_builder.build_model(\"gemma2:27b-instruct-q4_K_M\"),  # => 22 GB\n",
    "        # Mistral Nemo\n",
    "        model_builder.build_model(\"mistral-nemo:12b-instruct-2407-q4_K_M\"),  # => 7.5 GB\n",
    "    ]\n",
    ")"
   ]
  },
  {
   "cell_type": "code",
   "execution_count": 6,
   "metadata": {},
   "outputs": [
    {
     "name": "stderr",
     "output_type": "stream",
     "text": [
      "2025-02-18 14:07:17,019 - INFO - Restored results from results file results/sp_results_best_templates.pkl, skipping execution for this model!\n"
     ]
    }
   ],
   "source": [
    "def get_prompt_template(model_name: str, dataset_name: str):\n",
    "    # Split name after the b paramer, e.g., llama3.1:8b-instruct-fp16 => llama3.1:8b\n",
    "    model_name = model_name[0 : model_name.index(\"b-\") + 1]\n",
    "    chat_prompt_template = create_prompt_template_by_model(model_name, dataset_name)\n",
    "    return chat_prompt_template\n",
    "\n",
    "\n",
    "sp_results = await executor.aexecute(\n",
    "    dataset.sp,\n",
    "    lambda x: get_prompt_template(x, \"sp\"),\n",
    "    args_generator,\n",
    "    dump_to_pickle=True,\n",
    "    create_checkpoints=True,\n",
    "    resume_from_checkpoint=True,\n",
    "    result_file_name=\"sp_results_best_templates\",\n",
    ")"
   ]
  },
  {
   "cell_type": "code",
   "execution_count": 7,
   "metadata": {},
   "outputs": [
    {
     "name": "stderr",
     "output_type": "stream",
     "text": [
      "2025-02-18 14:07:17,047 - INFO - Split dataset of 492 items into 99 batches of size 5\n",
      "2025-02-18 14:07:17,058 - INFO - Restored results from checkpoint for model llama3.1:8b-instruct-q8_0, skipping execution for this model!\n",
      "2025-02-18 14:07:17,067 - INFO - Restored results from checkpoint for model llama3.2:1b-instruct-fp16, skipping execution for this model!\n",
      "2025-02-18 14:07:17,079 - INFO - Restored results from checkpoint for model llama3.2:3b-instruct-fp16, skipping execution for this model!\n",
      "2025-02-18 14:07:17,090 - INFO - Restored results from checkpoint for model phi3.5:3.8b-mini-instruct-fp16, skipping execution for this model!\n",
      "2025-02-18 14:07:17,099 - INFO - Restored results from checkpoint for model phi4:14b-q4_K_M, skipping execution for this model!\n",
      "2025-02-18 14:07:17,314 - INFO - Restored results from checkpoint for model qwen2.5:0.5b-instruct-fp16, skipping execution for this model!\n"
     ]
    },
    {
     "data": {
      "application/vnd.jupyter.widget-view+json": {
       "model_id": "780836b480eb489689e8deb9fc0da7d7",
       "version_major": 2,
       "version_minor": 0
      },
      "text/plain": [
       "qwen2.5:1.5b-instruct-fp16:   0%|          | 0/492 [00:00<?, ?it/s]"
      ]
     },
     "metadata": {},
     "output_type": "display_data"
    },
    {
     "name": "stderr",
     "output_type": "stream",
     "text": [
      "2025-02-18 14:17:07,821 - INFO - Creating checkpoint: results/checkpoints/wp_results_best_templates/qwen2.5:1.5b-instruct-fp16_wp_results_best_templates.pkl\n"
     ]
    },
    {
     "data": {
      "application/vnd.jupyter.widget-view+json": {
       "model_id": "1ebb2f6681104580a609b3d15968d62c",
       "version_major": 2,
       "version_minor": 0
      },
      "text/plain": [
       "qwen2.5:3b-instruct-fp16:   0%|          | 0/492 [00:00<?, ?it/s]"
      ]
     },
     "metadata": {},
     "output_type": "display_data"
    },
    {
     "name": "stderr",
     "output_type": "stream",
     "text": [
      "2025-02-18 14:28:18,954 - INFO - Creating checkpoint: results/checkpoints/wp_results_best_templates/qwen2.5:3b-instruct-fp16_wp_results_best_templates.pkl\n"
     ]
    },
    {
     "data": {
      "application/vnd.jupyter.widget-view+json": {
       "model_id": "ecd5cbd34bd74eabaa5bcd5748f61887",
       "version_major": 2,
       "version_minor": 0
      },
      "text/plain": [
       "qwen2.5:7b-instruct-q8_0:   0%|          | 0/492 [00:00<?, ?it/s]"
      ]
     },
     "metadata": {},
     "output_type": "display_data"
    },
    {
     "name": "stderr",
     "output_type": "stream",
     "text": [
      "2025-02-18 14:36:09,067 - INFO - Creating checkpoint: results/checkpoints/wp_results_best_templates/qwen2.5:7b-instruct-q8_0_wp_results_best_templates.pkl\n"
     ]
    },
    {
     "data": {
      "application/vnd.jupyter.widget-view+json": {
       "model_id": "60ae60765f2b4a198268e509afe0062b",
       "version_major": 2,
       "version_minor": 0
      },
      "text/plain": [
       "qwen2.5:14b-instruct-q4_K_M:   0%|          | 0/492 [00:00<?, ?it/s]"
      ]
     },
     "metadata": {},
     "output_type": "display_data"
    },
    {
     "name": "stderr",
     "output_type": "stream",
     "text": [
      "2025-02-18 14:44:41,159 - INFO - Creating checkpoint: results/checkpoints/wp_results_best_templates/qwen2.5:14b-instruct-q4_K_M_wp_results_best_templates.pkl\n"
     ]
    },
    {
     "data": {
      "application/vnd.jupyter.widget-view+json": {
       "model_id": "92cef638dd0b412d9ebb6e141e07e8a6",
       "version_major": 2,
       "version_minor": 0
      },
      "text/plain": [
       "qwen2.5:32b-instruct-q4_K_M:   0%|          | 0/492 [00:00<?, ?it/s]"
      ]
     },
     "metadata": {},
     "output_type": "display_data"
    },
    {
     "name": "stderr",
     "output_type": "stream",
     "text": [
      "2025-02-18 14:56:48,904 - INFO - Creating checkpoint: results/checkpoints/wp_results_best_templates/qwen2.5:32b-instruct-q4_K_M_wp_results_best_templates.pkl\n"
     ]
    },
    {
     "data": {
      "application/vnd.jupyter.widget-view+json": {
       "model_id": "808511f243f947feb21b8212cffa1411",
       "version_major": 2,
       "version_minor": 0
      },
      "text/plain": [
       "gemma2:2b-instruct-fp16:   0%|          | 0/492 [00:00<?, ?it/s]"
      ]
     },
     "metadata": {},
     "output_type": "display_data"
    },
    {
     "name": "stderr",
     "output_type": "stream",
     "text": [
      "2025-02-18 14:58:29,796 - INFO - Creating checkpoint: results/checkpoints/wp_results_best_templates/gemma2:2b-instruct-fp16_wp_results_best_templates.pkl\n"
     ]
    },
    {
     "data": {
      "application/vnd.jupyter.widget-view+json": {
       "model_id": "cfbaa91a261a4b41b4b30af22b5559b8",
       "version_major": 2,
       "version_minor": 0
      },
      "text/plain": [
       "gemma2:9b-instruct-q8_0:   0%|          | 0/492 [00:00<?, ?it/s]"
      ]
     },
     "metadata": {},
     "output_type": "display_data"
    },
    {
     "name": "stderr",
     "output_type": "stream",
     "text": [
      "2025-02-18 15:01:04,071 - INFO - Creating checkpoint: results/checkpoints/wp_results_best_templates/gemma2:9b-instruct-q8_0_wp_results_best_templates.pkl\n"
     ]
    },
    {
     "data": {
      "application/vnd.jupyter.widget-view+json": {
       "model_id": "9c9524dfc9cc44c2be473088da436ac3",
       "version_major": 2,
       "version_minor": 0
      },
      "text/plain": [
       "gemma2:27b-instruct-q4_K_M:   0%|          | 0/492 [00:00<?, ?it/s]"
      ]
     },
     "metadata": {},
     "output_type": "display_data"
    },
    {
     "name": "stderr",
     "output_type": "stream",
     "text": [
      "2025-02-18 15:08:20,618 - INFO - Creating checkpoint: results/checkpoints/wp_results_best_templates/gemma2:27b-instruct-q4_K_M_wp_results_best_templates.pkl\n"
     ]
    },
    {
     "data": {
      "application/vnd.jupyter.widget-view+json": {
       "model_id": "9ccdf28dfe9e4a03866b30b29d499921",
       "version_major": 2,
       "version_minor": 0
      },
      "text/plain": [
       "mistral-nemo:12b-instruct-2407-q4_K_M:   0%|          | 0/492 [00:00<?, ?it/s]"
      ]
     },
     "metadata": {},
     "output_type": "display_data"
    },
    {
     "name": "stderr",
     "output_type": "stream",
     "text": [
      "2025-02-18 15:11:31,003 - INFO - Creating checkpoint: results/checkpoints/wp_results_best_templates/mistral-nemo:12b-instruct-2407-q4_K_M_wp_results_best_templates.pkl\n",
      "2025-02-18 15:11:31,101 - INFO - Dumping results to results/wp_results_best_templates.pkl\n"
     ]
    }
   ],
   "source": [
    "wp_results = await executor.aexecute(\n",
    "    dataset.wp,\n",
    "    lambda x: get_prompt_template(x, \"wp\"),\n",
    "    args_generator,\n",
    "    dump_to_pickle=True,\n",
    "    create_checkpoints=True,\n",
    "    resume_from_checkpoint=True,\n",
    "    result_file_name=\"wp_results_best_templates\",\n",
    ")"
   ]
  }
 ],
 "metadata": {
  "kernelspec": {
   "display_name": ".venv",
   "language": "python",
   "name": "python3"
  },
  "language_info": {
   "codemirror_mode": {
    "name": "ipython",
    "version": 3
   },
   "file_extension": ".py",
   "mimetype": "text/x-python",
   "name": "python",
   "nbconvert_exporter": "python",
   "pygments_lexer": "ipython3",
   "version": "3.11.4"
  }
 },
 "nbformat": 4,
 "nbformat_minor": 2
}
