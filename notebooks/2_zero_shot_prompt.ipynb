{
 "cells": [
  {
   "cell_type": "code",
   "execution_count": 1,
   "metadata": {},
   "outputs": [],
   "source": [
    "from scripts import setup_environment\n",
    "\n",
    "setup_environment()"
   ]
  },
  {
   "cell_type": "code",
   "execution_count": 2,
   "metadata": {},
   "outputs": [],
   "source": [
    "from scripts.dataset import BrainteaserDataset\n",
    "\n",
    "dataset = BrainteaserDataset(\"data\")"
   ]
  },
  {
   "cell_type": "code",
   "execution_count": 3,
   "metadata": {},
   "outputs": [],
   "source": [
    "import string\n",
    "\n",
    "from scripts.dataset import RiddleQuestion\n",
    "from scripts.prompt_helpers import create_prompt_template\n",
    "\n",
    "\n",
    "def args_generator(riddle_question: RiddleQuestion):\n",
    "    template_args = {\n",
    "        \"question\": riddle_question.question,\n",
    "        \"choices\": \"\\n\".join(\n",
    "            [\n",
    "                f\"({string.ascii_uppercase[j]}) {choice}\"\n",
    "                for j, choice in enumerate(riddle_question.choice_list)\n",
    "            ]\n",
    "        ),\n",
    "    }\n",
    "\n",
    "    return template_args"
   ]
  },
  {
   "cell_type": "code",
   "execution_count": 4,
   "metadata": {},
   "outputs": [
    {
     "name": "stderr",
     "output_type": "stream",
     "text": [
      "2025-02-28 10:18:31,553 - INFO - Initialized executor with 15 models.\n"
     ]
    }
   ],
   "source": [
    "from scripts.lmm import OllamaModelBuilder\n",
    "from scripts.executor import Executor\n",
    "\n",
    "base_url = \"http://107.222.215.224:23251\"\n",
    "model_builder = OllamaModelBuilder(base_url)\n",
    "\n",
    "executor = Executor(\n",
    "    models=[\n",
    "        # Llama3.1\n",
    "        model_builder.build_model(\"llama3.1:8b-instruct-q8_0\"),  # => 9 GB\n",
    "        # Llama3.2\n",
    "        model_builder.build_model(\"llama3.2:1b-instruct-fp16\"),  # => 2.5 GB\n",
    "        model_builder.build_model(\"llama3.2:3b-instruct-fp16\"),  # => 6.4 GB\n",
    "        # Phi3.5\n",
    "        model_builder.build_model(\"phi3.5:3.8b-mini-instruct-fp16\"),  # => 7.6 GB\n",
    "        # Phi4\n",
    "        model_builder.build_model(\"phi4:14b-q4_K_M\"),  # => 9.1 GB\n",
    "        # Qwen2.5\n",
    "        model_builder.build_model(\"qwen2.5:0.5b-instruct-fp16\"),  # => 1 GB\n",
    "        model_builder.build_model(\"qwen2.5:1.5b-instruct-fp16\"),  # => 3.1 GB\n",
    "        model_builder.build_model(\"qwen2.5:3b-instruct-fp16\"),  # => 6.2 GB\n",
    "        model_builder.build_model(\"qwen2.5:7b-instruct-q8_0\"),  # => 8.1 GB\n",
    "        model_builder.build_model(\"qwen2.5:14b-instruct-q4_K_M\"),  # => 9 GB\n",
    "        model_builder.build_model(\"qwen2.5:32b-instruct-q4_K_M\"),  # => 20 GB\n",
    "        # Gemma2\n",
    "        model_builder.build_model(\"gemma2:2b-instruct-fp16\"),  # => 5.2 GB\n",
    "        model_builder.build_model(\n",
    "            \"gemma2:9b-instruct-q8_0\",\n",
    "        ),  # => 9.8 GB\n",
    "        model_builder.build_model(\"gemma2:27b-instruct-q4_K_M\"),  # => 22 GB\n",
    "        # Mistral Nemo\n",
    "        model_builder.build_model(\"mistral-nemo:12b-instruct-2407-q4_K_M\"),  # => 7.5 GB\n",
    "    ]\n",
    ")"
   ]
  },
  {
   "cell_type": "markdown",
   "metadata": {},
   "source": [
    "## Baseline Zero-Shot Evaluation\n",
    "\n",
    "Testing performance with the minimal default system prompt: `You are an AI assistant.` without any task-specific instructions\n"
   ]
  },
  {
   "cell_type": "code",
   "execution_count": 5,
   "metadata": {},
   "outputs": [
    {
     "name": "stderr",
     "output_type": "stream",
     "text": [
      "2025-02-28 10:18:31,579 - INFO - Starting execution 'baseline-zero-shot-evaluation': 2 dataset(s) x 15 model(s) = 16785 riddle evaluations\n"
     ]
    },
    {
     "data": {
      "application/vnd.jupyter.widget-view+json": {
       "model_id": "0157a7c2c6e6444baf3ec61bd85f1e90",
       "version_major": 2,
       "version_minor": 0
      },
      "text/plain": [
       "baseline-zero-shot-evaluation:   0%|          | 0/16785 [00:00<?, ?it/s]"
      ]
     },
     "metadata": {},
     "output_type": "display_data"
    }
   ],
   "source": [
    "from scripts.executor import Dataset\n",
    "\n",
    "executor_data = [\n",
    "    Dataset(name=\"sp\", riddles=dataset.sp),\n",
    "    Dataset(name=\"wp\", riddles=dataset.wp),\n",
    "]\n",
    "chat_prompt_template = create_prompt_template(\"default\")\n",
    "results = await executor.aexecute(\n",
    "    executor_data,\n",
    "    chat_prompt_template,\n",
    "    args_generator,\n",
    "    dump_to_pickle=True,\n",
    "    create_checkpoints=True,\n",
    "    resume_from_checkpoint=True,\n",
    "    run_name=\"baseline-zero-shot-evaluation\",\n",
    ")"
   ]
  },
  {
   "cell_type": "markdown",
   "metadata": {},
   "source": [
    "## Model-Specific System Prompt Optimization: Comparative Analysis of Zero-Shot Performance\n"
   ]
  },
  {
   "cell_type": "code",
   "execution_count": 6,
   "metadata": {},
   "outputs": [],
   "source": [
    "import dill as pickle\n",
    "\n",
    "# Get the best prompt type for each model\n",
    "with open(\"results/best_system_prompts_by_model.pkl\", \"rb\") as f:\n",
    "    best_prompt_types = pickle.load(f)\n",
    "\n",
    "\n",
    "def create_prompt_template_by_model(\n",
    "    model_name: str,\n",
    "    dataset_name: str,\n",
    "):\n",
    "    best_system_template_name = best_prompt_types[model_name][dataset_name][\n",
    "        \"prompt_type\"\n",
    "    ]\n",
    "    return create_prompt_template(best_system_template_name)\n",
    "\n",
    "\n",
    "def get_prompt_template(model_name: str, dataset: Dataset):\n",
    "    # Split name after the b paramer, e.g., llama3.1:8b-instruct-fp16 => llama3.1:8b\n",
    "    model_name = model_name[0 : model_name.index(\"b-\") + 1]\n",
    "    chat_prompt_template = create_prompt_template_by_model(model_name, dataset.name)\n",
    "    return chat_prompt_template"
   ]
  },
  {
   "cell_type": "code",
   "execution_count": 7,
   "metadata": {},
   "outputs": [
    {
     "name": "stderr",
     "output_type": "stream",
     "text": [
      "2025-02-28 10:18:32,246 - INFO - Starting execution 'system-optimized-zero-shot-evaluation': 2 dataset(s) x 15 model(s) = 16785 riddle evaluations\n"
     ]
    },
    {
     "data": {
      "application/vnd.jupyter.widget-view+json": {
       "model_id": "bba3d047db594a74b105154189768756",
       "version_major": 2,
       "version_minor": 0
      },
      "text/plain": [
       "system-optimized-zero-shot-evaluation:   0%|          | 0/16785 [00:00<?, ?it/s]"
      ]
     },
     "metadata": {},
     "output_type": "display_data"
    },
    {
     "name": "stderr",
     "output_type": "stream",
     "text": [
      "2025-02-28 11:51:18,478 - INFO - Saving results to results/system-optimized-zero-shot-evaluation/system-optimized-zero-shot-evaluation_results.pkl\n",
      "2025-02-28 11:51:23,555 - INFO - Execution 'system-optimized-zero-shot-evaluation' completed successfully.\n"
     ]
    }
   ],
   "source": [
    "results = await executor.aexecute(\n",
    "    executor_data,\n",
    "    get_prompt_template,\n",
    "    args_generator,\n",
    "    dump_to_pickle=True,\n",
    "    create_checkpoints=True,\n",
    "    resume_from_checkpoint=True,\n",
    "    run_name=\"system_optimized_zero_shot_evaluation\",\n",
    ")"
   ]
  }
 ],
 "metadata": {
  "kernelspec": {
   "display_name": ".venv",
   "language": "python",
   "name": "python3"
  },
  "language_info": {
   "codemirror_mode": {
    "name": "ipython",
    "version": 3
   },
   "file_extension": ".py",
   "mimetype": "text/x-python",
   "name": "python",
   "nbconvert_exporter": "python",
   "pygments_lexer": "ipython3",
   "version": "3.11.4"
  }
 },
 "nbformat": 4,
 "nbformat_minor": 2
}
