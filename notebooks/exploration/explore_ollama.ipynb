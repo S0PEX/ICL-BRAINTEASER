{
 "cells": [
  {
   "cell_type": "code",
   "execution_count": 2,
   "metadata": {},
   "outputs": [],
   "source": [
    "from scripts.dataset import BrainteaserDataset\n",
    "\n",
    "dataset = BrainteaserDataset(\"data\")"
   ]
  },
  {
   "cell_type": "code",
   "execution_count": 3,
   "metadata": {},
   "outputs": [],
   "source": [
    "import string\n",
    "import textwrap\n",
    "\n",
    "from langchain.prompts.chat import (\n",
    "    ChatPromptTemplate,\n",
    "    HumanMessagePromptTemplate,\n",
    "    SystemMessagePromptTemplate,\n",
    ")\n",
    "\n",
    "from scripts.dataset import RiddleQuestion\n",
    "\n",
    "system_prompt_template = SystemMessagePromptTemplate.from_template(\n",
    "    \"You are a helpful assistant.\"\n",
    ")\n",
    "\n",
    "prompt = \"\"\"\n",
    "    Please pick the best choice for the brain teaser. Each brain teaser has only one possible solution including the choice none of above, answer should only provide the choice:\n",
    "\n",
    "    Question: {question}\n",
    "    Choice:\n",
    "    {choices}\n",
    "    Answer:\n",
    "    \"\"\"\n",
    "\n",
    "prompt = textwrap.dedent(prompt)\n",
    "user_prompt_template = HumanMessagePromptTemplate.from_template(prompt)\n",
    "\n",
    "chat_prompt_template = ChatPromptTemplate.from_messages(\n",
    "    [system_prompt_template, user_prompt_template]\n",
    ")\n",
    "\n",
    "\n",
    "def args_generator(riddle_question: RiddleQuestion):\n",
    "    template_args = {\n",
    "        \"question\": riddle_question.question,\n",
    "        \"choices\": \"\\n\".join(\n",
    "            [\n",
    "                f\"({string.ascii_uppercase[j]}) {choice}\"\n",
    "                for j, choice in enumerate(riddle_question.choice_list)\n",
    "            ]\n",
    "        ),\n",
    "    }\n",
    "\n",
    "    return template_args"
   ]
  },
  {
   "cell_type": "code",
   "execution_count": 6,
   "metadata": {},
   "outputs": [
    {
     "data": {
      "text/plain": [
       "ProgressResponse(status='success', completed=None, total=None, digest=None)"
      ]
     },
     "execution_count": 6,
     "metadata": {},
     "output_type": "execute_result"
    }
   ],
   "source": [
    "import ollama\n",
    "\n",
    "model = \"llama3.2:3b-instruct-fp16\"\n",
    "\n",
    "ollama.pull(model)"
   ]
  },
  {
   "cell_type": "code",
   "execution_count": null,
   "metadata": {},
   "outputs": [],
   "source": [
    "from ollama import pull\n",
    "from tqdm.notebook import tqdm\n",
    "\n",
    "from scripts.lmm import OllamaLlm\n",
    "\n",
    "models = [\n",
    "    OllamaLlm(\"llama3.1\"),\n",
    "    OllamaLlm(\"llama3.2\"),\n",
    "    OllamaLlm(\"phi3.5\"),\n",
    "    OllamaLlm(\"phi4\"),\n",
    "    OllamaLlm(\"deepseek-r1\"),\n",
    "    OllamaLlm(\"qwen2.5\"),\n",
    "    OllamaLlm(\"gemma2\"),\n",
    "]\n",
    "\n",
    "sample_riddles = dataset.sp_train[:20]\n",
    "\n",
    "total_results = []\n",
    "results = []\n",
    "for model in models:\n",
    "    pull(model.name)\n",
    "    model_results = []\n",
    "    for riddle in tqdm(sample_riddles, desc=model.name):\n",
    "        result = model.generate(chat_prompt_template, args_generator(riddle))\n",
    "        model_results.append(result)\n",
    "    results.append((model.name, model_results))\n",
    "total_results.append((chat_prompt_template, results))"
   ]
  }
 ],
 "metadata": {
  "kernelspec": {
   "display_name": ".venv",
   "language": "python",
   "name": "python3"
  },
  "language_info": {
   "codemirror_mode": {
    "name": "ipython",
    "version": 3
   },
   "file_extension": ".py",
   "mimetype": "text/x-python",
   "name": "python",
   "nbconvert_exporter": "python",
   "pygments_lexer": "ipython3",
   "version": "3.11.4"
  }
 },
 "nbformat": 4,
 "nbformat_minor": 2
}
