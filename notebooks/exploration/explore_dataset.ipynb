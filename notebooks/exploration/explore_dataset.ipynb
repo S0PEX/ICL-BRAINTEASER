{
 "cells": [
  {
   "cell_type": "code",
   "execution_count": 1,
   "metadata": {},
   "outputs": [
    {
     "data": {
      "text/plain": [
       "{'id': 'SP-0',\n",
       " 'question': 'Mr. and Mrs. Mustard have six daughters and each daughter has one brother. But there are only 9 people in the family, how is that possible?',\n",
       " 'answer': 'Each daughter shares the same brother.',\n",
       " 'distrator1': 'Some daughters get married and have their own family.',\n",
       " 'distrator2': 'Some brothers were not loved by family and moved away.',\n",
       " 'distrator(unsure)': 'None of above.',\n",
       " 'label': 2,\n",
       " 'choice_list': ['Some brothers were not loved by family and moved away.',\n",
       "  'Some daughters get married and have their own family.',\n",
       "  'Each daughter shares the same brother.',\n",
       "  'None of above.'],\n",
       " 'choice_order': [2, 1, 0, 3]}"
      ]
     },
     "metadata": {},
     "output_type": "display_data"
    },
    {
     "name": "stdout",
     "output_type": "stream",
     "text": [
      "SP riddles: 627\n"
     ]
    },
    {
     "data": {
      "text/plain": [
       "{'id': 'SP-0',\n",
       " 'question': 'Mr. and Mrs. Mustard have six daughters and each daughter has one brother. But there are only 9 people in the family, how is that possible?',\n",
       " 'answer': 'Each daughter shares the same brother.',\n",
       " 'distractor1': 'Some daughters get married and have their own family.',\n",
       " 'distractor2': 'Some brothers were not loved by family and moved away.',\n",
       " 'distractor(unsure)': 'None of above.',\n",
       " 'label': 1,\n",
       " 'choice_list': ['Some daughters get married and have their own family.',\n",
       "  'Each daughter shares the same brother.',\n",
       "  'Some brothers were not loved by family and moved away.',\n",
       "  'None of above.'],\n",
       " 'choice_order': [1, 0, 2, 3]}"
      ]
     },
     "metadata": {},
     "output_type": "display_data"
    },
    {
     "name": "stdout",
     "output_type": "stream",
     "text": [
      "SP train riddles: 507\n"
     ]
    },
    {
     "data": {
      "text/plain": [
       "{'id': 'WP-0',\n",
       " 'question': 'How do you spell COW in thirteen letters?',\n",
       " 'answer': 'SEE O DOUBLE YOU.',\n",
       " 'distrator1': 'COWCOWCOWCOWW',\n",
       " 'distrator2': 'SEE OH DEREFORD',\n",
       " 'distrator(unsure)': 'None of above.',\n",
       " 'label': 0,\n",
       " 'choice_list': ['SEE O DOUBLE YOU.',\n",
       "  'SEE OH DEREFORD',\n",
       "  'COWCOWCOWCOWW',\n",
       "  'None of above.'],\n",
       " 'choice_order': [0, 2, 1, 3]}"
      ]
     },
     "metadata": {},
     "output_type": "display_data"
    },
    {
     "name": "stdout",
     "output_type": "stream",
     "text": [
      "WP riddles: 492\n"
     ]
    }
   ],
   "source": [
    "import numpy as np\n",
    "\n",
    "sp = np.load(\"data/sentence_puzzle.npy\", allow_pickle=True)\n",
    "display(sp[0])\n",
    "print(f\"SP riddles: {len(sp)}\")\n",
    "\n",
    "sp_train = np.load(\"data/SP_train.npy\", allow_pickle=True)\n",
    "display(sp_train[0])\n",
    "print(f\"SP train riddles: {len(sp_train)}\")\n",
    "\n",
    "wp = np.load(\"data/word_puzzle.npy\", allow_pickle=True)\n",
    "display(wp[0])\n",
    "print(f\"WP riddles: {len(wp)}\")"
   ]
  },
  {
   "cell_type": "code",
   "execution_count": 3,
   "metadata": {},
   "outputs": [
    {
     "name": "stdout",
     "output_type": "stream",
     "text": [
      "Simple Problems (SP) dataset size: 627\n",
      "Word Problems (WP) dataset size: 492\n",
      "\n",
      "Sample from SP dataset:\n",
      "Question: Mr. and Mrs. Mustard have six daughters and each daughter has one brother. But there are only 9 people in the family, how is that possible?\n",
      "Answer: Each daughter shares the same brother.\n",
      "Distractors: Some daughters get married and have their own family., Some brothers were not loved by family and moved away., None of above.\n",
      "\n",
      "Sample from WP dataset:\n",
      "Question: How do you spell COW in thirteen letters?\n",
      "Answer: SEE O DOUBLE YOU.\n",
      "Distractors: COWCOWCOWCOWW, SEE OH DEREFORD, None of above.\n"
     ]
    }
   ],
   "source": [
    "from scripts.dataset import BrainteaserDataset\n",
    "\n",
    "dataset = BrainteaserDataset(\"data\")\n",
    "\n",
    "# Display dataset sizes\n",
    "print(\"Simple Problems (SP) dataset size:\", len(dataset.sp))\n",
    "print(\"Word Problems (WP) dataset size:\", len(dataset.wp))\n",
    "\n",
    "# Display a sample from each dataset\n",
    "print(\"\\nSample from SP dataset:\")\n",
    "sp_sample = dataset.sp[0]\n",
    "print(f\"Question: {sp_sample.question}\")\n",
    "print(f\"Answer: {sp_sample.answer}\")\n",
    "print(\n",
    "    f\"Distractors: {sp_sample.distractor1}, {sp_sample.distractor2}, {sp_sample.distractor_unsure}\"\n",
    ")\n",
    "\n",
    "print(\"\\nSample from WP dataset:\")\n",
    "wp_sample = dataset.wp[0]\n",
    "print(f\"Question: {wp_sample.question}\")\n",
    "print(f\"Answer: {wp_sample.answer}\")\n",
    "print(\n",
    "    f\"Distractors: {wp_sample.distractor1}, {wp_sample.distractor2}, {wp_sample.distractor_unsure}\"\n",
    ")"
   ]
  }
 ],
 "metadata": {
  "kernelspec": {
   "display_name": ".venv",
   "language": "python",
   "name": "python3"
  },
  "language_info": {
   "codemirror_mode": {
    "name": "ipython",
    "version": 3
   },
   "file_extension": ".py",
   "mimetype": "text/x-python",
   "name": "python",
   "nbconvert_exporter": "python",
   "pygments_lexer": "ipython3",
   "version": "3.11.4"
  }
 },
 "nbformat": 4,
 "nbformat_minor": 2
}
