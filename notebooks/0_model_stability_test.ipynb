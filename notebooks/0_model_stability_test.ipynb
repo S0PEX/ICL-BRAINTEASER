{
 "cells": [
  {
   "cell_type": "code",
   "execution_count": 1,
   "metadata": {},
   "outputs": [],
   "source": [
    "from scripts import setup_environment\n",
    "\n",
    "setup_environment()"
   ]
  },
  {
   "cell_type": "code",
   "execution_count": 2,
   "metadata": {},
   "outputs": [],
   "source": [
    "from scripts.dataset import BrainteaserDataset\n",
    "\n",
    "dataset = BrainteaserDataset(\"data\")"
   ]
  },
  {
   "cell_type": "code",
   "execution_count": 3,
   "metadata": {},
   "outputs": [],
   "source": [
    "import string\n",
    "\n",
    "from scripts.dataset import RiddleQuestion\n",
    "from scripts.prompt_helpers import create_prompt_template\n",
    "\n",
    "\n",
    "def args_generator(riddle_question: RiddleQuestion):\n",
    "    template_args = {\n",
    "        \"question\": riddle_question.question,\n",
    "        \"choices\": \"\\n\".join(\n",
    "            [\n",
    "                f\"({string.ascii_uppercase[j]}) {choice}\"\n",
    "                for j, choice in enumerate(riddle_question.choice_list)\n",
    "            ]\n",
    "        ),\n",
    "    }\n",
    "\n",
    "    return template_args\n",
    "\n",
    "\n",
    "chat_prompt_template = create_prompt_template(\"default\")"
   ]
  },
  {
   "cell_type": "code",
   "execution_count": 4,
   "metadata": {},
   "outputs": [
    {
     "name": "stderr",
     "output_type": "stream",
     "text": [
      "2025-03-02 22:36:38,458 - INFO - Initialized executor with 15 models.\n"
     ]
    }
   ],
   "source": [
    "from scripts.lmm import OllamaModelBuilder\n",
    "from scripts.executor import Executor\n",
    "\n",
    "base_url = \"http://108.179.129.43:32301\"\n",
    "# Ensure that the temperature is set to 0.0f, otherwise the model could be unstable due to taking risks\n",
    "# but this will also make the model less creative. As we are interested in the stability of the model, this is not a problem.\n",
    "model_builder = OllamaModelBuilder(base_url, temperature=0.0)\n",
    "\n",
    "executor = Executor(\n",
    "    models=[\n",
    "        # Llama3.1\n",
    "        model_builder.build_model(\"llama3.1:8b\"),\n",
    "        # Llama3.2\n",
    "        model_builder.build_model(\"llama3.2:1b\"),\n",
    "        model_builder.build_model(\"llama3.2:3b\"),\n",
    "        # Phi3.5\n",
    "        model_builder.build_model(\"phi3.5:3.8b\"),\n",
    "        # Phi4\n",
    "        model_builder.build_model(\"phi4:14b\"),\n",
    "        # Qwen2.5\n",
    "        model_builder.build_model(\"qwen2.5:0.5b\"),\n",
    "        model_builder.build_model(\"qwen2.5:1.5b\"),\n",
    "        model_builder.build_model(\"qwen2.5:3b\"),\n",
    "        model_builder.build_model(\"qwen2.5:7b\"),\n",
    "        model_builder.build_model(\"qwen2.5:14b\"),\n",
    "        model_builder.build_model(\"qwen2.5:32b\"),\n",
    "        # Gemma2\n",
    "        model_builder.build_model(\"gemma2:2b\"),\n",
    "        model_builder.build_model(\"gemma2:9b\"),\n",
    "        model_builder.build_model(\"gemma2:27b\"),\n",
    "        # Mistral Nemo\n",
    "        model_builder.build_model(\"mistral-nemo:12b\"),\n",
    "    ]\n",
    ")"
   ]
  },
  {
   "cell_type": "code",
   "execution_count": 5,
   "metadata": {},
   "outputs": [],
   "source": [
    "import numpy as np\n",
    "\n",
    "from scripts.executor import Dataset\n",
    "\n",
    "# Set fixed seed for reproducibility\n",
    "np.random.seed(42)\n",
    "\n",
    "\n",
    "def create_test_dataset(data: list[RiddleQuestion], name: str, percentage: float = 0.1):\n",
    "    \"\"\"Create a test dataset by randomly sampling a percentage of the original data.\"\"\"\n",
    "    indices = np.random.choice(\n",
    "        len(data), size=int(len(data) * percentage), replace=False\n",
    "    )\n",
    "    return Dataset(name=name, riddles=[data[i] for i in indices])\n",
    "\n",
    "\n",
    "# Create test datasets\n",
    "sp_data = create_test_dataset(dataset.sp, \"sp\")\n",
    "wp_data = create_test_dataset(dataset.wp, \"wp\")\n",
    "\n",
    "# Prepare executor data\n",
    "executor_data = [sp_data, wp_data]"
   ]
  },
  {
   "cell_type": "code",
   "execution_count": 6,
   "metadata": {},
   "outputs": [
    {
     "name": "stderr",
     "output_type": "stream",
     "text": [
      "2025-03-02 22:36:38,481 - INFO - Starting execution 'model-stability-test with suffix 'run_0'': 2 dataset(s) x 15 model(s) = 1665 riddle evaluations\n"
     ]
    },
    {
     "data": {
      "application/vnd.jupyter.widget-view+json": {
       "model_id": "1bf2be5083164cb9b61d1cf170a20575",
       "version_major": 2,
       "version_minor": 0
      },
      "text/plain": [
       "model-stability-test(run-0):   0%|          | 0/1665 [00:00<?, ?it/s]"
      ]
     },
     "metadata": {},
     "output_type": "display_data"
    },
    {
     "name": "stderr",
     "output_type": "stream",
     "text": [
      "2025-03-02 22:36:38,580 - INFO - Starting execution 'model-stability-test with suffix 'run_1'': 2 dataset(s) x 15 model(s) = 1665 riddle evaluations\n"
     ]
    },
    {
     "data": {
      "application/vnd.jupyter.widget-view+json": {
       "model_id": "fef8005cc3214687ab04f5cfb75ed9b7",
       "version_major": 2,
       "version_minor": 0
      },
      "text/plain": [
       "model-stability-test(run-1):   0%|          | 0/1665 [00:00<?, ?it/s]"
      ]
     },
     "metadata": {},
     "output_type": "display_data"
    },
    {
     "name": "stderr",
     "output_type": "stream",
     "text": [
      "2025-03-02 22:36:38,700 - INFO - Starting execution 'model-stability-test with suffix 'run_2'': 2 dataset(s) x 15 model(s) = 1665 riddle evaluations\n"
     ]
    },
    {
     "data": {
      "application/vnd.jupyter.widget-view+json": {
       "model_id": "f57575c89757495c898cd3635a08ae97",
       "version_major": 2,
       "version_minor": 0
      },
      "text/plain": [
       "model-stability-test(run-2):   0%|          | 0/1665 [00:00<?, ?it/s]"
      ]
     },
     "metadata": {},
     "output_type": "display_data"
    },
    {
     "name": "stderr",
     "output_type": "stream",
     "text": [
      "2025-03-02 22:36:38,727 - INFO - Starting execution 'model-stability-test with suffix 'run_3'': 2 dataset(s) x 15 model(s) = 1665 riddle evaluations\n"
     ]
    },
    {
     "data": {
      "application/vnd.jupyter.widget-view+json": {
       "model_id": "3071bfd3117c47d79085947bbae9a8d2",
       "version_major": 2,
       "version_minor": 0
      },
      "text/plain": [
       "model-stability-test(run-3):   0%|          | 0/1665 [00:00<?, ?it/s]"
      ]
     },
     "metadata": {},
     "output_type": "display_data"
    },
    {
     "name": "stderr",
     "output_type": "stream",
     "text": [
      "2025-03-02 22:36:38,879 - INFO - Starting execution 'model-stability-test with suffix 'run_4'': 2 dataset(s) x 15 model(s) = 1665 riddle evaluations\n"
     ]
    },
    {
     "data": {
      "application/vnd.jupyter.widget-view+json": {
       "model_id": "18bc82cd811143939d0d78183c4377e3",
       "version_major": 2,
       "version_minor": 0
      },
      "text/plain": [
       "model-stability-test(run-4):   0%|          | 0/1665 [00:00<?, ?it/s]"
      ]
     },
     "metadata": {},
     "output_type": "display_data"
    },
    {
     "name": "stderr",
     "output_type": "stream",
     "text": [
      "2025-03-02 22:40:55,843 - INFO - Saving results to results/model-stability-test/model-stability-test_run-4_results.pkl\n",
      "2025-03-02 22:40:56,342 - INFO - Execution 'model-stability-test with suffix 'run_4'' completed successfully.\n"
     ]
    }
   ],
   "source": [
    "total_results = {}\n",
    "\n",
    "for run_index in range(5):\n",
    "    chat_prompt_template = create_prompt_template(\"default\")\n",
    "    results = await executor.aexecute(\n",
    "        executor_data,\n",
    "        chat_prompt_template,\n",
    "        args_generator,\n",
    "        dump_to_pickle=True,\n",
    "        create_checkpoints=True,\n",
    "        resume_from_checkpoint=True,\n",
    "        run_name=\"model_stability_test\",\n",
    "        file_name_suffix=f\"run_{run_index}\",\n",
    "    )\n",
    "    total_results[run_index] = results"
   ]
  },
  {
   "cell_type": "markdown",
   "metadata": {},
   "source": [
    "## Eval results\n"
   ]
  },
  {
   "cell_type": "code",
   "execution_count": 10,
   "metadata": {},
   "outputs": [
    {
     "name": "stdout",
     "output_type": "stream",
     "text": [
      "Loaded 5 result sets from disk.\n"
     ]
    }
   ],
   "source": [
    "import os\n",
    "import glob\n",
    "import pickle\n",
    "from pathlib import Path\n",
    "\n",
    "# Define the results directory path\n",
    "results_dir = Path(\"results/model-stability-test\")\n",
    "\n",
    "# Get all result files\n",
    "result_files = glob.glob(str(results_dir / \"model-stability-test_run-*_results.pkl\"))\n",
    "\n",
    "# Load all results into a dictionary\n",
    "# The first key is the suffix (technique name)\n",
    "total_results = {}\n",
    "\n",
    "for file_path in result_files:\n",
    "    # Extract the suffix from the filename\n",
    "    suffix = os.path.basename(file_path).split(\"_\")[1]\n",
    "\n",
    "    # Load the results from the pickle file\n",
    "    with open(file_path, \"rb\") as f:\n",
    "        wrapped_results = pickle.load(f)\n",
    "        total_results[suffix] = wrapped_results.results\n",
    "\n",
    "print(f\"Loaded {len(total_results)} result sets from disk.\")"
   ]
  },
  {
   "cell_type": "code",
   "execution_count": 11,
   "metadata": {},
   "outputs": [
    {
     "name": "stdout",
     "output_type": "stream",
     "text": [
      "Model Stability Analysis\n",
      "\n",
      "================================================================================\n",
      "\n",
      "Model: llama3.1:8b\n",
      "--------------------------------------------------------------------------------\n",
      "  Dataset: sp\n",
      "    Stability: 66.13% (41/62 riddles with consistent answers)\n",
      "    Answer variations: {1: 41, 2: 18, 3: 1, 4: 2}\n",
      "  Dataset: wp\n",
      "    Stability: 63.27% (31/49 riddles with consistent answers)\n",
      "    Answer variations: {1: 31, 2: 14, 3: 4}\n",
      "\n",
      "Model: llama3.2:1b\n",
      "--------------------------------------------------------------------------------\n",
      "  Dataset: sp\n",
      "    Stability: 93.55% (58/62 riddles with consistent answers)\n",
      "    Answer variations: {1: 58, 2: 4}\n",
      "  Dataset: wp\n",
      "    Stability: 97.96% (48/49 riddles with consistent answers)\n",
      "    Answer variations: {1: 48, 2: 1}\n",
      "\n",
      "Model: llama3.2:3b\n",
      "--------------------------------------------------------------------------------\n",
      "  Dataset: sp\n",
      "    Stability: 61.29% (38/62 riddles with consistent answers)\n",
      "    Answer variations: {1: 38, 2: 15, 3: 4, 4: 3, 5: 2}\n",
      "  Dataset: wp\n",
      "    Stability: 63.27% (31/49 riddles with consistent answers)\n",
      "    Answer variations: {1: 31, 2: 14, 3: 4}\n",
      "\n",
      "Model: phi3.5:3.8b\n",
      "--------------------------------------------------------------------------------\n",
      "  Dataset: sp\n",
      "    Stability: 0.00% (0/62 riddles with consistent answers)\n",
      "    Answer variations: {2: 1, 4: 4, 5: 57}\n",
      "  Dataset: wp\n",
      "    Stability: 0.00% (0/49 riddles with consistent answers)\n",
      "    Answer variations: {3: 5, 4: 9, 5: 35}\n",
      "\n",
      "Model: phi4:14b\n",
      "--------------------------------------------------------------------------------\n",
      "  Dataset: sp\n",
      "    Stability: 59.68% (37/62 riddles with consistent answers)\n",
      "    Answer variations: {1: 37, 2: 10, 3: 8, 4: 6, 5: 1}\n",
      "  Dataset: wp\n",
      "    Stability: 48.98% (24/49 riddles with consistent answers)\n",
      "    Answer variations: {1: 24, 2: 14, 3: 7, 4: 3, 5: 1}\n",
      "\n",
      "Model: qwen2.5:0.5b\n",
      "--------------------------------------------------------------------------------\n",
      "  Dataset: sp\n",
      "    Stability: 29.03% (18/62 riddles with consistent answers)\n",
      "    Answer variations: {1: 18, 2: 6, 3: 5, 4: 7, 5: 26}\n",
      "  Dataset: wp\n",
      "    Stability: 79.59% (39/49 riddles with consistent answers)\n",
      "    Answer variations: {1: 39, 2: 6, 4: 2, 5: 2}\n",
      "\n",
      "Model: qwen2.5:1.5b\n",
      "--------------------------------------------------------------------------------\n",
      "  Dataset: sp\n",
      "    Stability: 82.26% (51/62 riddles with consistent answers)\n",
      "    Answer variations: {1: 51, 2: 9, 3: 1, 4: 1}\n",
      "  Dataset: wp\n",
      "    Stability: 73.47% (36/49 riddles with consistent answers)\n",
      "    Answer variations: {1: 36, 2: 9, 3: 3, 4: 1}\n",
      "\n",
      "Model: qwen2.5:3b\n",
      "--------------------------------------------------------------------------------\n",
      "  Dataset: sp\n",
      "    Stability: 82.26% (51/62 riddles with consistent answers)\n",
      "    Answer variations: {1: 51, 2: 11}\n",
      "  Dataset: wp\n",
      "    Stability: 87.76% (43/49 riddles with consistent answers)\n",
      "    Answer variations: {1: 43, 2: 5, 4: 1}\n",
      "\n",
      "Model: qwen2.5:7b\n",
      "--------------------------------------------------------------------------------\n",
      "  Dataset: sp\n",
      "    Stability: 85.48% (53/62 riddles with consistent answers)\n",
      "    Answer variations: {1: 53, 2: 9}\n",
      "  Dataset: wp\n",
      "    Stability: 81.63% (40/49 riddles with consistent answers)\n",
      "    Answer variations: {1: 40, 2: 9}\n",
      "\n",
      "Model: qwen2.5:14b\n",
      "--------------------------------------------------------------------------------\n",
      "  Dataset: sp\n",
      "    Stability: 91.94% (57/62 riddles with consistent answers)\n",
      "    Answer variations: {1: 57, 2: 5}\n",
      "  Dataset: wp\n",
      "    Stability: 97.96% (48/49 riddles with consistent answers)\n",
      "    Answer variations: {1: 48, 2: 1}\n",
      "\n",
      "Model: qwen2.5:32b\n",
      "--------------------------------------------------------------------------------\n",
      "  Dataset: sp\n",
      "    Stability: 58.06% (36/62 riddles with consistent answers)\n",
      "    Answer variations: {1: 36, 2: 9, 3: 3, 4: 8, 5: 6}\n",
      "  Dataset: wp\n",
      "    Stability: 51.02% (25/49 riddles with consistent answers)\n",
      "    Answer variations: {1: 25, 2: 5, 3: 7, 4: 10, 5: 2}\n",
      "\n",
      "Model: gemma2:2b\n",
      "--------------------------------------------------------------------------------\n",
      "  Dataset: sp\n",
      "    Stability: 79.03% (49/62 riddles with consistent answers)\n",
      "    Answer variations: {1: 49, 2: 10, 3: 2, 5: 1}\n",
      "  Dataset: wp\n",
      "    Stability: 85.71% (42/49 riddles with consistent answers)\n",
      "    Answer variations: {1: 42, 2: 7}\n",
      "\n",
      "Model: gemma2:9b\n",
      "--------------------------------------------------------------------------------\n",
      "  Dataset: sp\n",
      "    Stability: 91.94% (57/62 riddles with consistent answers)\n",
      "    Answer variations: {1: 57, 2: 5}\n",
      "  Dataset: wp\n",
      "    Stability: 93.88% (46/49 riddles with consistent answers)\n",
      "    Answer variations: {1: 46, 2: 2, 3: 1}\n",
      "\n",
      "Model: gemma2:27b\n",
      "--------------------------------------------------------------------------------\n",
      "  Dataset: sp\n",
      "    Stability: 88.71% (55/62 riddles with consistent answers)\n",
      "    Answer variations: {1: 55, 2: 5, 3: 1, 4: 1}\n",
      "  Dataset: wp\n",
      "    Stability: 85.71% (42/49 riddles with consistent answers)\n",
      "    Answer variations: {1: 42, 2: 5, 3: 1, 4: 1}\n",
      "\n",
      "Model: mistral-nemo:12b\n",
      "--------------------------------------------------------------------------------\n",
      "  Dataset: sp\n",
      "    Stability: 90.32% (56/62 riddles with consistent answers)\n",
      "    Answer variations: {1: 56, 2: 6}\n",
      "  Dataset: wp\n",
      "    Stability: 75.51% (37/49 riddles with consistent answers)\n",
      "    Answer variations: {1: 37, 2: 12}\n"
     ]
    },
    {
     "data": {
      "image/png": "[encoded data removed]",
      "text/plain": [
       "<Figure size 1200x1000 with 2 Axes>"
      ]
     },
     "metadata": {},
     "output_type": "display_data"
    }
   ],
   "source": [
    "import numpy as np\n",
    "import seaborn as sns\n",
    "import matplotlib.pyplot as plt\n",
    "\n",
    "\n",
    "def check_model_stability(total_results):\n",
    "    model_stability = {}\n",
    "    dataset_stability = {}\n",
    "\n",
    "    run_names = list(total_results.keys())\n",
    "    if not run_names:\n",
    "        return {\"error\": \"No runs found in results\"}\n",
    "\n",
    "    first_run = total_results[run_names[0]]\n",
    "    datasets = list(first_run.keys())\n",
    "\n",
    "    for dataset_name in datasets:\n",
    "        models = list(first_run[dataset_name].keys())\n",
    "        dataset_stability[dataset_name] = {}\n",
    "\n",
    "        for model_name in models:\n",
    "            riddle_answers = {}\n",
    "            first_run_riddles = first_run[dataset_name][model_name]\n",
    "\n",
    "            for result in first_run_riddles:\n",
    "                riddle_id = result.riddle.id\n",
    "                riddle_answers[riddle_id] = []\n",
    "\n",
    "            for run_name in run_names:\n",
    "                run_results = total_results[run_name]\n",
    "\n",
    "                if (\n",
    "                    dataset_name not in run_results\n",
    "                    or model_name not in run_results[dataset_name]\n",
    "                ):\n",
    "                    continue\n",
    "\n",
    "                for result in run_results[dataset_name][model_name]:\n",
    "                    riddle_id = result.riddle.id\n",
    "                    answer = (\n",
    "                        result.model_output.get_ai_response().content.strip()\n",
    "                        if result.model_output\n",
    "                        else \"NO_ANSWER\"\n",
    "                    )\n",
    "                    riddle_answers[riddle_id].append(answer)\n",
    "\n",
    "            total_riddles = len(riddle_answers)\n",
    "            stable_riddles = 0\n",
    "            answer_variations = {}\n",
    "\n",
    "            for riddle_id, answers in riddle_answers.items():\n",
    "                # Count unique answers\n",
    "                unique_answers = set(answers)\n",
    "                answer_variations[riddle_id] = len(unique_answers)\n",
    "\n",
    "                # If only one unique answer, the model is stable for this riddle\n",
    "                if len(unique_answers) == 1:\n",
    "                    stable_riddles += 1\n",
    "\n",
    "            stability_percentage = (\n",
    "                (stable_riddles / total_riddles * 100) if total_riddles > 0 else 0\n",
    "            )\n",
    "\n",
    "            dataset_stability[dataset_name][model_name] = {\n",
    "                \"stability_percentage\": stability_percentage,\n",
    "                \"stable_riddles\": stable_riddles,\n",
    "                \"total_riddles\": total_riddles,\n",
    "                \"answer_variations\": answer_variations,\n",
    "            }\n",
    "\n",
    "            if model_name not in model_stability:\n",
    "                model_stability[model_name] = {}\n",
    "            model_stability[model_name][dataset_name] = dataset_stability[dataset_name][\n",
    "                model_name\n",
    "            ]\n",
    "\n",
    "    return {\"by_dataset\": dataset_stability, \"by_model\": model_stability}\n",
    "\n",
    "\n",
    "stability_results = check_model_stability(total_results)\n",
    "\n",
    "print(\"Model Stability Analysis\\n\")\n",
    "print(\"=\" * 80)\n",
    "\n",
    "for model_name, datasets in stability_results[\"by_model\"].items():\n",
    "    print(f\"\\nModel: {model_name}\")\n",
    "    print(\"-\" * 80)\n",
    "\n",
    "    for dataset_name, metrics in datasets.items():\n",
    "        stability = metrics[\"stability_percentage\"]\n",
    "        stable = metrics[\"stable_riddles\"]\n",
    "        total = metrics[\"total_riddles\"]\n",
    "\n",
    "        print(f\"  Dataset: {dataset_name}\")\n",
    "        print(\n",
    "            f\"    Stability: {stability:.2f}% ({stable}/{total} riddles with consistent answers)\"\n",
    "        )\n",
    "\n",
    "        variation_counts = {}\n",
    "        for variations in metrics[\"answer_variations\"].values():\n",
    "            variation_counts[variations] = variation_counts.get(variations, 0) + 1\n",
    "\n",
    "        print(f\"    Answer variations: {dict(sorted(variation_counts.items()))}\")\n",
    "\n",
    "\n",
    "model_names = list(stability_results[\"by_model\"].keys())\n",
    "dataset_names = list(stability_results[\"by_dataset\"].keys())\n",
    "\n",
    "stability_matrix = np.zeros((len(model_names), len(dataset_names)))\n",
    "\n",
    "for i, model_name in enumerate(model_names):\n",
    "    for j, dataset_name in enumerate(dataset_names):\n",
    "        if dataset_name in stability_results[\"by_model\"][model_name]:\n",
    "            stability_matrix[i, j] = stability_results[\"by_model\"][model_name][\n",
    "                dataset_name\n",
    "            ][\"stability_percentage\"]\n",
    "\n",
    "plt.figure(figsize=(12, 10))\n",
    "sns.heatmap(\n",
    "    stability_matrix,\n",
    "    annot=True,\n",
    "    fmt=\".1f\",\n",
    "    cmap=\"YlGnBu\",\n",
    "    xticklabels=dataset_names,\n",
    "    yticklabels=model_names,\n",
    ")\n",
    "plt.title(\"Model Stability Across Datasets (% of riddles with consistent answers)\")\n",
    "plt.ylabel(\"Model\")\n",
    "plt.xlabel(\"Dataset\")\n",
    "plt.tight_layout()\n",
    "plt.show()"
   ]
  }
 ],
 "metadata": {
  "kernelspec": {
   "display_name": ".venv",
   "language": "python",
   "name": "python3"
  },
  "language_info": {
   "codemirror_mode": {
    "name": "ipython",
    "version": 3
   },
   "file_extension": ".py",
   "mimetype": "text/x-python",
   "name": "python",
   "nbconvert_exporter": "python",
   "pygments_lexer": "ipython3",
   "version": "3.11.4"
  }
 },
 "nbformat": 4,
 "nbformat_minor": 2
}
