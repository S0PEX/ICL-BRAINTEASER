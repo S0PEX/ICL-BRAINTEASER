{
 "cells": [
  {
   "cell_type": "code",
   "execution_count": 20,
   "metadata": {},
   "outputs": [],
   "source": [
    "from scripts import setup_environment\n",
    "\n",
    "setup_environment()"
   ]
  },
  {
   "cell_type": "code",
   "execution_count": 21,
   "metadata": {},
   "outputs": [],
   "source": [
    "from scripts.dataset import BrainteaserDataset\n",
    "\n",
    "dataset = BrainteaserDataset(\"data\")"
   ]
  },
  {
   "cell_type": "code",
   "execution_count": 22,
   "metadata": {},
   "outputs": [],
   "source": [
    "import string\n",
    "\n",
    "from scripts.dataset import RiddleQuestion\n",
    "from scripts.prompt_helpers import create_prompt_template\n",
    "\n",
    "\n",
    "def args_generator(riddle_question: RiddleQuestion):\n",
    "    template_args = {\n",
    "        \"question\": riddle_question.question,\n",
    "        \"choices\": \"\\n\".join(\n",
    "            [\n",
    "                f\"({string.ascii_uppercase[j]}) {choice}\"\n",
    "                for j, choice in enumerate(riddle_question.choice_list)\n",
    "            ]\n",
    "        ),\n",
    "    }\n",
    "\n",
    "    return template_args\n",
    "\n",
    "\n",
    "chat_prompt_template = create_prompt_template(\"default\")"
   ]
  },
  {
   "cell_type": "code",
   "execution_count": null,
   "metadata": {},
   "outputs": [
    {
     "name": "stderr",
     "output_type": "stream",
     "text": [
      "2025-03-02 23:38:41,329 - INFO - Initialized executor with 15 models.\n"
     ]
    }
   ],
   "source": [
    "from scripts.lmm import OllamaModelBuilder\n",
    "from scripts.executor import Executor\n",
    "\n",
    "base_url = \"http://108.179.129.43:32301\"\n",
    "# Ensure that the temperature is set to 0.0f, otherwise the model could be unstable due to taking risks\n",
    "# but this will also make the model less creative. As we are interested in the stability of the model, this is not a problem.\n",
    "model_builder = OllamaModelBuilder(base_url)\n",
    "\n",
    "executor = Executor(\n",
    "    models=[\n",
    "        # Llama3.1\n",
    "        model_builder.build_model(\"llama3.1:8b\"),\n",
    "        # Llama3.2\n",
    "        model_builder.build_model(\"llama3.2:1b\"),\n",
    "        model_builder.build_model(\"llama3.2:3b\"),\n",
    "        # Phi3.5\n",
    "        model_builder.build_model(\"phi3.5:3.8b\"),\n",
    "        # Phi4\n",
    "        model_builder.build_model(\"phi4:14b\"),\n",
    "        # Qwen2.5\n",
    "        model_builder.build_model(\"qwen2.5:0.5b\"),\n",
    "        model_builder.build_model(\"qwen2.5:1.5b\"),\n",
    "        model_builder.build_model(\"qwen2.5:3b\"),\n",
    "        model_builder.build_model(\"qwen2.5:7b\"),\n",
    "        model_builder.build_model(\"qwen2.5:14b\"),\n",
    "        model_builder.build_model(\"qwen2.5:32b\"),\n",
    "        # Gemma2\n",
    "        model_builder.build_model(\"gemma2:2b\"),\n",
    "        model_builder.build_model(\"gemma2:9b\"),\n",
    "        model_builder.build_model(\"gemma2:27b\"),\n",
    "        # Mistral Nemo\n",
    "        model_builder.build_model(\"mistral-nemo:12b\"),\n",
    "    ]\n",
    ")"
   ]
  },
  {
   "cell_type": "code",
   "execution_count": 24,
   "metadata": {},
   "outputs": [],
   "source": [
    "import numpy as np\n",
    "\n",
    "from scripts.executor import Dataset\n",
    "\n",
    "# Set fixed seed for reproducibility\n",
    "np.random.seed(42)\n",
    "\n",
    "\n",
    "def create_test_dataset(data: list[RiddleQuestion], name: str, percentage: float = 0.1):\n",
    "    \"\"\"Create a test dataset by randomly sampling a percentage of the original data.\"\"\"\n",
    "    indices = np.random.choice(\n",
    "        len(data), size=int(len(data) * percentage), replace=False\n",
    "    )\n",
    "    return Dataset(name=name, riddles=[data[i] for i in indices])\n",
    "\n",
    "\n",
    "# Create test datasets\n",
    "sp_data = create_test_dataset(dataset.sp, \"sp\")\n",
    "wp_data = create_test_dataset(dataset.wp, \"wp\")\n",
    "\n",
    "# Prepare executor data\n",
    "executor_data = [sp_data, wp_data]"
   ]
  },
  {
   "cell_type": "code",
   "execution_count": 25,
   "metadata": {},
   "outputs": [
    {
     "name": "stderr",
     "output_type": "stream",
     "text": [
      "2025-03-02 23:38:41,413 - INFO - Starting execution 'model-stability-test with suffix 'run_0_temp_default'': 2 dataset(s) x 15 model(s) = 1665 riddle evaluations\n"
     ]
    },
    {
     "data": {
      "application/vnd.jupyter.widget-view+json": {
       "model_id": "5f2c3c1331bf42cb9c4fe28235ba55d3",
       "version_major": 2,
       "version_minor": 0
      },
      "text/plain": [
       "model-stability-test(run-0-temp-default):   0%|          | 0/1665 [00:00<?, ?it/s]"
      ]
     },
     "metadata": {},
     "output_type": "display_data"
    },
    {
     "name": "stderr",
     "output_type": "stream",
     "text": [
      "2025-03-02 23:50:31,973 - INFO - Saving results to results/model-stability-test/model-stability-test_run-0-temp-default_results.pkl\n",
      "2025-03-02 23:50:32,492 - INFO - Execution 'model-stability-test with suffix 'run_0_temp_default'' completed successfully.\n",
      "2025-03-02 23:50:32,498 - INFO - Starting execution 'model-stability-test with suffix 'run_1_temp_default'': 2 dataset(s) x 15 model(s) = 1665 riddle evaluations\n"
     ]
    },
    {
     "data": {
      "application/vnd.jupyter.widget-view+json": {
       "model_id": "809473814759434bbc3272dd23db7aa5",
       "version_major": 2,
       "version_minor": 0
      },
      "text/plain": [
       "model-stability-test(run-1-temp-default):   0%|          | 0/1665 [00:00<?, ?it/s]"
      ]
     },
     "metadata": {},
     "output_type": "display_data"
    },
    {
     "name": "stderr",
     "output_type": "stream",
     "text": [
      "2025-03-03 00:01:48,400 - INFO - Saving results to results/model-stability-test/model-stability-test_run-1-temp-default_results.pkl\n",
      "2025-03-03 00:01:48,891 - INFO - Execution 'model-stability-test with suffix 'run_1_temp_default'' completed successfully.\n",
      "2025-03-03 00:01:48,892 - INFO - Starting execution 'model-stability-test with suffix 'run_2_temp_default'': 2 dataset(s) x 15 model(s) = 1665 riddle evaluations\n"
     ]
    },
    {
     "data": {
      "application/vnd.jupyter.widget-view+json": {
       "model_id": "4ba1d015dbf74f02a731ad5e2e9c3871",
       "version_major": 2,
       "version_minor": 0
      },
      "text/plain": [
       "model-stability-test(run-2-temp-default):   0%|          | 0/1665 [00:00<?, ?it/s]"
      ]
     },
     "metadata": {},
     "output_type": "display_data"
    },
    {
     "name": "stderr",
     "output_type": "stream",
     "text": [
      "2025-03-03 00:13:34,324 - INFO - Saving results to results/model-stability-test/model-stability-test_run-2-temp-default_results.pkl\n",
      "2025-03-03 00:13:34,851 - INFO - Execution 'model-stability-test with suffix 'run_2_temp_default'' completed successfully.\n",
      "2025-03-03 00:13:34,852 - INFO - Starting execution 'model-stability-test with suffix 'run_3_temp_default'': 2 dataset(s) x 15 model(s) = 1665 riddle evaluations\n"
     ]
    },
    {
     "data": {
      "application/vnd.jupyter.widget-view+json": {
       "model_id": "dc58b24a715c412b88aa512290e3d56f",
       "version_major": 2,
       "version_minor": 0
      },
      "text/plain": [
       "model-stability-test(run-3-temp-default):   0%|          | 0/1665 [00:00<?, ?it/s]"
      ]
     },
     "metadata": {},
     "output_type": "display_data"
    },
    {
     "name": "stderr",
     "output_type": "stream",
     "text": [
      "2025-03-03 00:25:50,581 - INFO - Saving results to results/model-stability-test/model-stability-test_run-3-temp-default_results.pkl\n",
      "2025-03-03 00:25:51,088 - INFO - Execution 'model-stability-test with suffix 'run_3_temp_default'' completed successfully.\n",
      "2025-03-03 00:25:51,090 - INFO - Starting execution 'model-stability-test with suffix 'run_4_temp_default'': 2 dataset(s) x 15 model(s) = 1665 riddle evaluations\n"
     ]
    },
    {
     "data": {
      "application/vnd.jupyter.widget-view+json": {
       "model_id": "f8181e9c05da4322a64adb1e1edabac3",
       "version_major": 2,
       "version_minor": 0
      },
      "text/plain": [
       "model-stability-test(run-4-temp-default):   0%|          | 0/1665 [00:00<?, ?it/s]"
      ]
     },
     "metadata": {},
     "output_type": "display_data"
    },
    {
     "name": "stderr",
     "output_type": "stream",
     "text": [
      "2025-03-03 00:38:14,315 - INFO - Saving results to results/model-stability-test/model-stability-test_run-4-temp-default_results.pkl\n",
      "2025-03-03 00:38:14,822 - INFO - Execution 'model-stability-test with suffix 'run_4_temp_default'' completed successfully.\n"
     ]
    }
   ],
   "source": [
    "total_results = {}\n",
    "\n",
    "for run_index in range(5):\n",
    "    chat_prompt_template = create_prompt_template(\"default\")\n",
    "    results = await executor.aexecute(\n",
    "        executor_data,\n",
    "        chat_prompt_template,\n",
    "        args_generator,\n",
    "        dump_to_pickle=True,\n",
    "        create_checkpoints=True,\n",
    "        resume_from_checkpoint=True,\n",
    "        run_name=\"model_stability_test\",\n",
    "        file_name_suffix=f\"run_{run_index}\",\n",
    "    )\n",
    "    total_results[run_index] = results"
   ]
  },
  {
   "cell_type": "markdown",
   "metadata": {},
   "source": [
    "## Eval results\n"
   ]
  },
  {
   "cell_type": "code",
   "execution_count": null,
   "metadata": {},
   "outputs": [
    {
     "name": "stdout",
     "output_type": "stream",
     "text": [
      "Loaded 5 result sets from disk.\n"
     ]
    }
   ],
   "source": [
    "import os\n",
    "import glob\n",
    "import pickle\n",
    "from pathlib import Path\n",
    "\n",
    "# Define the results directory path\n",
    "results_dir = Path(\"results/model-stability-test\")\n",
    "\n",
    "# Get all result files\n",
    "result_files = glob.glob(str(results_dir / \"model-stability-test_run-*_results.pkl\"))\n",
    "\n",
    "# Load all results into a dictionary\n",
    "# The first key is the suffix (technique name)\n",
    "total_results = {}\n",
    "\n",
    "for file_path in result_files:\n",
    "    # Extract the suffix from the filename\n",
    "    suffix = os.path.basename(file_path).split(\"_\")[1]\n",
    "\n",
    "    # Load the results from the pickle file\n",
    "    with open(file_path, \"rb\") as f:\n",
    "        wrapped_results = pickle.load(f)\n",
    "        total_results[suffix] = wrapped_results.results\n",
    "\n",
    "print(f\"Loaded {len(total_results)} result sets from disk.\")"
   ]
  },
  {
   "cell_type": "code",
   "execution_count": 39,
   "metadata": {},
   "outputs": [
    {
     "name": "stdout",
     "output_type": "stream",
     "text": [
      "Model Stability Analysis\n",
      "\n",
      "================================================================================\n",
      "\n",
      "Model: llama3.1:8b\n",
      "--------------------------------------------------------------------------------\n",
      "  Dataset: sp\n",
      "    Stability Score: 0.95, Average Score: 43.87\n",
      "    Run Scores: [48.38709677419355, 41.935483870967744, 41.935483870967744, 43.54838709677419, 43.54838709677419]\n",
      "  Dataset: wp\n",
      "    Stability Score: 0.87, Average Score: 51.02\n",
      "    Run Scores: [59.183673469387756, 53.06122448979592, 38.775510204081634, 53.06122448979592, 51.02040816326531]\n",
      "\n",
      "Model: llama3.2:1b\n",
      "--------------------------------------------------------------------------------\n",
      "  Dataset: sp\n",
      "    Stability Score: 1.00, Average Score: 8.06\n",
      "    Run Scores: [8.064516129032258, 8.064516129032258, 8.064516129032258, 8.064516129032258, 8.064516129032258]\n",
      "  Dataset: wp\n",
      "    Stability Score: 1.00, Average Score: 2.04\n",
      "    Run Scores: [2.0408163265306123, 2.0408163265306123, 2.0408163265306123, 2.0408163265306123, 2.0408163265306123]\n",
      "\n",
      "Model: llama3.2:3b\n",
      "--------------------------------------------------------------------------------\n",
      "  Dataset: sp\n",
      "    Stability Score: 0.83, Average Score: 23.87\n",
      "    Run Scores: [27.419354838709676, 22.58064516129032, 29.03225806451613, 17.741935483870968, 22.58064516129032]\n",
      "  Dataset: wp\n",
      "    Stability Score: 0.74, Average Score: 25.71\n",
      "    Run Scores: [26.53061224489796, 30.612244897959183, 20.408163265306122, 16.3265306122449, 34.69387755102041]\n",
      "\n",
      "Model: phi3.5:3.8b\n",
      "--------------------------------------------------------------------------------\n",
      "  Dataset: sp\n",
      "    Stability Score: 0.41, Average Score: 17.42\n",
      "    Run Scores: [9.67741935483871, 17.741935483870968, 37.096774193548384, 12.903225806451612, 9.67741935483871]\n",
      "  Dataset: wp\n",
      "    Stability Score: 0.48, Average Score: 10.20\n",
      "    Run Scores: [6.122448979591836, 20.408163265306122, 6.122448979591836, 10.204081632653061, 8.16326530612245]\n",
      "\n",
      "Model: phi4:14b\n",
      "--------------------------------------------------------------------------------\n",
      "  Dataset: sp\n",
      "    Stability Score: 0.97, Average Score: 67.74\n",
      "    Run Scores: [67.74193548387096, 70.96774193548387, 67.74193548387096, 67.74193548387096, 64.51612903225806]\n",
      "  Dataset: wp\n",
      "    Stability Score: 0.93, Average Score: 48.16\n",
      "    Run Scores: [46.93877551020408, 53.06122448979592, 51.02040816326531, 44.89795918367347, 44.89795918367347]\n",
      "\n",
      "Model: qwen2.5:0.5b\n",
      "--------------------------------------------------------------------------------\n",
      "  Dataset: sp\n",
      "    Stability Score: 0.84, Average Score: 19.03\n",
      "    Run Scores: [17.741935483870968, 16.129032258064516, 20.967741935483872, 24.193548387096776, 16.129032258064516]\n",
      "  Dataset: wp\n",
      "    Stability Score: 0.88, Average Score: 18.37\n",
      "    Run Scores: [18.367346938775512, 14.285714285714285, 18.367346938775512, 20.408163265306122, 20.408163265306122]\n",
      "\n",
      "Model: qwen2.5:1.5b\n",
      "--------------------------------------------------------------------------------\n",
      "  Dataset: sp\n",
      "    Stability Score: 0.87, Average Score: 24.84\n",
      "    Run Scores: [19.35483870967742, 25.806451612903224, 25.806451612903224, 24.193548387096776, 29.03225806451613]\n",
      "  Dataset: wp\n",
      "    Stability Score: 0.72, Average Score: 8.57\n",
      "    Run Scores: [8.16326530612245, 10.204081632653061, 12.244897959183673, 6.122448979591836, 6.122448979591836]\n",
      "\n",
      "Model: qwen2.5:3b\n",
      "--------------------------------------------------------------------------------\n",
      "  Dataset: sp\n",
      "    Stability Score: 0.91, Average Score: 21.29\n",
      "    Run Scores: [22.58064516129032, 19.35483870967742, 20.967741935483872, 24.193548387096776, 19.35483870967742]\n",
      "  Dataset: wp\n",
      "    Stability Score: 1.00, Average Score: 12.24\n",
      "    Run Scores: [12.244897959183673, 12.244897959183673, 12.244897959183673, 12.244897959183673, 12.244897959183673]\n",
      "\n",
      "Model: qwen2.5:7b\n",
      "--------------------------------------------------------------------------------\n",
      "  Dataset: sp\n",
      "    Stability Score: 0.96, Average Score: 60.97\n",
      "    Run Scores: [64.51612903225806, 59.67741935483871, 61.29032258064516, 58.06451612903226, 61.29032258064516]\n",
      "  Dataset: wp\n",
      "    Stability Score: 0.78, Average Score: 10.61\n",
      "    Run Scores: [8.16326530612245, 8.16326530612245, 14.285714285714285, 12.244897959183673, 10.204081632653061]\n",
      "\n",
      "Model: qwen2.5:14b\n",
      "--------------------------------------------------------------------------------\n",
      "  Dataset: sp\n",
      "    Stability Score: 0.95, Average Score: 26.77\n",
      "    Run Scores: [29.03225806451613, 27.419354838709676, 25.806451612903224, 25.806451612903224, 25.806451612903224]\n",
      "  Dataset: wp\n",
      "    Stability Score: 1.00, Average Score: 18.37\n",
      "    Run Scores: [18.367346938775512, 18.367346938775512, 18.367346938775512, 18.367346938775512, 18.367346938775512]\n",
      "\n",
      "Model: qwen2.5:32b\n",
      "--------------------------------------------------------------------------------\n",
      "  Dataset: sp\n",
      "    Stability Score: 0.96, Average Score: 53.55\n",
      "    Run Scores: [51.61290322580645, 54.83870967741935, 53.2258064516129, 51.61290322580645, 56.451612903225815]\n",
      "  Dataset: wp\n",
      "    Stability Score: 0.97, Average Score: 32.24\n",
      "    Run Scores: [32.6530612244898, 32.6530612244898, 32.6530612244898, 32.6530612244898, 30.612244897959183]\n",
      "\n",
      "Model: gemma2:2b\n",
      "--------------------------------------------------------------------------------\n",
      "  Dataset: sp\n",
      "    Stability Score: 0.96, Average Score: 29.35\n",
      "    Run Scores: [27.419354838709676, 30.64516129032258, 29.03225806451613, 30.64516129032258, 29.03225806451613]\n",
      "  Dataset: wp\n",
      "    Stability Score: 0.77, Average Score: 8.98\n",
      "    Run Scores: [10.204081632653061, 8.16326530612245, 6.122448979591836, 8.16326530612245, 12.244897959183673]\n",
      "\n",
      "Model: gemma2:9b\n",
      "--------------------------------------------------------------------------------\n",
      "  Dataset: sp\n",
      "    Stability Score: 0.97, Average Score: 68.71\n",
      "    Run Scores: [67.74193548387096, 70.96774193548387, 67.74193548387096, 70.96774193548387, 66.12903225806451]\n",
      "  Dataset: wp\n",
      "    Stability Score: 0.96, Average Score: 63.67\n",
      "    Run Scores: [59.183673469387756, 63.26530612244898, 65.3061224489796, 65.3061224489796, 65.3061224489796]\n",
      "\n",
      "Model: gemma2:27b\n",
      "--------------------------------------------------------------------------------\n",
      "  Dataset: sp\n",
      "    Stability Score: 0.98, Average Score: 81.61\n",
      "    Run Scores: [80.64516129032258, 80.64516129032258, 83.87096774193549, 80.64516129032258, 82.25806451612904]\n",
      "  Dataset: wp\n",
      "    Stability Score: 0.99, Average Score: 68.16\n",
      "    Run Scores: [67.3469387755102, 69.38775510204081, 69.38775510204081, 67.3469387755102, 67.3469387755102]\n",
      "\n",
      "Model: mistral-nemo:12b\n",
      "--------------------------------------------------------------------------------\n",
      "  Dataset: sp\n",
      "    Stability Score: 0.91, Average Score: 48.39\n",
      "    Run Scores: [43.54838709677419, 50.0, 45.16129032258064, 46.774193548387096, 56.451612903225815]\n",
      "  Dataset: wp\n",
      "    Stability Score: 0.86, Average Score: 27.76\n",
      "    Run Scores: [24.489795918367346, 22.448979591836736, 32.6530612244898, 30.612244897959183, 28.57142857142857]\n"
     ]
    },
    {
     "data": {
      "image/png": "[encoded data removed]",
      "text/plain": [
       "<Figure size 1200x1000 with 2 Axes>"
      ]
     },
     "metadata": {},
     "output_type": "display_data"
    }
   ],
   "source": [
    "import numpy as np\n",
    "import seaborn as sns\n",
    "import matplotlib.pyplot as plt\n",
    "\n",
    "from scripts.evaluation import eval_model_results\n",
    "\n",
    "\n",
    "def check_model_stability(total_results):\n",
    "    model_stability = {}\n",
    "    dataset_stability = {}\n",
    "\n",
    "    run_names = list(total_results.keys())\n",
    "    if not run_names:\n",
    "        return {\"error\": \"No runs found in results\"}\n",
    "\n",
    "    first_run = total_results[run_names[0]]\n",
    "    datasets = list(first_run.keys())\n",
    "\n",
    "    for dataset_name in datasets:\n",
    "        models = list(first_run[dataset_name].keys())\n",
    "        dataset_stability[dataset_name] = {}\n",
    "\n",
    "        for model_name in models:\n",
    "            run_scores = []\n",
    "            for run_name in run_names:\n",
    "                run_results = total_results[run_name]\n",
    "\n",
    "                if (\n",
    "                    dataset_name not in run_results\n",
    "                    or model_name not in run_results[dataset_name]\n",
    "                ):\n",
    "                    continue\n",
    "\n",
    "                run_score = eval_model_results(run_results[dataset_name][model_name])\n",
    "                run_scores.append(run_score)\n",
    "\n",
    "            if not run_scores:\n",
    "                continue\n",
    "\n",
    "            average_score = sum(run_scores) / len(run_scores)\n",
    "            stability_score = (\n",
    "                1 - (np.std(run_scores) / average_score) if average_score > 0 else 0\n",
    "            )\n",
    "\n",
    "            dataset_stability[dataset_name][model_name] = {\n",
    "                \"stability_score\": stability_score,\n",
    "                \"average_score\": average_score,\n",
    "                \"run_scores\": run_scores,\n",
    "            }\n",
    "\n",
    "            if model_name not in model_stability:\n",
    "                model_stability[model_name] = {}\n",
    "            model_stability[model_name][dataset_name] = dataset_stability[dataset_name][\n",
    "                model_name\n",
    "            ]\n",
    "\n",
    "    return {\"by_dataset\": dataset_stability, \"by_model\": model_stability}\n",
    "\n",
    "\n",
    "def display_model_stability_analysis(stability_results):\n",
    "    print(\"Model Stability Analysis\\n\")\n",
    "    print(\"=\" * 80)\n",
    "\n",
    "    for model_name, datasets in stability_results[\"by_model\"].items():\n",
    "        print(f\"\\nModel: {model_name}\")\n",
    "        print(\"-\" * 80)\n",
    "\n",
    "        for dataset_name, metrics in datasets.items():\n",
    "            stability = metrics[\"stability_score\"]\n",
    "            average_score = metrics[\"average_score\"]\n",
    "            run_scores = metrics[\"run_scores\"]\n",
    "\n",
    "            print(f\"  Dataset: {dataset_name}\")\n",
    "            print(\n",
    "                f\"    Stability Score: {stability:.2f}, Average Score: {average_score:.2f}\"\n",
    "            )\n",
    "\n",
    "            print(f\"    Run Scores: {run_scores}\")\n",
    "\n",
    "    model_names = list(stability_results[\"by_model\"].keys())\n",
    "    dataset_names = list(stability_results[\"by_dataset\"].keys())\n",
    "\n",
    "    stability_matrix = np.zeros((len(model_names), len(dataset_names)))\n",
    "\n",
    "    for i, model_name in enumerate(model_names):\n",
    "        for j, dataset_name in enumerate(dataset_names):\n",
    "            if dataset_name in stability_results[\"by_model\"][model_name]:\n",
    "                stability_matrix[i, j] = stability_results[\"by_model\"][model_name][\n",
    "                    dataset_name\n",
    "                ][\"stability_score\"]\n",
    "\n",
    "    plt.figure(figsize=(12, 10))\n",
    "    sns.heatmap(\n",
    "        stability_matrix,\n",
    "        annot=True,\n",
    "        fmt=\".1f\",\n",
    "        cmap=\"YlGnBu\",\n",
    "        xticklabels=dataset_names,\n",
    "        yticklabels=model_names,\n",
    "    )\n",
    "    plt.title(\"Model Stability Across Datasets (Stability Score)\")\n",
    "    plt.ylabel(\"Model\")\n",
    "    plt.xlabel(\"Dataset\")\n",
    "    plt.tight_layout()\n",
    "    plt.show()\n",
    "\n",
    "\n",
    "stability_results = check_model_stability(total_results)\n",
    "display_model_stability_analysis(stability_results)"
   ]
  }
 ],
 "metadata": {
  "kernelspec": {
   "display_name": ".venv",
   "language": "python",
   "name": "python3"
  },
  "language_info": {
   "codemirror_mode": {
    "name": "ipython",
    "version": 3
   },
   "file_extension": ".py",
   "mimetype": "text/x-python",
   "name": "python",
   "nbconvert_exporter": "python",
   "pygments_lexer": "ipython3",
   "version": "3.11.4"
  }
 },
 "nbformat": 4,
 "nbformat_minor": 2
}
