{
 "cells": [
  {
   "cell_type": "code",
   "execution_count": 1,
   "metadata": {},
   "outputs": [],
   "source": [
    "from scripts import setup_environment\n",
    "\n",
    "setup_environment()"
   ]
  },
  {
   "cell_type": "code",
   "execution_count": 2,
   "metadata": {},
   "outputs": [],
   "source": [
    "import textwrap\n",
    "\n",
    "from langchain.prompts.chat import (\n",
    "    ChatPromptTemplate,\n",
    "    HumanMessagePromptTemplate,\n",
    "    SystemMessagePromptTemplate,\n",
    ")\n",
    "\n",
    "\n",
    "def get_system_prompt(template_name: str):\n",
    "    # System message templates (priming)\n",
    "    system_templates = {\n",
    "        \"step_by_step\": \"You are a meticulous problem-solver. Analyze silently and return ONLY the correct answer text.\",\n",
    "        \"creative\": \"You excel at lateral thinking. Treat this as a riddle. Return ONLY the option text.\",\n",
    "        \"elimination\": \"Eliminate wrong options internally. Return ONLY the text of the correct answer.\",\n",
    "        \"metaphor\": \"Interpret keywords metaphorically. Return ONLY the correct answer text.\",\n",
    "        \"confidence\": \"Score options internally. Return ONLY the highest-scoring answer text.\",\n",
    "        \"perspective_shift\": \"Analyze through multiple perspectives silently. Return ONLY the answer text.\",\n",
    "        \"common_sense\": \"Combine logic and creativity. Return ONLY the correct answer text.\",\n",
    "        \"assumption_challenge\": \"Challenge hidden assumptions internally. Return ONLY the answer text.\",\n",
    "        \"pattern_matching\": \"Find patterns silently. Return ONLY the correct answer text.\",\n",
    "        \"intuitive\": \"Critique your intuition internally. Return ONLY the final answer text.\",\n",
    "    }\n",
    "\n",
    "    system_prompt = system_templates[template_name]\n",
    "    system_prompt = textwrap.dedent(system_prompt)\n",
    "\n",
    "    system_prompt_template = SystemMessagePromptTemplate.from_template(\n",
    "        system_prompt, id=template_name\n",
    "    )\n",
    "    return system_prompt_template\n",
    "\n",
    "\n",
    "def get_user_prompt():\n",
    "    prompt = \"\"\"\n",
    "    Question: {question}\n",
    "    Choices:\n",
    "    {choices}\n",
    "    \"\"\"\n",
    "\n",
    "    prompt = textwrap.dedent(prompt)\n",
    "\n",
    "    prompt_template = HumanMessagePromptTemplate.from_template(prompt)\n",
    "    return prompt_template\n",
    "\n",
    "\n",
    "def create_prompt_template(\n",
    "    system_prompt_template_name: str = \"step_by_step\",\n",
    "):\n",
    "    system_prompt_template = get_system_prompt(system_prompt_template_name)\n",
    "    user_prompt_template = get_user_prompt()\n",
    "    chat_prompt_template = ChatPromptTemplate.from_messages(\n",
    "        [system_prompt_template, user_prompt_template]\n",
    "    )\n",
    "\n",
    "    return chat_prompt_template"
   ]
  },
  {
   "cell_type": "code",
   "execution_count": 3,
   "metadata": {},
   "outputs": [],
   "source": [
    "from scripts.dataset import BrainteaserDataset\n",
    "\n",
    "dataset = BrainteaserDataset(\"data\")"
   ]
  },
  {
   "cell_type": "code",
   "execution_count": 4,
   "metadata": {},
   "outputs": [],
   "source": [
    "from scripts.dataset import RiddleQuestion\n",
    "\n",
    "chat_prompt_template = create_prompt_template(\"step_by_step\")\n",
    "\n",
    "\n",
    "def args_generator(riddle_question: RiddleQuestion):\n",
    "    template_args = {\n",
    "        \"question\": riddle_question.question,\n",
    "        \"choices\": \"\\n\".join(\n",
    "            [\n",
    "                f\"Option {j + 1}: {choice}\"\n",
    "                for j, choice in enumerate(riddle_question.choice_list)\n",
    "            ]\n",
    "        ),\n",
    "    }\n",
    "\n",
    "    return template_args"
   ]
  },
  {
   "cell_type": "code",
   "execution_count": 5,
   "metadata": {},
   "outputs": [
    {
     "name": "stderr",
     "output_type": "stream",
     "text": [
      "2025-01-28 23:28:17,386 - INFO - Initialized executor with 1 models and 3 riddles\n",
      "2025-01-28 23:28:17,387 - INFO - Starting execution\n",
      "2025-01-28 23:28:17,387 - INFO - Processing meta-llama/Llama-3.2-1B-Instruct\n",
      "Device set to use cpu\n",
      "Setting `pad_token_id` to `eos_token_id`:128001 for open-end generation.\n",
      "2025-01-28 23:28:20,377 - INFO - meta-llama/Llama-3.2-1B-Instruct took 1s\n",
      "Setting `pad_token_id` to `eos_token_id`:128001 for open-end generation.\n",
      "2025-01-28 23:28:24,037 - INFO - meta-llama/Llama-3.2-1B-Instruct took 3s\n",
      "Setting `pad_token_id` to `eos_token_id`:128001 for open-end generation.\n",
      "2025-01-28 23:28:25,831 - INFO - meta-llama/Llama-3.2-1B-Instruct took 1s\n",
      "2025-01-28 23:28:25,831 - INFO - Completed meta-llama/Llama-3.2-1B-Instruct\n",
      "2025-01-28 23:28:25,846 - INFO - Persisting results...\n",
      "2025-01-28 23:28:25,848 - INFO - Results saved to results\\all_results.pkl\n",
      "2025-01-28 23:28:25,848 - INFO - Execution completed\n"
     ]
    }
   ],
   "source": [
    "from scripts.executor import Executor\n",
    "\n",
    "executor = Executor(\n",
    "    models=[\n",
    "        \"meta-llama/Llama-3.2-1B-Instruct\",\n",
    "    ],\n",
    "    riddle_dataset=dataset.sp_train[:3],\n",
    ")\n",
    "\n",
    "results = executor.execute(chat_prompt_template, args_generator)"
   ]
  },
  {
   "cell_type": "code",
   "execution_count": 9,
   "metadata": {},
   "outputs": [
    {
     "name": "stdout",
     "output_type": "stream",
     "text": [
      "Model: meta-llama/Llama-3.2-1B-Instruct\n",
      "Prompt: {'question': 'Mr. and Mrs. Mustard have six daughters and each daughter has one brother. But there are only 9 people in the family, how is that possible?', 'choices': 'Option 1: Some daughters get married and have their own family.\\nOption 2: Each daughter shares the same brother.\\nOption 3: Some brothers were not loved by family and moved away.\\nOption 4: None of above.'}\n",
      "Output: System: You are a meticulous problem-solver. Analyze silently and return ONLY the correct answer text.\n",
      "Human: \n",
      "Question: Mr. and Mrs. Mustard have six daughters and each daughter has one brother. But there are only 9 people in the family, how is that possible?\n",
      "Choices:\n",
      "Option 1: Some daughters get married and have their own family.\n",
      "Option 2: Each daughter shares the same brother.\n",
      "Option 3: Some brothers were not loved by family and moved away.\n",
      "Option 4: None of above.\n",
      "\n",
      "AI: None of the above.\n",
      "--------------------------------------------------\n",
      "Prompt: {'question': 'The six daughters of Mr. and Mrs. Mustard each have one brother. However, the family only consists of nine people; how is that possible?', 'choices': 'Option 1: Some brothers were not loved by family and moved away.\\nOption 2: Some daughters get married and have their own family.\\nOption 3: Each daughter shares the same brother.\\nOption 4: None of above.'}\n",
      "Output: System: You are a meticulous problem-solver. Analyze silently and return ONLY the correct answer text.\n",
      "Human: \n",
      "Question: The six daughters of Mr. and Mrs. Mustard each have one brother. However, the family only consists of nine people; how is that possible?\n",
      "Choices:\n",
      "Option 1: Some brothers were not loved by family and moved away.\n",
      "Option 2: Some daughters get married and have their own family.\n",
      "Option 3: Each daughter shares the same brother.\n",
      "Option 4: None of above.\n",
      "\n",
      "AI: Option 2: Some daughters get married and have their own family.\n",
      "--------------------------------------------------\n",
      "Prompt: {'question': 'A chess team has five players, and each player has one coach. But there are only six participants in the team. How is that possible?', 'choices': 'Option 1: Each player shares the same coach.\\nOption 2: Some players are backups and not allowed to play.\\nOption 3: Some coaches get a raise.\\nOption 4: None of above.'}\n",
      "Output: System: You are a meticulous problem-solver. Analyze silently and return ONLY the correct answer text.\n",
      "Human: \n",
      "Question: A chess team has five players, and each player has one coach. But there are only six participants in the team. How is that possible?\n",
      "Choices:\n",
      "Option 1: Each player shares the same coach.\n",
      "Option 2: Some players are backups and not allowed to play.\n",
      "Option 3: Some coaches get a raise.\n",
      "Option 4: None of above.\n",
      "\n",
      "AI: None of the above.\n",
      "--------------------------------------------------\n"
     ]
    }
   ],
   "source": [
    "for model, model_results in results.items():\n",
    "    print(f\"Model: {model}\")\n",
    "    for result in model_results:\n",
    "        print(f\"Prompt: {result.prompt_used}\")\n",
    "        print(f\"Output: {result.model_output}\")\n",
    "        print(\"-\" * 50)"
   ]
  }
 ],
 "metadata": {
  "kernelspec": {
   "display_name": ".venv",
   "language": "python",
   "name": "python3"
  },
  "language_info": {
   "codemirror_mode": {
    "name": "ipython",
    "version": 3
   },
   "file_extension": ".py",
   "mimetype": "text/x-python",
   "name": "python",
   "nbconvert_exporter": "python",
   "pygments_lexer": "ipython3",
   "version": "3.12.8"
  }
 },
 "nbformat": 4,
 "nbformat_minor": 2
}
