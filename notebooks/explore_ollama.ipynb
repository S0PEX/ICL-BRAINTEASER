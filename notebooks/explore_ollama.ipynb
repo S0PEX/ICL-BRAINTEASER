{
 "cells": [
  {
   "cell_type": "code",
   "execution_count": 8,
   "metadata": {},
   "outputs": [],
   "source": [
    "from scripts.dataset import BrainteaserDataset\n",
    "\n",
    "dataset = BrainteaserDataset(\"data\")"
   ]
  },
  {
   "cell_type": "code",
   "execution_count": null,
   "metadata": {},
   "outputs": [],
   "source": [
    "import textwrap\n",
    "\n",
    "from langchain.prompts.chat import (\n",
    "    ChatPromptTemplate,\n",
    "    HumanMessagePromptTemplate,\n",
    "    SystemMessagePromptTemplate,\n",
    ")\n",
    "\n",
    "from scripts.dataset import RiddleQuestion\n",
    "\n",
    "system_prompt_template = SystemMessagePromptTemplate.from_template(\n",
    "    \"You are a meticulous problem-solver. Analyze silently and return ONLY the correct answer text.\"\n",
    ")\n",
    "\n",
    "prompt = \"\"\"\n",
    "    Question: {question}\n",
    "    Choices:\n",
    "    {choices}\n",
    "    \"\"\"\n",
    "\n",
    "prompt = textwrap.dedent(prompt)\n",
    "user_prompt_template = HumanMessagePromptTemplate.from_template(prompt)\n",
    "\n",
    "chat_prompt_template = ChatPromptTemplate.from_messages(\n",
    "    [system_prompt_template, user_prompt_template]\n",
    ")\n",
    "\n",
    "\n",
    "def args_generator(riddle_question: RiddleQuestion):\n",
    "    template_args = {\n",
    "        \"question\": riddle_question.question,\n",
    "        \"choices\": \"\\n\".join(\n",
    "            [\n",
    "                f\"Option {j + 1}: {choice}\"\n",
    "                for j, choice in enumerate(riddle_question.choice_list)\n",
    "            ]\n",
    "        ),\n",
    "    }\n",
    "\n",
    "    return template_args"
   ]
  },
  {
   "cell_type": "code",
   "execution_count": 16,
   "metadata": {},
   "outputs": [
    {
     "data": {
      "text/plain": [
       "AIMessage(content='Option 2 \\n', additional_kwargs={}, response_metadata={'model': 'gemma2', 'created_at': '2025-01-30T09:57:30.13705585Z', 'done': True, 'done_reason': 'stop', 'total_duration': 12736278731, 'load_duration': 5104733937, 'prompt_eval_count': 119, 'prompt_eval_duration': 6405000000, 'eval_count': 6, 'eval_duration': 847000000, 'message': Message(role='assistant', content='', images=None, tool_calls=None)}, id='run-045861be-f4bc-4491-b976-fc8da5744c92-0', usage_metadata={'input_tokens': 119, 'output_tokens': 6, 'total_tokens': 125})"
      ]
     },
     "metadata": {},
     "output_type": "display_data"
    }
   ],
   "source": [
    "from langchain_ollama import ChatOllama\n",
    "\n",
    "llm = ChatOllama(\n",
    "    model=\"gemma2\",\n",
    ")\n",
    "\n",
    "chain = chat_prompt_template | llm\n",
    "response = chain.invoke(args_generator(dataset.sp_train[0]))\n",
    "display(response)"
   ]
  }
 ],
 "metadata": {
  "kernelspec": {
   "display_name": ".venv",
   "language": "python",
   "name": "python3"
  },
  "language_info": {
   "codemirror_mode": {
    "name": "ipython",
    "version": 3
   },
   "file_extension": ".py",
   "mimetype": "text/x-python",
   "name": "python",
   "nbconvert_exporter": "python",
   "pygments_lexer": "ipython3",
   "version": "3.12.8"
  }
 },
 "nbformat": 4,
 "nbformat_minor": 2
}
