{
 "cells": [
  {
   "cell_type": "code",
   "execution_count": 1,
   "metadata": {},
   "outputs": [],
   "source": [
    "from scripts import setup_environment\n",
    "\n",
    "setup_environment()"
   ]
  },
  {
   "cell_type": "code",
   "execution_count": 2,
   "metadata": {},
   "outputs": [],
   "source": [
    "from scripts.dataset import BrainteaserDataset\n",
    "\n",
    "dataset = BrainteaserDataset(\"data\")"
   ]
  },
  {
   "cell_type": "code",
   "execution_count": 3,
   "metadata": {},
   "outputs": [],
   "source": [
    "import string\n",
    "\n",
    "from scripts.dataset import RiddleQuestion\n",
    "from scripts.prompt_helpers import create_prompt_template\n",
    "\n",
    "\n",
    "def args_generator(riddle_question: RiddleQuestion):\n",
    "    template_args = {\n",
    "        \"question\": riddle_question.question,\n",
    "        \"choices\": \"\\n\".join(\n",
    "            [\n",
    "                f\"({string.ascii_uppercase[j]}) {choice}\"\n",
    "                for j, choice in enumerate(riddle_question.choice_list)\n",
    "            ]\n",
    "        ),\n",
    "        \"answer\": string.ascii_uppercase[riddle_question.label],\n",
    "    }\n",
    "\n",
    "    return template_args\n",
    "\n",
    "\n",
    "chat_prompt_template = create_prompt_template(\"default\")"
   ]
  },
  {
   "cell_type": "code",
   "execution_count": 4,
   "metadata": {},
   "outputs": [
    {
     "name": "stderr",
     "output_type": "stream",
     "text": [
      "2025-03-11 22:52:55,678 - INFO - Initialized executor with 15 models.\n"
     ]
    }
   ],
   "source": [
    "from scripts.lmm import OllamaModelBuilder\n",
    "from scripts.executor import Executor\n",
    "\n",
    "base_url = \"http://104.15.30.249:46506\"\n",
    "model_builder = OllamaModelBuilder(base_url)\n",
    "\n",
    "executor = Executor(\n",
    "    models=[\n",
    "        # Llama3.1\n",
    "        model_builder.build_model(\"llama3.1:8b-instruct-q8_0\"),  # => 9 GB\n",
    "        # Llama3.2\n",
    "        model_builder.build_model(\"llama3.2:1b-instruct-fp16\"),  # => 2.5 GB\n",
    "        model_builder.build_model(\"llama3.2:3b-instruct-fp16\"),  # => 6.4 GB\n",
    "        # Phi3.5\n",
    "        model_builder.build_model(\"phi3.5:3.8b-mini-instruct-fp16\"),  # => 7.6 GB\n",
    "        # Phi4\n",
    "        model_builder.build_model(\"phi4:14b-q8_0\"),  # => 16 GB\n",
    "        # Qwen2.5\n",
    "        model_builder.build_model(\"qwen2.5:0.5b-instruct-fp16\"),  # => 1 GB\n",
    "        model_builder.build_model(\"qwen2.5:1.5b-instruct-fp16\"),  # => 3.1 GB\n",
    "        model_builder.build_model(\"qwen2.5:3b-instruct-fp16\"),  # => 6.2 GB\n",
    "        model_builder.build_model(\"qwen2.5:7b-instruct-q8_0\"),  # => 8.1 GB\n",
    "        model_builder.build_model(\"qwen2.5:14b-instruct-q8_0\"),  # => 16 GB\n",
    "        model_builder.build_model(\"qwen2.5:32b-instruct-q4_K_M\"),  # => 20 GB\n",
    "        # Gemma2\n",
    "        model_builder.build_model(\"gemma2:2b-instruct-fp16\"),  # => 5.2 GB\n",
    "        model_builder.build_model(\"gemma2:9b-instruct-q8_0\"),  # => 9.8 GB\n",
    "        model_builder.build_model(\"gemma2:27b-instruct-q4_K_M\"),  # => 22 GB\n",
    "        # Mistral Nemo\n",
    "        model_builder.build_model(\"mistral-nemo:12b-instruct-2407-q8_0\"),  # => 13 GB\n",
    "    ]\n",
    ")"
   ]
  },
  {
   "cell_type": "code",
   "execution_count": 5,
   "metadata": {},
   "outputs": [],
   "source": [
    "import numpy as np\n",
    "\n",
    "from scripts.executor import Dataset\n",
    "\n",
    "# Set fixed seed for reproducibility\n",
    "np.random.seed(42)\n",
    "\n",
    "maximal_n = 8\n",
    "\n",
    "\n",
    "def create_n_shot_dataset(\n",
    "    data: list[RiddleQuestion],\n",
    "    name: str,\n",
    "    example_count: int = 10,\n",
    ") -> tuple[list[RiddleQuestion], Dataset]:\n",
    "    \"\"\"\n",
    "    Create a few-shot learning dataset by selecting diverse examples and the remaining data for testing.\n",
    "\n",
    "    Args:\n",
    "        data: List of riddle questions\n",
    "        name: Name of the dataset\n",
    "        example_count: Number of examples to use for few-shot learning\n",
    "\n",
    "    Returns:\n",
    "        tuple: (examples for few-shot learning, remaining dataset for testing)\n",
    "    \"\"\"\n",
    "    # Group data by answer choice\n",
    "    answer_groups = {}\n",
    "    for i, question in enumerate(data):\n",
    "        answer = question.label\n",
    "        if answer not in answer_groups:\n",
    "            answer_groups[answer] = []\n",
    "        answer_groups[answer].append(i)\n",
    "\n",
    "    # Select diverse examples for few-shot learning\n",
    "    example_indices = []\n",
    "    answers = list(answer_groups.keys())\n",
    "\n",
    "    # Distribute examples evenly across answer choices\n",
    "    while len(example_indices) < example_count and answers:\n",
    "        for answer in list(answers):  # Use a copy to safely modify during iteration\n",
    "            if answer_groups[answer]:\n",
    "                example_indices.append(answer_groups[answer].pop(0))\n",
    "                if len(example_indices) >= example_count:\n",
    "                    break\n",
    "            else:\n",
    "                answers.remove(answer)\n",
    "\n",
    "    # If we still need more examples, take randomly from remaining data\n",
    "    if len(example_indices) < example_count:\n",
    "        remaining_indices = [i for i in range(len(data)) if i not in example_indices]\n",
    "        np.random.shuffle(remaining_indices)\n",
    "        example_indices.extend(\n",
    "            remaining_indices[: example_count - len(example_indices)]\n",
    "        )\n",
    "\n",
    "    # Get the examples\n",
    "    examples = [data[i] for i in sorted(example_indices[:example_count])]\n",
    "\n",
    "    # Create dataset from all remaining data (not used as examples)\n",
    "    remaining_indices = [i for i in range(len(data)) if i not in example_indices]\n",
    "    test_dataset = Dataset(name=name, riddles=[data[i] for i in remaining_indices])\n",
    "\n",
    "    return examples, test_dataset\n",
    "\n",
    "\n",
    "# Create test datasets\n",
    "sp_examples, sp_data = create_n_shot_dataset(dataset.sp, \"sp\", example_count=maximal_n)\n",
    "wp_examples, wp_data = create_n_shot_dataset(dataset.wp, \"wp\", example_count=maximal_n)\n",
    "\n",
    "# Prepare executor data\n",
    "executor_data = [sp_data, wp_data]"
   ]
  },
  {
   "cell_type": "markdown",
   "metadata": {},
   "source": [
    "### Few Shot Helpers\n"
   ]
  },
  {
   "cell_type": "code",
   "execution_count": 6,
   "metadata": {},
   "outputs": [],
   "source": [
    "from collections.abc import Callable\n",
    "\n",
    "import dill as pickle\n",
    "from langchain_core.prompts import ChatPromptTemplate\n",
    "\n",
    "from scripts.prompt_helpers import TemplateNameType, get_few_shot_chat_template\n",
    "\n",
    "# Get the best prompt type for each model\n",
    "with open(\"results/best_n_value_by_model.pkl\", \"rb\") as f:\n",
    "    best_n_value_by_model = pickle.load(f)\n",
    "\n",
    "\n",
    "def few_shot_prompt_template_generator(\n",
    "    model_name: str, dataset: Dataset\n",
    ") -> Callable[[str], ChatPromptTemplate]:\n",
    "    if dataset.name == \"sp\":\n",
    "        few_shot_examples = sp_examples\n",
    "    elif dataset.name == \"wp\":\n",
    "        few_shot_examples = wp_examples\n",
    "    else:\n",
    "        raise ValueError(f\"Unknown dataset: {dataset.name}\")\n",
    "\n",
    "    model_name = model_name[0 : model_name.index(\"b-\") + 1]\n",
    "    best_system_template_name: TemplateNameType = \"default\"\n",
    "    number_of_shots = best_n_value_by_model[model_name][dataset.name]\n",
    "    template = get_few_shot_chat_template(\n",
    "        few_shot_examples,\n",
    "        args_generator,\n",
    "        best_system_template_name,\n",
    "        number_of_shots,\n",
    "    )\n",
    "    return template"
   ]
  },
  {
   "cell_type": "code",
   "execution_count": 7,
   "metadata": {},
   "outputs": [
    {
     "name": "stderr",
     "output_type": "stream",
     "text": [
      "2025-03-11 22:52:55,744 - INFO - Starting execution 'baseline-few-shot-evaluation': 2 dataset(s) x 15 model(s) = 16545 riddle evaluations\n"
     ]
    },
    {
     "data": {
      "application/vnd.jupyter.widget-view+json": {
       "model_id": "2bb53647769844e790a2a5a93878c675",
       "version_major": 2,
       "version_minor": 0
      },
      "text/plain": [
       "baseline-few-shot-evaluation:   0%|          | 0/16545 [00:00<?, ?it/s]"
      ]
     },
     "metadata": {},
     "output_type": "display_data"
    },
    {
     "name": "stderr",
     "output_type": "stream",
     "text": [
      "2025-03-12 00:22:56,074 - INFO - Saving results to results/baseline-few-shot-evaluation/baseline-few-shot-evaluation_results.pkl\n",
      "2025-03-12 00:23:08,597 - INFO - Execution 'baseline-few-shot-evaluation' completed successfully.\n"
     ]
    }
   ],
   "source": [
    "results = await executor.aexecute(\n",
    "    executor_data,\n",
    "    lambda model_name, dataset: few_shot_prompt_template_generator(model_name, dataset),\n",
    "    args_generator,\n",
    "    dump_to_pickle=True,\n",
    "    create_checkpoints=True,\n",
    "    resume_from_checkpoint=True,\n",
    "    run_name=\"baseline_few-shot_evaluation\",\n",
    ")"
   ]
  }
 ],
 "metadata": {
  "kernelspec": {
   "display_name": ".venv",
   "language": "python",
   "name": "python3"
  },
  "language_info": {
   "codemirror_mode": {
    "name": "ipython",
    "version": 3
   },
   "file_extension": ".py",
   "mimetype": "text/x-python",
   "name": "python",
   "nbconvert_exporter": "python",
   "pygments_lexer": "ipython3",
   "version": "3.11.4"
  }
 },
 "nbformat": 4,
 "nbformat_minor": 2
}
