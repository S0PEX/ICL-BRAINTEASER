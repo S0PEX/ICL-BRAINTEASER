{
 "cells": [
  {
   "cell_type": "code",
   "execution_count": 9,
   "metadata": {},
   "outputs": [],
   "source": [
    "import re\n",
    "import string\n",
    "\n",
    "from scripts.executor import ExecutionResult\n",
    "\n",
    "\n",
    "def eval_model_results(results: list[ExecutionResult], message_extactor=None):\n",
    "    tmp = []\n",
    "    for result in results:\n",
    "        riddle_answer = result.riddle.answer\n",
    "        riddle_answer_letter = string.ascii_uppercase[result.riddle.label]\n",
    "        model_answer = result.model_output.get_ai_response().content\n",
    "        if message_extactor:\n",
    "            model_answer = message_extactor(model_answer)\n",
    "        correct = riddle_answer_letter == model_answer or model_answer == riddle_answer\n",
    "        if not correct:\n",
    "            regex_res = re.search(r\"\\((A|B|C|D)\\)\", model_answer)\n",
    "            if model_answer.startswith(\"(\"):\n",
    "                model_answer = model_answer[1:2]\n",
    "            elif model_answer.startswith(\n",
    "                (\n",
    "                    f\"{riddle_answer_letter} \",\n",
    "                    f\"{riddle_answer_letter})\",\n",
    "                    f\"{riddle_answer_letter}\\n\",\n",
    "                    f\"{riddle_answer_letter}.\",\n",
    "                )\n",
    "            ):\n",
    "                model_answer = model_answer[0:1]\n",
    "            elif model_answer.startswith(\n",
    "                f\"**{riddle_answer_letter}\",\n",
    "            ):\n",
    "                model_answer = model_answer[2:3]\n",
    "            elif regex_res:\n",
    "                model_answer = regex_res.group(1)\n",
    "\n",
    "        # Update the model answer in the result, as it might have been changed\n",
    "        correct = riddle_answer_letter == model_answer or model_answer.startswith(\n",
    "            riddle_answer\n",
    "        )\n",
    "        tmp.append(correct)\n",
    "    correct_answers = sum(tmp)\n",
    "    total_answers = len(tmp)\n",
    "    correct_answers_percentage = correct_answers / total_answers * 100\n",
    "    return correct_answers_percentage"
   ]
  },
  {
   "cell_type": "code",
   "execution_count": 7,
   "metadata": {},
   "outputs": [
    {
     "name": "stdout",
     "output_type": "stream",
     "text": [
      "llama3.1:8b: 45.13556618819777%\n",
      "llama3.2:1b: 9.090909090909092%\n",
      "llama3.2:3b: 25.996810207336523%\n",
      "phi3.5:3.8b: 1.1164274322169059%\n",
      "phi4:14b: 75.11961722488039%\n",
      "qwen2.5:0.5b: 17.22488038277512%\n",
      "qwen2.5:1.5b: 15.94896331738437%\n",
      "qwen2.5:3b: 20.095693779904305%\n",
      "qwen2.5:7b: 51.03668261562998%\n",
      "qwen2.5:14b: 56.61881977671451%\n",
      "qwen2.5:32b: 68.74003189792663%\n",
      "gemma2:2b: 11.164274322169058%\n",
      "gemma2:9b: 76.39553429027113%\n",
      "gemma2:27b: 82.93460925039872%\n",
      "mistral-nemo:12b: 49.122807017543856%\n",
      "\n",
      "\n",
      "\n",
      "\n",
      "llama3.1:8b: 35.77235772357724%\n",
      "llama3.2:1b: 2.0325203252032518%\n",
      "llama3.2:3b: 15.650406504065039%\n",
      "phi3.5:3.8b: 1.8292682926829267%\n",
      "phi4:14b: 64.02439024390245%\n",
      "qwen2.5:0.5b: 12.398373983739837%\n",
      "qwen2.5:1.5b: 3.2520325203252036%\n",
      "qwen2.5:3b: 10.365853658536585%\n",
      "qwen2.5:7b: 7.926829268292683%\n",
      "qwen2.5:14b: 29.065040650406505%\n",
      "qwen2.5:32b: 54.87804878048781%\n",
      "gemma2:2b: 3.4552845528455287%\n",
      "gemma2:9b: 63.41463414634146%\n",
      "gemma2:27b: 68.69918699186992%\n",
      "mistral-nemo:12b: 24.390243902439025%\n"
     ]
    }
   ],
   "source": [
    "import dill as pickle\n",
    "\n",
    "results_wrapper = None\n",
    "with open(\"results/sp_results_naive.pkl\", \"rb\") as f:\n",
    "    results_wrapper = pickle.load(f)\n",
    "\n",
    "for model, results in results_wrapper.items():\n",
    "    print(f\"{model}: {eval_model_results(results)}%\")\n",
    "\n",
    "print(\"\\n\")\n",
    "print(\"\\n\")\n",
    "with open(\"results/wp_results_naive.pkl\", \"rb\") as f:\n",
    "    results_wrapper = pickle.load(f)\n",
    "\n",
    "for model, results in results_wrapper.items():\n",
    "    print(f\"{model}: {eval_model_results(results)}%\")"
   ]
  },
  {
   "cell_type": "code",
   "execution_count": 11,
   "metadata": {},
   "outputs": [
    {
     "name": "stdout",
     "output_type": "stream",
     "text": [
      "40.5103668261563\n"
     ]
    }
   ],
   "source": [
    "def extract_deepseek_answer(model_answer: str):\n",
    "    think_end_index = model_answer.find(\"</think>\")\n",
    "    if think_end_index == -1:\n",
    "        return model_answer\n",
    "    return model_answer[think_end_index + 8 :]  # 8 is the length of \"</think>\"\n",
    "\n",
    "\n",
    "deepspeed_results = None\n",
    "with open(\n",
    "    \"results/checkpoints/sp_results_naive_async/deepseek-r1:8b_sp_results_naive_async.pkl\",\n",
    "    \"rb\",\n",
    ") as f:\n",
    "    deepspeed_results = pickle.load(f)\n",
    "\n",
    "    print(eval_model_results(deepspeed_results, extract_deepseek_answer))"
   ]
  },
  {
   "cell_type": "code",
   "execution_count": null,
   "metadata": {},
   "outputs": [],
   "source": [
    "import numpy as np\n",
    "\n",
    "results = np.load(\n",
    "    \"results/checkpoints/sp_results_few_shot_n_{n_shots}/llama3.1:8b_sp_results_few_shot_n_{n_shots}.pkl\",\n",
    "    allow_pickle=True,\n",
    ")\n",
    "display(results)"
   ]
  }
 ],
 "metadata": {
  "kernelspec": {
   "display_name": ".venv",
   "language": "python",
   "name": "python3"
  },
  "language_info": {
   "codemirror_mode": {
    "name": "ipython",
    "version": 3
   },
   "file_extension": ".py",
   "mimetype": "text/x-python",
   "name": "python",
   "nbconvert_exporter": "python",
   "pygments_lexer": "ipython3",
   "version": "3.11.4"
  }
 },
 "nbformat": 4,
 "nbformat_minor": 2
}
